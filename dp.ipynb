{
 "metadata": {
  "language_info": {
   "codemirror_mode": {
    "name": "ipython",
    "version": 3
   },
   "file_extension": ".py",
   "mimetype": "text/x-python",
   "name": "python",
   "nbconvert_exporter": "python",
   "pygments_lexer": "ipython3",
   "version": "3.8.8"
  },
  "orig_nbformat": 2,
  "kernelspec": {
   "name": "python388jvsc74a57bd0460b51f6ed046e405da95a3729b6f73ad82c9f1a5cf67a3b6e7d484257d85fb3",
   "display_name": "Python 3.8.8 64-bit ('RL': conda)"
  }
 },
 "nbformat": 4,
 "nbformat_minor": 2,
 "cells": [
  {
   "cell_type": "code",
   "execution_count": 1,
   "metadata": {},
   "outputs": [],
   "source": [
    "import torch\n",
    "import gym"
   ]
  },
  {
   "source": [
    "## Markov Decision Process (MDP)\n",
    "Markov chains(Probability matrices) are used to solve the Bellman Equation by finding the inverse of the probability/Markov matrix. \n",
    "\n",
    "The method is not scalable due to the computational complexity of calculating inverses of large matrices."
   ],
   "cell_type": "markdown",
   "metadata": {}
  },
  {
   "cell_type": "code",
   "execution_count": 2,
   "metadata": {},
   "outputs": [],
   "source": [
    "probs = torch.tensor([[[0.8, 0.1, 0.1], [0.1, 0.6, 0.3]], \n",
    "                     [[0.7, 0.2, 0.1], [.1, 0.8, 0.1]], \n",
    "                     [[0.6, 0.2, 0.2], [0.1, 0.4, 0.5]]])\n",
    "   \n",
    "reward = torch.tensor([1.0, 0.0, -1.0])\n",
    "gamma = 0.5\n",
    "\n",
    "action = 0"
   ]
  },
  {
   "cell_type": "code",
   "execution_count": 3,
   "metadata": {},
   "outputs": [],
   "source": [
    "def mat_inverse(gamma, t_matrix, reward):\n",
    "    inv = torch.inverse(torch.eye(reward.shape[0]) - gamma * t_matrix)    # (I - gamma*T)^-1\n",
    "    return torch.matmul(inv, reward.reshape(-1, 1))                       # inv * reward"
   ]
  },
  {
   "cell_type": "code",
   "execution_count": 4,
   "metadata": {},
   "outputs": [
    {
     "output_type": "stream",
     "name": "stdout",
     "text": [
      "Optimal policy value function: \n tensor([[ 1.6787],\n        [ 0.6260],\n        [-0.4820]])\n"
     ]
    }
   ],
   "source": [
    "t_mat = probs[:, action]\n",
    "V = mat_inverse(gamma, t_mat, reward)\n",
    "print(\"Optimal policy value function: \\n\", V)"
   ]
  },
  {
   "source": [
    "## Policy Evaluation\n",
    "Iteratively solve the Bellman Expectation equation approximately to an error threshold. As the threshold approaches 0, the solution converges to the optimal value.\n",
    "\n",
    "Used to approximate the reward from a given policy."
   ],
   "cell_type": "markdown",
   "metadata": {}
  },
  {
   "cell_type": "code",
   "execution_count": 5,
   "metadata": {},
   "outputs": [],
   "source": [
    "thres = 0.0001\n",
    "optimal_policy = torch.tensor([[1.0, 0.0], [1.0, 0.0], [1.0, 0.0]])  # Action 1 always preferred (Optimal policy)\n",
    "\n",
    "def policy_evaluation(policy, t_mat, gamma, reward, threshold):\n",
    "    \"\"\"\n",
    "    policy: Policy to evaluate\n",
    "    t_mat: transformation (probability) matrix\n",
    "    reward: state rewards\n",
    "    gamma: discount rate\n",
    "    threshold: error threshold\n",
    "    \"\"\"\n",
    "    num_states = policy.shape[0]\n",
    "    V = torch.zeros(num_states)                                # Initialize to 0\n",
    "    max_delta = threshold + 1\n",
    "    count = 0\n",
    "    while max_delta > threshold:\n",
    "        temp = torch.zeros(num_states)                          \n",
    "        for state, actions in enumerate(policy):\n",
    "            for action, action_prob in enumerate(actions):\n",
    "                temp[state] += action_prob * (reward[state] + gamma \n",
    "                * torch.dot(t_mat[state], V))                  # Update values based on Bellman eqn\n",
    "        max_delta = torch.max(torch.abs(V - temp))             # Max change\n",
    "        if (count % 20 == 0):\n",
    "            print(max_delta)\n",
    "        count += 1\n",
    "        V = temp.clone()\n",
    "    return V\n",
    "                "
   ]
  },
  {
   "source": [
    "V = policy_evaluation(optimal_policy, t_mat, gamma, reward, thres)\n",
    "print(\"Optimal policy value function: \\n\", V)"
   ],
   "cell_type": "code",
   "metadata": {
    "tags": []
   },
   "execution_count": 6,
   "outputs": [
    {
     "output_type": "stream",
     "name": "stdout",
     "text": [
      "tensor(1.)\nOptimal policy value function: \n tensor([ 1.6786,  0.6260, -0.4821])\n"
     ]
    }
   ]
  },
  {
   "source": [
    "# FrozenLake \n",
    "Reach the goal (G) from the start square (S) avoiding the holes (H).\n",
    "4 movement directions: left(0), down(1), up(2) and right(3).\n",
    "\n",
    "16 possible states:\n",
    "\n",
    "0  1  2  3\n",
    "\n",
    "4  5  6  7\n",
    "\n",
    "8  9  10 11\n",
    "\n",
    "12 13 14 15\n",
    "\n",
    "This notebook works for both the 4x4 and 8x8 variants of FrozenLake. Just change the env name.\n"
   ],
   "cell_type": "markdown",
   "metadata": {}
  },
  {
   "cell_type": "code",
   "execution_count": 69,
   "metadata": {},
   "outputs": [
    {
     "output_type": "execute_result",
     "data": {
      "text/plain": [
       "(64, 4)"
      ]
     },
     "metadata": {},
     "execution_count": 69
    }
   ],
   "source": [
    "env = gym.make(\"FrozenLake-v0\") \n",
    "# env = gym.make(\"FrozenLake8x8-v0\")\n",
    "num_states = env.observation_space.n\n",
    "num_actions = env.action_space.n\n",
    "num_states, num_actions"
   ]
  },
  {
   "cell_type": "code",
   "execution_count": 70,
   "metadata": {},
   "outputs": [
    {
     "output_type": "stream",
     "name": "stdout",
     "text": [
      "0\n\n\u001b[41mS\u001b[0mFFFFFFF\nFFFFFFFF\nFFFHFFFF\nFFFFFHFF\nFFFHFFFF\nFHHFFFHF\nFHFFHFHF\nFFFHFFFG\n"
     ]
    }
   ],
   "source": [
    "env.reset()\n",
    "print(env.reset())\n",
    "env.render()"
   ]
  },
  {
   "cell_type": "code",
   "execution_count": 71,
   "metadata": {},
   "outputs": [
    {
     "output_type": "stream",
     "name": "stdout",
     "text": [
      "  (Down)\nS\u001b[41mF\u001b[0mFFFFFF\nFFFFFFFF\nFFFHFFFF\nFFFFFHFF\nFFFHFFFF\nFHHFFFHF\nFHFFHFHF\nFFFHFFFG\n"
     ]
    }
   ],
   "source": [
    "new_state, reward, is_done, info = env.step(1)\n",
    "env.render()"
   ]
  },
  {
   "cell_type": "code",
   "execution_count": 72,
   "metadata": {},
   "outputs": [
    {
     "output_type": "stream",
     "name": "stdout",
     "text": [
      "1 0.0 {'prob': 0.3333333333333333}\n"
     ]
    }
   ],
   "source": [
    "print(new_state, reward, info)"
   ]
  },
  {
   "cell_type": "code",
   "execution_count": 73,
   "metadata": {},
   "outputs": [],
   "source": [
    "def run_episode(env, policy):\n",
    "    state = env.reset()\n",
    "    total_reward = 0\n",
    "    is_done = False\n",
    "    while not is_done:\n",
    "        action = policy[state].item()\n",
    "        state, reward, is_done, info = env.step(action)\n",
    "        total_reward += reward\n",
    "    return total_reward"
   ]
  },
  {
   "source": [
    "## Random Policy\n",
    "Does not work since there's a probability the agent will not perform the action as specified."
   ],
   "cell_type": "markdown",
   "metadata": {}
  },
  {
   "cell_type": "code",
   "execution_count": 75,
   "metadata": {},
   "outputs": [
    {
     "output_type": "stream",
     "name": "stdout",
     "text": [
      "Success rate over 1000 episodes: 0.1%\n",
      "Best policy tensor([3, 2, 2, 1, 1, 0, 3, 1, 0, 0, 1, 2, 0, 1, 3, 0, 0, 0, 2, 1, 1, 2, 0, 2,\n",
      "        1, 3, 1, 0, 3, 3, 0, 2, 0, 0, 1, 0, 3, 3, 2, 2, 3, 0, 2, 3, 0, 3, 3, 2,\n",
      "        2, 1, 2, 2, 3, 2, 1, 1, 1, 0, 0, 3, 0, 2, 2, 2])\n",
      "Success rate over 1000 episodes: 0.5%\n"
     ]
    }
   ],
   "source": [
    "NUM_EPISODES = 1000\n",
    "total_reward = []\n",
    "best_policy = None\n",
    "for n in range(NUM_EPISODES):\n",
    "    random_policy = torch.randint(high=num_actions, size=(num_states,))\n",
    "    reward = run_episode(env, random_policy)\n",
    "    total_reward.append(reward)\n",
    "    if reward == 1:\n",
    "        best_policy = random_policy\n",
    "\n",
    "print(f\"Success rate over {NUM_EPISODES} episodes: {sum(total_reward) * 100 / NUM_EPISODES}%\")\n",
    "\n",
    "total_reward = []\n",
    "for n in range(NUM_EPISODES):\n",
    "    total_reward.append(run_episode(env, best_policy))\n",
    "\n",
    "print(\"Best policy\", best_policy)\n",
    "print(f\"Success rate over {NUM_EPISODES} episodes: {sum(total_reward) * 100 / NUM_EPISODES}%\")\n"
   ]
  },
  {
   "cell_type": "code",
   "execution_count": 35,
   "metadata": {},
   "outputs": [
    {
     "output_type": "stream",
     "name": "stdout",
     "text": [
      "{0: {0: [(0.3333333333333333, 0, 0.0, False),\n         (0.3333333333333333, 0, 0.0, False),\n         (0.3333333333333333, 4, 0.0, False)],\n     1: [(0.3333333333333333, 0, 0.0, False),\n         (0.3333333333333333, 4, 0.0, False),\n         (0.3333333333333333, 1, 0.0, False)],\n     2: [(0.3333333333333333, 4, 0.0, False),\n         (0.3333333333333333, 1, 0.0, False),\n         (0.3333333333333333, 0, 0.0, False)],\n     3: [(0.3333333333333333, 1, 0.0, False),\n         (0.3333333333333333, 0, 0.0, False),\n         (0.3333333333333333, 0, 0.0, False)]},\n 1: {0: [(0.3333333333333333, 1, 0.0, False),\n         (0.3333333333333333, 0, 0.0, False),\n         (0.3333333333333333, 5, 0.0, True)],\n     1: [(0.3333333333333333, 0, 0.0, False),\n         (0.3333333333333333, 5, 0.0, True),\n         (0.3333333333333333, 2, 0.0, False)],\n     2: [(0.3333333333333333, 5, 0.0, True),\n         (0.3333333333333333, 2, 0.0, False),\n         (0.3333333333333333, 1, 0.0, False)],\n     3: [(0.3333333333333333, 2, 0.0, False),\n         (0.3333333333333333, 1, 0.0, False),\n         (0.3333333333333333, 0, 0.0, False)]},\n 2: {0: [(0.3333333333333333, 2, 0.0, False),\n         (0.3333333333333333, 1, 0.0, False),\n         (0.3333333333333333, 6, 0.0, False)],\n     1: [(0.3333333333333333, 1, 0.0, False),\n         (0.3333333333333333, 6, 0.0, False),\n         (0.3333333333333333, 3, 0.0, False)],\n     2: [(0.3333333333333333, 6, 0.0, False),\n         (0.3333333333333333, 3, 0.0, False),\n         (0.3333333333333333, 2, 0.0, False)],\n     3: [(0.3333333333333333, 3, 0.0, False),\n         (0.3333333333333333, 2, 0.0, False),\n         (0.3333333333333333, 1, 0.0, False)]},\n 3: {0: [(0.3333333333333333, 3, 0.0, False),\n         (0.3333333333333333, 2, 0.0, False),\n         (0.3333333333333333, 7, 0.0, True)],\n     1: [(0.3333333333333333, 2, 0.0, False),\n         (0.3333333333333333, 7, 0.0, True),\n         (0.3333333333333333, 3, 0.0, False)],\n     2: [(0.3333333333333333, 7, 0.0, True),\n         (0.3333333333333333, 3, 0.0, False),\n         (0.3333333333333333, 3, 0.0, False)],\n     3: [(0.3333333333333333, 3, 0.0, False),\n         (0.3333333333333333, 3, 0.0, False),\n         (0.3333333333333333, 2, 0.0, False)]},\n 4: {0: [(0.3333333333333333, 0, 0.0, False),\n         (0.3333333333333333, 4, 0.0, False),\n         (0.3333333333333333, 8, 0.0, False)],\n     1: [(0.3333333333333333, 4, 0.0, False),\n         (0.3333333333333333, 8, 0.0, False),\n         (0.3333333333333333, 5, 0.0, True)],\n     2: [(0.3333333333333333, 8, 0.0, False),\n         (0.3333333333333333, 5, 0.0, True),\n         (0.3333333333333333, 0, 0.0, False)],\n     3: [(0.3333333333333333, 5, 0.0, True),\n         (0.3333333333333333, 0, 0.0, False),\n         (0.3333333333333333, 4, 0.0, False)]},\n 5: {0: [(1.0, 5, 0, True)],\n     1: [(1.0, 5, 0, True)],\n     2: [(1.0, 5, 0, True)],\n     3: [(1.0, 5, 0, True)]},\n 6: {0: [(0.3333333333333333, 2, 0.0, False),\n         (0.3333333333333333, 5, 0.0, True),\n         (0.3333333333333333, 10, 0.0, False)],\n     1: [(0.3333333333333333, 5, 0.0, True),\n         (0.3333333333333333, 10, 0.0, False),\n         (0.3333333333333333, 7, 0.0, True)],\n     2: [(0.3333333333333333, 10, 0.0, False),\n         (0.3333333333333333, 7, 0.0, True),\n         (0.3333333333333333, 2, 0.0, False)],\n     3: [(0.3333333333333333, 7, 0.0, True),\n         (0.3333333333333333, 2, 0.0, False),\n         (0.3333333333333333, 5, 0.0, True)]},\n 7: {0: [(1.0, 7, 0, True)],\n     1: [(1.0, 7, 0, True)],\n     2: [(1.0, 7, 0, True)],\n     3: [(1.0, 7, 0, True)]},\n 8: {0: [(0.3333333333333333, 4, 0.0, False),\n         (0.3333333333333333, 8, 0.0, False),\n         (0.3333333333333333, 12, 0.0, True)],\n     1: [(0.3333333333333333, 8, 0.0, False),\n         (0.3333333333333333, 12, 0.0, True),\n         (0.3333333333333333, 9, 0.0, False)],\n     2: [(0.3333333333333333, 12, 0.0, True),\n         (0.3333333333333333, 9, 0.0, False),\n         (0.3333333333333333, 4, 0.0, False)],\n     3: [(0.3333333333333333, 9, 0.0, False),\n         (0.3333333333333333, 4, 0.0, False),\n         (0.3333333333333333, 8, 0.0, False)]},\n 9: {0: [(0.3333333333333333, 5, 0.0, True),\n         (0.3333333333333333, 8, 0.0, False),\n         (0.3333333333333333, 13, 0.0, False)],\n     1: [(0.3333333333333333, 8, 0.0, False),\n         (0.3333333333333333, 13, 0.0, False),\n         (0.3333333333333333, 10, 0.0, False)],\n     2: [(0.3333333333333333, 13, 0.0, False),\n         (0.3333333333333333, 10, 0.0, False),\n         (0.3333333333333333, 5, 0.0, True)],\n     3: [(0.3333333333333333, 10, 0.0, False),\n         (0.3333333333333333, 5, 0.0, True),\n         (0.3333333333333333, 8, 0.0, False)]},\n 10: {0: [(0.3333333333333333, 6, 0.0, False),\n          (0.3333333333333333, 9, 0.0, False),\n          (0.3333333333333333, 14, 0.0, False)],\n      1: [(0.3333333333333333, 9, 0.0, False),\n          (0.3333333333333333, 14, 0.0, False),\n          (0.3333333333333333, 11, 0.0, True)],\n      2: [(0.3333333333333333, 14, 0.0, False),\n          (0.3333333333333333, 11, 0.0, True),\n          (0.3333333333333333, 6, 0.0, False)],\n      3: [(0.3333333333333333, 11, 0.0, True),\n          (0.3333333333333333, 6, 0.0, False),\n          (0.3333333333333333, 9, 0.0, False)]},\n 11: {0: [(1.0, 11, 0, True)],\n      1: [(1.0, 11, 0, True)],\n      2: [(1.0, 11, 0, True)],\n      3: [(1.0, 11, 0, True)]},\n 12: {0: [(1.0, 12, 0, True)],\n      1: [(1.0, 12, 0, True)],\n      2: [(1.0, 12, 0, True)],\n      3: [(1.0, 12, 0, True)]},\n 13: {0: [(0.3333333333333333, 9, 0.0, False),\n          (0.3333333333333333, 12, 0.0, True),\n          (0.3333333333333333, 13, 0.0, False)],\n      1: [(0.3333333333333333, 12, 0.0, True),\n          (0.3333333333333333, 13, 0.0, False),\n          (0.3333333333333333, 14, 0.0, False)],\n      2: [(0.3333333333333333, 13, 0.0, False),\n          (0.3333333333333333, 14, 0.0, False),\n          (0.3333333333333333, 9, 0.0, False)],\n      3: [(0.3333333333333333, 14, 0.0, False),\n          (0.3333333333333333, 9, 0.0, False),\n          (0.3333333333333333, 12, 0.0, True)]},\n 14: {0: [(0.3333333333333333, 10, 0.0, False),\n          (0.3333333333333333, 13, 0.0, False),\n          (0.3333333333333333, 14, 0.0, False)],\n      1: [(0.3333333333333333, 13, 0.0, False),\n          (0.3333333333333333, 14, 0.0, False),\n          (0.3333333333333333, 15, 1.0, True)],\n      2: [(0.3333333333333333, 14, 0.0, False),\n          (0.3333333333333333, 15, 1.0, True),\n          (0.3333333333333333, 10, 0.0, False)],\n      3: [(0.3333333333333333, 15, 1.0, True),\n          (0.3333333333333333, 10, 0.0, False),\n          (0.3333333333333333, 13, 0.0, False)]},\n 15: {0: [(1.0, 15, 0, True)],\n      1: [(1.0, 15, 0, True)],\n      2: [(1.0, 15, 0, True)],\n      3: [(1.0, 15, 0, True)]}}\n"
     ]
    }
   ],
   "source": [
    "from pprint import pprint\n",
    "pprint(env.env.P)"
   ]
  },
  {
   "source": [
    "## Value iteration\n",
    "Pick action with the highest policy value instead of expected value(average). Better when there are fewer actions to choose from."
   ],
   "cell_type": "markdown",
   "metadata": {}
  },
  {
   "cell_type": "code",
   "execution_count": 76,
   "metadata": {},
   "outputs": [],
   "source": [
    "def value_iteration(env, gamma=0.99, thres = 0.0001):\n",
    "    num_states, num_actions = env.observation_space.n, env.action_space.n\n",
    "    V = torch.zeros(num_states)\n",
    "    max_delta = thres + 1\n",
    "    while max_delta > thres:\n",
    "        temp = torch.zeros(num_states)\n",
    "        for state in range(num_states):\n",
    "            v_actions = torch.zeros(num_actions)\n",
    "            for action in range(num_actions):\n",
    "                for proba, new_state, reward, is_done in env.env.P[state][action]:\n",
    "                    v_actions[action] += proba * (reward + gamma * V[new_state])    # Value iteration \n",
    "            temp[state] = torch.max(v_actions)              # Select the action with the highest reward\n",
    "        max_delta = torch.max(torch.abs(V - temp))\n",
    "        V = temp.clone()\n",
    "    return V"
   ]
  },
  {
   "cell_type": "code",
   "execution_count": 77,
   "metadata": {},
   "outputs": [
    {
     "output_type": "stream",
     "name": "stdout",
     "text": [
      "Optimal values:\n tensor([0.4133, 0.4259, 0.4450, 0.4673, 0.4915, 0.5158, 0.5345, 0.5402, 0.4103,\n        0.4199, 0.4363, 0.4573, 0.4823, 0.5127, 0.5450, 0.5567, 0.3953, 0.3925,\n        0.3743, 0.0000, 0.4209, 0.4930, 0.5605, 0.5852, 0.3679, 0.3517, 0.3055,\n        0.1998, 0.3001, 0.0000, 0.5684, 0.6277, 0.3306, 0.2899, 0.1965, 0.0000,\n        0.2888, 0.3615, 0.5343, 0.6892, 0.3035, 0.0000, 0.0000, 0.0861, 0.2136,\n        0.2724, 0.0000, 0.7717, 0.2859, 0.0000, 0.0571, 0.0472, 0.0000, 0.2504,\n        0.0000, 0.8776, 0.2772, 0.1984, 0.1257, 0.0000, 0.2395, 0.4863, 0.7371,\n        0.0000])\n"
     ]
    }
   ],
   "source": [
    "optimal_values = value_iteration(env)\n",
    "print(\"Optimal values:\\n\",  optimal_values)"
   ]
  },
  {
   "cell_type": "code",
   "execution_count": 78,
   "metadata": {},
   "outputs": [],
   "source": [
    "def extract_optimal_policy(env, V, gamma=0.99):\n",
    "    num_states, num_actions = env.observation_space.n, env.action_space.n\n",
    "    optimal_policy = torch.zeros(num_states)\n",
    "    for state in range(num_states):\n",
    "        v_actions = torch.zeros(num_actions)\n",
    "        for action in range(num_actions):\n",
    "            for proba, new_state, reward, _ in env.env.P[state][action]:\n",
    "                v_actions[action] += proba * (reward + gamma * V[new_state])\n",
    "        optimal_policy[state] = torch.argmax(v_actions)\n",
    "    return optimal_policy"
   ]
  },
  {
   "cell_type": "code",
   "execution_count": 79,
   "metadata": {},
   "outputs": [
    {
     "output_type": "stream",
     "name": "stdout",
     "text": [
      "Optimal policy tensor([3., 2., 2., 2., 2., 2., 2., 2., 3., 3., 3., 3., 3., 2., 2., 1., 3., 3.,\n        0., 0., 2., 3., 2., 1., 3., 3., 3., 1., 0., 0., 2., 2., 0., 3., 0., 0.,\n        2., 1., 3., 2., 0., 0., 0., 1., 3., 0., 0., 2., 0., 0., 1., 0., 0., 0.,\n        0., 2., 0., 1., 0., 0., 1., 2., 1., 0.])\n"
     ]
    }
   ],
   "source": [
    "optimal_policy = extract_optimal_policy(env, optimal_values)\n",
    "print(\"Optimal policy\", optimal_policy)"
   ]
  },
  {
   "source": [
    "total_reward = []\n",
    "for n in range(NUM_EPISODES):\n",
    "    total_reward.append(run_episode(env, optimal_policy))\n",
    "print(f\"Success rate over {NUM_EPISODES} episodes: {sum(total_reward) * 100 / NUM_EPISODES}%\")"
   ],
   "cell_type": "code",
   "metadata": {},
   "execution_count": 80,
   "outputs": [
    {
     "output_type": "stream",
     "name": "stdout",
     "text": [
      "Success rate over 1000 episodes: 87.3%\n"
     ]
    }
   ]
  },
  {
   "source": [
    "## Policy Iteration\n",
    "Iteratively evaluate policies and improve them until the optimal policy is reached.\n",
    "If there are a large number of actions, policy iteration converges faster. Also good when a good policy is already known (as a starting point)."
   ],
   "cell_type": "markdown",
   "metadata": {}
  },
  {
   "cell_type": "code",
   "execution_count": 81,
   "metadata": {},
   "outputs": [],
   "source": [
    "def policy_evaluation(env, policy, gamma, threshold):\n",
    "    num_states = env.observation_space.n\n",
    "    V = torch.zeros(num_states)\n",
    "    max_delta = threshold + 1\n",
    "    while max_delta > threshold:\n",
    "        temp = torch.zeros(num_states)\n",
    "        for state in range(num_states):\n",
    "            action = policy[state].item()\n",
    "            for proba, new_state, reward, _ in env.env.P[state][action]:\n",
    "                temp[state] += proba * (reward + V[new_state] * gamma)\n",
    "        max_delta = torch.max(torch.abs(V - temp))\n",
    "        V = temp.clone()\n",
    "    return V\n",
    "\n",
    "def policy_improvement(env, V, gamma):\n",
    "    num_states, num_actions = env.observation_space.n, env.action_space.n\n",
    "    policy = torch.zeros(num_states)\n",
    "    for state in range(num_states):\n",
    "        actions = torch.zeros(num_actions)\n",
    "        for action in range(num_actions):\n",
    "            for proba, new_state, reward, _ in env.env.P[state][action]:\n",
    "                actions[action] += proba * (reward + V[new_state] * gamma)\n",
    "        policy[state] = torch.argmax(actions)\n",
    "    return policy"
   ]
  },
  {
   "cell_type": "code",
   "execution_count": 82,
   "metadata": {},
   "outputs": [],
   "source": [
    "def policy_iteration(env, gamma=0.99, threshold=0.0001):\n",
    "    num_states, num_actions = env.observation_space.n, env.action_space.n\n",
    "    policy = torch.randint(high=num_actions, size=(num_states,)).float()\n",
    "    while True:\n",
    "        V = policy_evaluation(env, policy, gamma=gamma, threshold=threshold)\n",
    "        new_policy = policy_improvement(env, V, gamma=gamma)\n",
    "        if torch.equal(new_policy, policy):\n",
    "            return V, new_policy\n",
    "        policy = new_policy.clone()"
   ]
  },
  {
   "cell_type": "code",
   "execution_count": 83,
   "metadata": {},
   "outputs": [
    {
     "output_type": "stream",
     "name": "stdout",
     "text": [
      "Optimal values:\n",
      " tensor([0.4133, 0.4260, 0.4450, 0.4673, 0.4916, 0.5158, 0.5345, 0.5402, 0.4103,\n",
      "        0.4199, 0.4363, 0.4573, 0.4823, 0.5128, 0.5451, 0.5567, 0.3954, 0.3925,\n",
      "        0.3743, 0.0000, 0.4209, 0.4931, 0.5606, 0.5852, 0.3679, 0.3517, 0.3055,\n",
      "        0.1998, 0.3001, 0.0000, 0.5684, 0.6277, 0.3306, 0.2900, 0.1965, 0.0000,\n",
      "        0.2888, 0.3615, 0.5343, 0.6892, 0.3036, 0.0000, 0.0000, 0.0861, 0.2136,\n",
      "        0.2724, 0.0000, 0.7717, 0.2859, 0.0000, 0.0571, 0.0472, 0.0000, 0.2504,\n",
      "        0.0000, 0.8776, 0.2772, 0.1984, 0.1257, 0.0000, 0.2395, 0.4863, 0.7371,\n",
      "        0.0000])\n",
      "Optimal policy tensor([3., 2., 2., 2., 2., 2., 2., 2., 3., 3., 3., 3., 3., 2., 2., 1., 3., 3.,\n",
      "        0., 0., 2., 3., 2., 1., 3., 3., 3., 1., 0., 0., 2., 2., 0., 3., 0., 0.,\n",
      "        2., 1., 3., 2., 0., 0., 0., 1., 3., 0., 0., 2., 0., 0., 1., 0., 0., 0.,\n",
      "        0., 2., 0., 1., 0., 0., 1., 2., 1., 0.])\n",
      "Success rate over 1000 episodes: 84.3%\n"
     ]
    }
   ],
   "source": [
    "V_optimal, optimal_policy = policy_iteration(env)\n",
    "print(\"Optimal values:\\n\",  V_optimal)\n",
    "print(\"Optimal policy\", optimal_policy)\n",
    "\n",
    "total_reward = []\n",
    "for n in range(NUM_EPISODES):\n",
    "    total_reward.append(run_episode(env, optimal_policy))\n",
    "print(f\"Success rate over {NUM_EPISODES} episodes: {sum(total_reward) * 100 / NUM_EPISODES}%\")"
   ]
  },
  {
   "source": [
    "# The coin flipping gamble problem\n",
    "Bet money on a coin flip landing on heads. But the coin is not balanced with a likelihood of heads being 40%. The goal is to reach $100."
   ],
   "cell_type": "markdown",
   "metadata": {}
  },
  {
   "cell_type": "code",
   "execution_count": 153,
   "metadata": {},
   "outputs": [],
   "source": [
    "max_capital = 100            # $100\n",
    "num_states = max_capital + 1  # {0, 1, ..., 100}\n",
    "gamma = 1                    # Undiscounted process, all previous actions matter\n",
    "threshold = 0.0001 \n",
    "rewards = torch.zeros(num_states)\n",
    "rewards[-1] = 1              # Reward 1 if $100 is reached\n",
    "\n",
    "head_prob = 0.4              # Probability of the coin landing on heads"
   ]
  },
  {
   "cell_type": "code",
   "execution_count": 154,
   "metadata": {},
   "outputs": [],
   "source": [
    "env = {\"max_capital\": max_capital, \"head_prob\": head_prob,\n",
    "       \"rewards\": rewards, \"num_states\": num_states}"
   ]
  },
  {
   "cell_type": "code",
   "execution_count": 155,
   "metadata": {},
   "outputs": [],
   "source": [
    "def value_iteration(env, gamma, threshold):\n",
    "    num_states = env[\"num_states\"]\n",
    "    head_prob = env[\"head_prob\"]\n",
    "    max_capital = env[\"max_capital\"]\n",
    "    rewards = env[\"rewards\"]\n",
    "\n",
    "    tail_prob = 1 - head_prob\n",
    "    V = torch.zeros(num_states)\n",
    "    max_delta = 1 + threshold\n",
    "    while max_delta > threshold:\n",
    "        temp = torch.zeros(num_states)\n",
    "        # Game ends if the gambler runs out of money or reaches max_capital\n",
    "        for state in range(1, max_capital):\n",
    "            num_actions = min(state, max_capital - state) + 1\n",
    "            actions = torch.zeros(num_actions)\n",
    "            for action in range(1, num_actions):\n",
    "                actions[action] += head_prob * (rewards[state + action] + gamma * V[state + action])+                                    tail_prob * (rewards[state - action] + gamma * V[state - action])\n",
    "            temp[state] = torch.max(actions)\n",
    "            \n",
    "        max_delta = torch.max(torch.abs(V - temp))\n",
    "        V = temp.clone()\n",
    "    return V\n",
    "\n",
    "def extract_optimal_policy(env, V, gamma):\n",
    "    num_states = env[\"num_states\"]\n",
    "    head_prob = env[\"head_prob\"]\n",
    "    max_capital = env[\"max_capital\"]\n",
    "    rewards = env[\"rewards\"]\n",
    "\n",
    "    tail_prob = 1 - head_prob\n",
    "    policy = torch.zeros(num_states)\n",
    "\n",
    "    for state in range(num_states):\n",
    "        num_actions = min(state, max_capital - state) + 1\n",
    "        actions = torch.zeros(num_actions)\n",
    "        for action in range(1, num_actions):\n",
    "            actions[action] += head_prob * (rewards[state + action] + gamma * V[state + action]) +                                    tail_prob * (rewards[state - action] + gamma * V[state - action])\n",
    "        policy[state] = torch.argmax(actions)\n",
    "    return policy"
   ]
  },
  {
   "cell_type": "code",
   "execution_count": 156,
   "metadata": {},
   "outputs": [
    {
     "output_type": "stream",
     "name": "stdout",
     "text": [
      "Time taken to obtain the optimal policy through value iteration: 3.956s\nOptimal values:\n tensor([0.0000, 0.0021, 0.0052, 0.0092, 0.0129, 0.0174, 0.0231, 0.0278, 0.0323,\n        0.0377, 0.0435, 0.0504, 0.0577, 0.0652, 0.0695, 0.0744, 0.0807, 0.0866,\n        0.0942, 0.1031, 0.1087, 0.1160, 0.1259, 0.1336, 0.1441, 0.1600, 0.1631,\n        0.1677, 0.1738, 0.1794, 0.1861, 0.1946, 0.2017, 0.2084, 0.2165, 0.2252,\n        0.2355, 0.2465, 0.2579, 0.2643, 0.2716, 0.2810, 0.2899, 0.3013, 0.3147,\n        0.3230, 0.3339, 0.3488, 0.3604, 0.3762, 0.4000, 0.4031, 0.4077, 0.4138,\n        0.4194, 0.4261, 0.4346, 0.4417, 0.4484, 0.4565, 0.4652, 0.4755, 0.4865,\n        0.4979, 0.5043, 0.5116, 0.5210, 0.5299, 0.5413, 0.5547, 0.5630, 0.5739,\n        0.5888, 0.6004, 0.6162, 0.6400, 0.6446, 0.6516, 0.6608, 0.6690, 0.6791,\n        0.6919, 0.7026, 0.7126, 0.7248, 0.7378, 0.7533, 0.7697, 0.7868, 0.7964,\n        0.8075, 0.8215, 0.8349, 0.8520, 0.8721, 0.8845, 0.9009, 0.9232, 0.9405,\n        0.9643, 0.0000])\nOptimal policy tensor([ 0.,  1.,  2.,  3.,  4.,  5.,  6.,  7.,  8.,  9., 10., 11., 12., 13.,\n        11., 15.,  9., 17., 18., 19.,  5., 21.,  3.,  2., 24., 25.,  1.,  2.,\n         3.,  4.,  5.,  6., 32., 33.,  9., 10., 11., 12., 12., 11., 10.,  9.,\n         8.,  7.,  6.,  5.,  4.,  3.,  2.,  1., 50.,  1.,  2.,  3.,  4.,  5.,\n         6.,  7.,  8.,  9., 10., 11., 12., 12., 11., 10.,  9.,  8.,  7.,  6.,\n         5.,  4.,  3.,  2.,  1., 25.,  1.,  2., 22.,  4.,  5.,  6., 18.,  8.,\n         9., 10., 11., 12., 12., 11., 10.,  9.,  8.,  7.,  6.,  5.,  4.,  3.,\n         2.,  1.,  0.])\n"
     ]
    }
   ],
   "source": [
    "import time\n",
    "\n",
    "start = time.time()\n",
    "optimal_values = value_iteration(env, gamma, threshold)\n",
    "optimal_policy = extract_optimal_policy(env, optimal_values, gamma)\n",
    "print(\"Time taken to obtain the optimal policy through value iteration: {:.3f}s\".format(time.time() - start))\n",
    "print(\"Optimal values:\\n\",  optimal_values)\n",
    "print(\"Optimal policy\", optimal_policy)"
   ]
  },
  {
   "cell_type": "code",
   "execution_count": 157,
   "metadata": {},
   "outputs": [
    {
     "output_type": "execute_result",
     "data": {
      "text/plain": [
       "Text(0, 0.5, 'Policy value/Bet')"
      ]
     },
     "metadata": {},
     "execution_count": 157
    },
    {
     "output_type": "display_data",
     "data": {
      "text/plain": "<Figure size 432x288 with 1 Axes>",
      "image/svg+xml": "<?xml version=\"1.0\" encoding=\"utf-8\" standalone=\"no\"?>\r\n<!DOCTYPE svg PUBLIC \"-//W3C//DTD SVG 1.1//EN\"\r\n  \"http://www.w3.org/Graphics/SVG/1.1/DTD/svg11.dtd\">\r\n<svg height=\"277.314375pt\" version=\"1.1\" viewBox=\"0 0 382.603125 277.314375\" width=\"382.603125pt\" xmlns=\"http://www.w3.org/2000/svg\" xmlns:xlink=\"http://www.w3.org/1999/xlink\">\r\n <metadata>\r\n  <rdf:RDF xmlns:cc=\"http://creativecommons.org/ns#\" xmlns:dc=\"http://purl.org/dc/elements/1.1/\" xmlns:rdf=\"http://www.w3.org/1999/02/22-rdf-syntax-ns#\">\r\n   <cc:Work>\r\n    <dc:type rdf:resource=\"http://purl.org/dc/dcmitype/StillImage\"/>\r\n    <dc:date>2021-05-22T20:09:15.587376</dc:date>\r\n    <dc:format>image/svg+xml</dc:format>\r\n    <dc:creator>\r\n     <cc:Agent>\r\n      <dc:title>Matplotlib v3.4.2, https://matplotlib.org/</dc:title>\r\n     </cc:Agent>\r\n    </dc:creator>\r\n   </cc:Work>\r\n  </rdf:RDF>\r\n </metadata>\r\n <defs>\r\n  <style type=\"text/css\">*{stroke-linecap:butt;stroke-linejoin:round;}</style>\r\n </defs>\r\n <g id=\"figure_1\">\r\n  <g id=\"patch_1\">\r\n   <path d=\"M 0 277.314375 \r\nL 382.603125 277.314375 \r\nL 382.603125 0 \r\nL 0 0 \r\nz\r\n\" style=\"fill:none;\"/>\r\n  </g>\r\n  <g id=\"axes_1\">\r\n   <g id=\"patch_2\">\r\n    <path d=\"M 40.603125 239.758125 \r\nL 375.403125 239.758125 \r\nL 375.403125 22.318125 \r\nL 40.603125 22.318125 \r\nz\r\n\" style=\"fill:#ffffff;\"/>\r\n   </g>\r\n   <g id=\"matplotlib.axis_1\">\r\n    <g id=\"xtick_1\">\r\n     <g id=\"line2d_1\">\r\n      <defs>\r\n       <path d=\"M 0 0 \r\nL 0 3.5 \r\n\" id=\"md29d5095b0\" style=\"stroke:#000000;stroke-width:0.8;\"/>\r\n      </defs>\r\n      <g>\r\n       <use style=\"stroke:#000000;stroke-width:0.8;\" x=\"55.821307\" xlink:href=\"#md29d5095b0\" y=\"239.758125\"/>\r\n      </g>\r\n     </g>\r\n     <g id=\"text_1\">\r\n      <!-- 0 -->\r\n      <g transform=\"translate(52.640057 254.356562)scale(0.1 -0.1)\">\r\n       <defs>\r\n        <path d=\"M 2034 4250 \r\nQ 1547 4250 1301 3770 \r\nQ 1056 3291 1056 2328 \r\nQ 1056 1369 1301 889 \r\nQ 1547 409 2034 409 \r\nQ 2525 409 2770 889 \r\nQ 3016 1369 3016 2328 \r\nQ 3016 3291 2770 3770 \r\nQ 2525 4250 2034 4250 \r\nz\r\nM 2034 4750 \r\nQ 2819 4750 3233 4129 \r\nQ 3647 3509 3647 2328 \r\nQ 3647 1150 3233 529 \r\nQ 2819 -91 2034 -91 \r\nQ 1250 -91 836 529 \r\nQ 422 1150 422 2328 \r\nQ 422 3509 836 4129 \r\nQ 1250 4750 2034 4750 \r\nz\r\n\" id=\"DejaVuSans-30\" transform=\"scale(0.015625)\"/>\r\n       </defs>\r\n       <use xlink:href=\"#DejaVuSans-30\"/>\r\n      </g>\r\n     </g>\r\n    </g>\r\n    <g id=\"xtick_2\">\r\n     <g id=\"line2d_2\">\r\n      <g>\r\n       <use style=\"stroke:#000000;stroke-width:0.8;\" x=\"117.30891\" xlink:href=\"#md29d5095b0\" y=\"239.758125\"/>\r\n      </g>\r\n     </g>\r\n     <g id=\"text_2\">\r\n      <!-- 20 -->\r\n      <g transform=\"translate(110.94641 254.356562)scale(0.1 -0.1)\">\r\n       <defs>\r\n        <path d=\"M 1228 531 \r\nL 3431 531 \r\nL 3431 0 \r\nL 469 0 \r\nL 469 531 \r\nQ 828 903 1448 1529 \r\nQ 2069 2156 2228 2338 \r\nQ 2531 2678 2651 2914 \r\nQ 2772 3150 2772 3378 \r\nQ 2772 3750 2511 3984 \r\nQ 2250 4219 1831 4219 \r\nQ 1534 4219 1204 4116 \r\nQ 875 4013 500 3803 \r\nL 500 4441 \r\nQ 881 4594 1212 4672 \r\nQ 1544 4750 1819 4750 \r\nQ 2544 4750 2975 4387 \r\nQ 3406 4025 3406 3419 \r\nQ 3406 3131 3298 2873 \r\nQ 3191 2616 2906 2266 \r\nQ 2828 2175 2409 1742 \r\nQ 1991 1309 1228 531 \r\nz\r\n\" id=\"DejaVuSans-32\" transform=\"scale(0.015625)\"/>\r\n       </defs>\r\n       <use xlink:href=\"#DejaVuSans-32\"/>\r\n       <use x=\"63.623047\" xlink:href=\"#DejaVuSans-30\"/>\r\n      </g>\r\n     </g>\r\n    </g>\r\n    <g id=\"xtick_3\">\r\n     <g id=\"line2d_3\">\r\n      <g>\r\n       <use style=\"stroke:#000000;stroke-width:0.8;\" x=\"178.796513\" xlink:href=\"#md29d5095b0\" y=\"239.758125\"/>\r\n      </g>\r\n     </g>\r\n     <g id=\"text_3\">\r\n      <!-- 40 -->\r\n      <g transform=\"translate(172.434013 254.356562)scale(0.1 -0.1)\">\r\n       <defs>\r\n        <path d=\"M 2419 4116 \r\nL 825 1625 \r\nL 2419 1625 \r\nL 2419 4116 \r\nz\r\nM 2253 4666 \r\nL 3047 4666 \r\nL 3047 1625 \r\nL 3713 1625 \r\nL 3713 1100 \r\nL 3047 1100 \r\nL 3047 0 \r\nL 2419 0 \r\nL 2419 1100 \r\nL 313 1100 \r\nL 313 1709 \r\nL 2253 4666 \r\nz\r\n\" id=\"DejaVuSans-34\" transform=\"scale(0.015625)\"/>\r\n       </defs>\r\n       <use xlink:href=\"#DejaVuSans-34\"/>\r\n       <use x=\"63.623047\" xlink:href=\"#DejaVuSans-30\"/>\r\n      </g>\r\n     </g>\r\n    </g>\r\n    <g id=\"xtick_4\">\r\n     <g id=\"line2d_4\">\r\n      <g>\r\n       <use style=\"stroke:#000000;stroke-width:0.8;\" x=\"240.284117\" xlink:href=\"#md29d5095b0\" y=\"239.758125\"/>\r\n      </g>\r\n     </g>\r\n     <g id=\"text_4\">\r\n      <!-- 60 -->\r\n      <g transform=\"translate(233.921617 254.356562)scale(0.1 -0.1)\">\r\n       <defs>\r\n        <path d=\"M 2113 2584 \r\nQ 1688 2584 1439 2293 \r\nQ 1191 2003 1191 1497 \r\nQ 1191 994 1439 701 \r\nQ 1688 409 2113 409 \r\nQ 2538 409 2786 701 \r\nQ 3034 994 3034 1497 \r\nQ 3034 2003 2786 2293 \r\nQ 2538 2584 2113 2584 \r\nz\r\nM 3366 4563 \r\nL 3366 3988 \r\nQ 3128 4100 2886 4159 \r\nQ 2644 4219 2406 4219 \r\nQ 1781 4219 1451 3797 \r\nQ 1122 3375 1075 2522 \r\nQ 1259 2794 1537 2939 \r\nQ 1816 3084 2150 3084 \r\nQ 2853 3084 3261 2657 \r\nQ 3669 2231 3669 1497 \r\nQ 3669 778 3244 343 \r\nQ 2819 -91 2113 -91 \r\nQ 1303 -91 875 529 \r\nQ 447 1150 447 2328 \r\nQ 447 3434 972 4092 \r\nQ 1497 4750 2381 4750 \r\nQ 2619 4750 2861 4703 \r\nQ 3103 4656 3366 4563 \r\nz\r\n\" id=\"DejaVuSans-36\" transform=\"scale(0.015625)\"/>\r\n       </defs>\r\n       <use xlink:href=\"#DejaVuSans-36\"/>\r\n       <use x=\"63.623047\" xlink:href=\"#DejaVuSans-30\"/>\r\n      </g>\r\n     </g>\r\n    </g>\r\n    <g id=\"xtick_5\">\r\n     <g id=\"line2d_5\">\r\n      <g>\r\n       <use style=\"stroke:#000000;stroke-width:0.8;\" x=\"301.77172\" xlink:href=\"#md29d5095b0\" y=\"239.758125\"/>\r\n      </g>\r\n     </g>\r\n     <g id=\"text_5\">\r\n      <!-- 80 -->\r\n      <g transform=\"translate(295.40922 254.356562)scale(0.1 -0.1)\">\r\n       <defs>\r\n        <path d=\"M 2034 2216 \r\nQ 1584 2216 1326 1975 \r\nQ 1069 1734 1069 1313 \r\nQ 1069 891 1326 650 \r\nQ 1584 409 2034 409 \r\nQ 2484 409 2743 651 \r\nQ 3003 894 3003 1313 \r\nQ 3003 1734 2745 1975 \r\nQ 2488 2216 2034 2216 \r\nz\r\nM 1403 2484 \r\nQ 997 2584 770 2862 \r\nQ 544 3141 544 3541 \r\nQ 544 4100 942 4425 \r\nQ 1341 4750 2034 4750 \r\nQ 2731 4750 3128 4425 \r\nQ 3525 4100 3525 3541 \r\nQ 3525 3141 3298 2862 \r\nQ 3072 2584 2669 2484 \r\nQ 3125 2378 3379 2068 \r\nQ 3634 1759 3634 1313 \r\nQ 3634 634 3220 271 \r\nQ 2806 -91 2034 -91 \r\nQ 1263 -91 848 271 \r\nQ 434 634 434 1313 \r\nQ 434 1759 690 2068 \r\nQ 947 2378 1403 2484 \r\nz\r\nM 1172 3481 \r\nQ 1172 3119 1398 2916 \r\nQ 1625 2713 2034 2713 \r\nQ 2441 2713 2670 2916 \r\nQ 2900 3119 2900 3481 \r\nQ 2900 3844 2670 4047 \r\nQ 2441 4250 2034 4250 \r\nQ 1625 4250 1398 4047 \r\nQ 1172 3844 1172 3481 \r\nz\r\n\" id=\"DejaVuSans-38\" transform=\"scale(0.015625)\"/>\r\n       </defs>\r\n       <use xlink:href=\"#DejaVuSans-38\"/>\r\n       <use x=\"63.623047\" xlink:href=\"#DejaVuSans-30\"/>\r\n      </g>\r\n     </g>\r\n    </g>\r\n    <g id=\"xtick_6\">\r\n     <g id=\"line2d_6\">\r\n      <g>\r\n       <use style=\"stroke:#000000;stroke-width:0.8;\" x=\"363.259323\" xlink:href=\"#md29d5095b0\" y=\"239.758125\"/>\r\n      </g>\r\n     </g>\r\n     <g id=\"text_6\">\r\n      <!-- 100 -->\r\n      <g transform=\"translate(353.715573 254.356562)scale(0.1 -0.1)\">\r\n       <defs>\r\n        <path d=\"M 794 531 \r\nL 1825 531 \r\nL 1825 4091 \r\nL 703 3866 \r\nL 703 4441 \r\nL 1819 4666 \r\nL 2450 4666 \r\nL 2450 531 \r\nL 3481 531 \r\nL 3481 0 \r\nL 794 0 \r\nL 794 531 \r\nz\r\n\" id=\"DejaVuSans-31\" transform=\"scale(0.015625)\"/>\r\n       </defs>\r\n       <use xlink:href=\"#DejaVuSans-31\"/>\r\n       <use x=\"63.623047\" xlink:href=\"#DejaVuSans-30\"/>\r\n       <use x=\"127.246094\" xlink:href=\"#DejaVuSans-30\"/>\r\n      </g>\r\n     </g>\r\n    </g>\r\n    <g id=\"text_7\">\r\n     <!-- Capital -->\r\n     <g transform=\"translate(190.471094 268.034687)scale(0.1 -0.1)\">\r\n      <defs>\r\n       <path d=\"M 4122 4306 \r\nL 4122 3641 \r\nQ 3803 3938 3442 4084 \r\nQ 3081 4231 2675 4231 \r\nQ 1875 4231 1450 3742 \r\nQ 1025 3253 1025 2328 \r\nQ 1025 1406 1450 917 \r\nQ 1875 428 2675 428 \r\nQ 3081 428 3442 575 \r\nQ 3803 722 4122 1019 \r\nL 4122 359 \r\nQ 3791 134 3420 21 \r\nQ 3050 -91 2638 -91 \r\nQ 1578 -91 968 557 \r\nQ 359 1206 359 2328 \r\nQ 359 3453 968 4101 \r\nQ 1578 4750 2638 4750 \r\nQ 3056 4750 3426 4639 \r\nQ 3797 4528 4122 4306 \r\nz\r\n\" id=\"DejaVuSans-43\" transform=\"scale(0.015625)\"/>\r\n       <path d=\"M 2194 1759 \r\nQ 1497 1759 1228 1600 \r\nQ 959 1441 959 1056 \r\nQ 959 750 1161 570 \r\nQ 1363 391 1709 391 \r\nQ 2188 391 2477 730 \r\nQ 2766 1069 2766 1631 \r\nL 2766 1759 \r\nL 2194 1759 \r\nz\r\nM 3341 1997 \r\nL 3341 0 \r\nL 2766 0 \r\nL 2766 531 \r\nQ 2569 213 2275 61 \r\nQ 1981 -91 1556 -91 \r\nQ 1019 -91 701 211 \r\nQ 384 513 384 1019 \r\nQ 384 1609 779 1909 \r\nQ 1175 2209 1959 2209 \r\nL 2766 2209 \r\nL 2766 2266 \r\nQ 2766 2663 2505 2880 \r\nQ 2244 3097 1772 3097 \r\nQ 1472 3097 1187 3025 \r\nQ 903 2953 641 2809 \r\nL 641 3341 \r\nQ 956 3463 1253 3523 \r\nQ 1550 3584 1831 3584 \r\nQ 2591 3584 2966 3190 \r\nQ 3341 2797 3341 1997 \r\nz\r\n\" id=\"DejaVuSans-61\" transform=\"scale(0.015625)\"/>\r\n       <path d=\"M 1159 525 \r\nL 1159 -1331 \r\nL 581 -1331 \r\nL 581 3500 \r\nL 1159 3500 \r\nL 1159 2969 \r\nQ 1341 3281 1617 3432 \r\nQ 1894 3584 2278 3584 \r\nQ 2916 3584 3314 3078 \r\nQ 3713 2572 3713 1747 \r\nQ 3713 922 3314 415 \r\nQ 2916 -91 2278 -91 \r\nQ 1894 -91 1617 61 \r\nQ 1341 213 1159 525 \r\nz\r\nM 3116 1747 \r\nQ 3116 2381 2855 2742 \r\nQ 2594 3103 2138 3103 \r\nQ 1681 3103 1420 2742 \r\nQ 1159 2381 1159 1747 \r\nQ 1159 1113 1420 752 \r\nQ 1681 391 2138 391 \r\nQ 2594 391 2855 752 \r\nQ 3116 1113 3116 1747 \r\nz\r\n\" id=\"DejaVuSans-70\" transform=\"scale(0.015625)\"/>\r\n       <path d=\"M 603 3500 \r\nL 1178 3500 \r\nL 1178 0 \r\nL 603 0 \r\nL 603 3500 \r\nz\r\nM 603 4863 \r\nL 1178 4863 \r\nL 1178 4134 \r\nL 603 4134 \r\nL 603 4863 \r\nz\r\n\" id=\"DejaVuSans-69\" transform=\"scale(0.015625)\"/>\r\n       <path d=\"M 1172 4494 \r\nL 1172 3500 \r\nL 2356 3500 \r\nL 2356 3053 \r\nL 1172 3053 \r\nL 1172 1153 \r\nQ 1172 725 1289 603 \r\nQ 1406 481 1766 481 \r\nL 2356 481 \r\nL 2356 0 \r\nL 1766 0 \r\nQ 1100 0 847 248 \r\nQ 594 497 594 1153 \r\nL 594 3053 \r\nL 172 3053 \r\nL 172 3500 \r\nL 594 3500 \r\nL 594 4494 \r\nL 1172 4494 \r\nz\r\n\" id=\"DejaVuSans-74\" transform=\"scale(0.015625)\"/>\r\n       <path d=\"M 603 4863 \r\nL 1178 4863 \r\nL 1178 0 \r\nL 603 0 \r\nL 603 4863 \r\nz\r\n\" id=\"DejaVuSans-6c\" transform=\"scale(0.015625)\"/>\r\n      </defs>\r\n      <use xlink:href=\"#DejaVuSans-43\"/>\r\n      <use x=\"69.824219\" xlink:href=\"#DejaVuSans-61\"/>\r\n      <use x=\"131.103516\" xlink:href=\"#DejaVuSans-70\"/>\r\n      <use x=\"194.580078\" xlink:href=\"#DejaVuSans-69\"/>\r\n      <use x=\"222.363281\" xlink:href=\"#DejaVuSans-74\"/>\r\n      <use x=\"261.572266\" xlink:href=\"#DejaVuSans-61\"/>\r\n      <use x=\"322.851562\" xlink:href=\"#DejaVuSans-6c\"/>\r\n     </g>\r\n    </g>\r\n   </g>\r\n   <g id=\"matplotlib.axis_2\">\r\n    <g id=\"ytick_1\">\r\n     <g id=\"line2d_7\">\r\n      <defs>\r\n       <path d=\"M 0 0 \r\nL -3.5 0 \r\n\" id=\"me0d31dfc66\" style=\"stroke:#000000;stroke-width:0.8;\"/>\r\n      </defs>\r\n      <g>\r\n       <use style=\"stroke:#000000;stroke-width:0.8;\" x=\"40.603125\" xlink:href=\"#me0d31dfc66\" y=\"229.874489\"/>\r\n      </g>\r\n     </g>\r\n     <g id=\"text_8\">\r\n      <!-- 0 -->\r\n      <g transform=\"translate(27.240625 233.673707)scale(0.1 -0.1)\">\r\n       <use xlink:href=\"#DejaVuSans-30\"/>\r\n      </g>\r\n     </g>\r\n    </g>\r\n    <g id=\"ytick_2\">\r\n     <g id=\"line2d_8\">\r\n      <g>\r\n       <use style=\"stroke:#000000;stroke-width:0.8;\" x=\"40.603125\" xlink:href=\"#me0d31dfc66\" y=\"190.339943\"/>\r\n      </g>\r\n     </g>\r\n     <g id=\"text_9\">\r\n      <!-- 10 -->\r\n      <g transform=\"translate(20.878125 194.139162)scale(0.1 -0.1)\">\r\n       <use xlink:href=\"#DejaVuSans-31\"/>\r\n       <use x=\"63.623047\" xlink:href=\"#DejaVuSans-30\"/>\r\n      </g>\r\n     </g>\r\n    </g>\r\n    <g id=\"ytick_3\">\r\n     <g id=\"line2d_9\">\r\n      <g>\r\n       <use style=\"stroke:#000000;stroke-width:0.8;\" x=\"40.603125\" xlink:href=\"#me0d31dfc66\" y=\"150.805398\"/>\r\n      </g>\r\n     </g>\r\n     <g id=\"text_10\">\r\n      <!-- 20 -->\r\n      <g transform=\"translate(20.878125 154.604616)scale(0.1 -0.1)\">\r\n       <use xlink:href=\"#DejaVuSans-32\"/>\r\n       <use x=\"63.623047\" xlink:href=\"#DejaVuSans-30\"/>\r\n      </g>\r\n     </g>\r\n    </g>\r\n    <g id=\"ytick_4\">\r\n     <g id=\"line2d_10\">\r\n      <g>\r\n       <use style=\"stroke:#000000;stroke-width:0.8;\" x=\"40.603125\" xlink:href=\"#me0d31dfc66\" y=\"111.270852\"/>\r\n      </g>\r\n     </g>\r\n     <g id=\"text_11\">\r\n      <!-- 30 -->\r\n      <g transform=\"translate(20.878125 115.070071)scale(0.1 -0.1)\">\r\n       <defs>\r\n        <path d=\"M 2597 2516 \r\nQ 3050 2419 3304 2112 \r\nQ 3559 1806 3559 1356 \r\nQ 3559 666 3084 287 \r\nQ 2609 -91 1734 -91 \r\nQ 1441 -91 1130 -33 \r\nQ 819 25 488 141 \r\nL 488 750 \r\nQ 750 597 1062 519 \r\nQ 1375 441 1716 441 \r\nQ 2309 441 2620 675 \r\nQ 2931 909 2931 1356 \r\nQ 2931 1769 2642 2001 \r\nQ 2353 2234 1838 2234 \r\nL 1294 2234 \r\nL 1294 2753 \r\nL 1863 2753 \r\nQ 2328 2753 2575 2939 \r\nQ 2822 3125 2822 3475 \r\nQ 2822 3834 2567 4026 \r\nQ 2313 4219 1838 4219 \r\nQ 1578 4219 1281 4162 \r\nQ 984 4106 628 3988 \r\nL 628 4550 \r\nQ 988 4650 1302 4700 \r\nQ 1616 4750 1894 4750 \r\nQ 2613 4750 3031 4423 \r\nQ 3450 4097 3450 3541 \r\nQ 3450 3153 3228 2886 \r\nQ 3006 2619 2597 2516 \r\nz\r\n\" id=\"DejaVuSans-33\" transform=\"scale(0.015625)\"/>\r\n       </defs>\r\n       <use xlink:href=\"#DejaVuSans-33\"/>\r\n       <use x=\"63.623047\" xlink:href=\"#DejaVuSans-30\"/>\r\n      </g>\r\n     </g>\r\n    </g>\r\n    <g id=\"ytick_5\">\r\n     <g id=\"line2d_11\">\r\n      <g>\r\n       <use style=\"stroke:#000000;stroke-width:0.8;\" x=\"40.603125\" xlink:href=\"#me0d31dfc66\" y=\"71.736307\"/>\r\n      </g>\r\n     </g>\r\n     <g id=\"text_12\">\r\n      <!-- 40 -->\r\n      <g transform=\"translate(20.878125 75.535526)scale(0.1 -0.1)\">\r\n       <use xlink:href=\"#DejaVuSans-34\"/>\r\n       <use x=\"63.623047\" xlink:href=\"#DejaVuSans-30\"/>\r\n      </g>\r\n     </g>\r\n    </g>\r\n    <g id=\"ytick_6\">\r\n     <g id=\"line2d_12\">\r\n      <g>\r\n       <use style=\"stroke:#000000;stroke-width:0.8;\" x=\"40.603125\" xlink:href=\"#me0d31dfc66\" y=\"32.201761\"/>\r\n      </g>\r\n     </g>\r\n     <g id=\"text_13\">\r\n      <!-- 50 -->\r\n      <g transform=\"translate(20.878125 36.00098)scale(0.1 -0.1)\">\r\n       <defs>\r\n        <path d=\"M 691 4666 \r\nL 3169 4666 \r\nL 3169 4134 \r\nL 1269 4134 \r\nL 1269 2991 \r\nQ 1406 3038 1543 3061 \r\nQ 1681 3084 1819 3084 \r\nQ 2600 3084 3056 2656 \r\nQ 3513 2228 3513 1497 \r\nQ 3513 744 3044 326 \r\nQ 2575 -91 1722 -91 \r\nQ 1428 -91 1123 -41 \r\nQ 819 9 494 109 \r\nL 494 744 \r\nQ 775 591 1075 516 \r\nQ 1375 441 1709 441 \r\nQ 2250 441 2565 725 \r\nQ 2881 1009 2881 1497 \r\nQ 2881 1984 2565 2268 \r\nQ 2250 2553 1709 2553 \r\nQ 1456 2553 1204 2497 \r\nQ 953 2441 691 2322 \r\nL 691 4666 \r\nz\r\n\" id=\"DejaVuSans-35\" transform=\"scale(0.015625)\"/>\r\n       </defs>\r\n       <use xlink:href=\"#DejaVuSans-35\"/>\r\n       <use x=\"63.623047\" xlink:href=\"#DejaVuSans-30\"/>\r\n      </g>\r\n     </g>\r\n    </g>\r\n    <g id=\"text_14\">\r\n     <!-- Policy value/Bet -->\r\n     <g transform=\"translate(14.798438 170.81625)rotate(-90)scale(0.1 -0.1)\">\r\n      <defs>\r\n       <path d=\"M 1259 4147 \r\nL 1259 2394 \r\nL 2053 2394 \r\nQ 2494 2394 2734 2622 \r\nQ 2975 2850 2975 3272 \r\nQ 2975 3691 2734 3919 \r\nQ 2494 4147 2053 4147 \r\nL 1259 4147 \r\nz\r\nM 628 4666 \r\nL 2053 4666 \r\nQ 2838 4666 3239 4311 \r\nQ 3641 3956 3641 3272 \r\nQ 3641 2581 3239 2228 \r\nQ 2838 1875 2053 1875 \r\nL 1259 1875 \r\nL 1259 0 \r\nL 628 0 \r\nL 628 4666 \r\nz\r\n\" id=\"DejaVuSans-50\" transform=\"scale(0.015625)\"/>\r\n       <path d=\"M 1959 3097 \r\nQ 1497 3097 1228 2736 \r\nQ 959 2375 959 1747 \r\nQ 959 1119 1226 758 \r\nQ 1494 397 1959 397 \r\nQ 2419 397 2687 759 \r\nQ 2956 1122 2956 1747 \r\nQ 2956 2369 2687 2733 \r\nQ 2419 3097 1959 3097 \r\nz\r\nM 1959 3584 \r\nQ 2709 3584 3137 3096 \r\nQ 3566 2609 3566 1747 \r\nQ 3566 888 3137 398 \r\nQ 2709 -91 1959 -91 \r\nQ 1206 -91 779 398 \r\nQ 353 888 353 1747 \r\nQ 353 2609 779 3096 \r\nQ 1206 3584 1959 3584 \r\nz\r\n\" id=\"DejaVuSans-6f\" transform=\"scale(0.015625)\"/>\r\n       <path d=\"M 3122 3366 \r\nL 3122 2828 \r\nQ 2878 2963 2633 3030 \r\nQ 2388 3097 2138 3097 \r\nQ 1578 3097 1268 2742 \r\nQ 959 2388 959 1747 \r\nQ 959 1106 1268 751 \r\nQ 1578 397 2138 397 \r\nQ 2388 397 2633 464 \r\nQ 2878 531 3122 666 \r\nL 3122 134 \r\nQ 2881 22 2623 -34 \r\nQ 2366 -91 2075 -91 \r\nQ 1284 -91 818 406 \r\nQ 353 903 353 1747 \r\nQ 353 2603 823 3093 \r\nQ 1294 3584 2113 3584 \r\nQ 2378 3584 2631 3529 \r\nQ 2884 3475 3122 3366 \r\nz\r\n\" id=\"DejaVuSans-63\" transform=\"scale(0.015625)\"/>\r\n       <path d=\"M 2059 -325 \r\nQ 1816 -950 1584 -1140 \r\nQ 1353 -1331 966 -1331 \r\nL 506 -1331 \r\nL 506 -850 \r\nL 844 -850 \r\nQ 1081 -850 1212 -737 \r\nQ 1344 -625 1503 -206 \r\nL 1606 56 \r\nL 191 3500 \r\nL 800 3500 \r\nL 1894 763 \r\nL 2988 3500 \r\nL 3597 3500 \r\nL 2059 -325 \r\nz\r\n\" id=\"DejaVuSans-79\" transform=\"scale(0.015625)\"/>\r\n       <path id=\"DejaVuSans-20\" transform=\"scale(0.015625)\"/>\r\n       <path d=\"M 191 3500 \r\nL 800 3500 \r\nL 1894 563 \r\nL 2988 3500 \r\nL 3597 3500 \r\nL 2284 0 \r\nL 1503 0 \r\nL 191 3500 \r\nz\r\n\" id=\"DejaVuSans-76\" transform=\"scale(0.015625)\"/>\r\n       <path d=\"M 544 1381 \r\nL 544 3500 \r\nL 1119 3500 \r\nL 1119 1403 \r\nQ 1119 906 1312 657 \r\nQ 1506 409 1894 409 \r\nQ 2359 409 2629 706 \r\nQ 2900 1003 2900 1516 \r\nL 2900 3500 \r\nL 3475 3500 \r\nL 3475 0 \r\nL 2900 0 \r\nL 2900 538 \r\nQ 2691 219 2414 64 \r\nQ 2138 -91 1772 -91 \r\nQ 1169 -91 856 284 \r\nQ 544 659 544 1381 \r\nz\r\nM 1991 3584 \r\nL 1991 3584 \r\nz\r\n\" id=\"DejaVuSans-75\" transform=\"scale(0.015625)\"/>\r\n       <path d=\"M 3597 1894 \r\nL 3597 1613 \r\nL 953 1613 \r\nQ 991 1019 1311 708 \r\nQ 1631 397 2203 397 \r\nQ 2534 397 2845 478 \r\nQ 3156 559 3463 722 \r\nL 3463 178 \r\nQ 3153 47 2828 -22 \r\nQ 2503 -91 2169 -91 \r\nQ 1331 -91 842 396 \r\nQ 353 884 353 1716 \r\nQ 353 2575 817 3079 \r\nQ 1281 3584 2069 3584 \r\nQ 2775 3584 3186 3129 \r\nQ 3597 2675 3597 1894 \r\nz\r\nM 3022 2063 \r\nQ 3016 2534 2758 2815 \r\nQ 2500 3097 2075 3097 \r\nQ 1594 3097 1305 2825 \r\nQ 1016 2553 972 2059 \r\nL 3022 2063 \r\nz\r\n\" id=\"DejaVuSans-65\" transform=\"scale(0.015625)\"/>\r\n       <path d=\"M 1625 4666 \r\nL 2156 4666 \r\nL 531 -594 \r\nL 0 -594 \r\nL 1625 4666 \r\nz\r\n\" id=\"DejaVuSans-2f\" transform=\"scale(0.015625)\"/>\r\n       <path d=\"M 1259 2228 \r\nL 1259 519 \r\nL 2272 519 \r\nQ 2781 519 3026 730 \r\nQ 3272 941 3272 1375 \r\nQ 3272 1813 3026 2020 \r\nQ 2781 2228 2272 2228 \r\nL 1259 2228 \r\nz\r\nM 1259 4147 \r\nL 1259 2741 \r\nL 2194 2741 \r\nQ 2656 2741 2882 2914 \r\nQ 3109 3088 3109 3444 \r\nQ 3109 3797 2882 3972 \r\nQ 2656 4147 2194 4147 \r\nL 1259 4147 \r\nz\r\nM 628 4666 \r\nL 2241 4666 \r\nQ 2963 4666 3353 4366 \r\nQ 3744 4066 3744 3513 \r\nQ 3744 3084 3544 2831 \r\nQ 3344 2578 2956 2516 \r\nQ 3422 2416 3680 2098 \r\nQ 3938 1781 3938 1306 \r\nQ 3938 681 3513 340 \r\nQ 3088 0 2303 0 \r\nL 628 0 \r\nL 628 4666 \r\nz\r\n\" id=\"DejaVuSans-42\" transform=\"scale(0.015625)\"/>\r\n      </defs>\r\n      <use xlink:href=\"#DejaVuSans-50\"/>\r\n      <use x=\"56.677734\" xlink:href=\"#DejaVuSans-6f\"/>\r\n      <use x=\"117.859375\" xlink:href=\"#DejaVuSans-6c\"/>\r\n      <use x=\"145.642578\" xlink:href=\"#DejaVuSans-69\"/>\r\n      <use x=\"173.425781\" xlink:href=\"#DejaVuSans-63\"/>\r\n      <use x=\"228.40625\" xlink:href=\"#DejaVuSans-79\"/>\r\n      <use x=\"287.585938\" xlink:href=\"#DejaVuSans-20\"/>\r\n      <use x=\"319.373047\" xlink:href=\"#DejaVuSans-76\"/>\r\n      <use x=\"378.552734\" xlink:href=\"#DejaVuSans-61\"/>\r\n      <use x=\"439.832031\" xlink:href=\"#DejaVuSans-6c\"/>\r\n      <use x=\"467.615234\" xlink:href=\"#DejaVuSans-75\"/>\r\n      <use x=\"530.994141\" xlink:href=\"#DejaVuSans-65\"/>\r\n      <use x=\"592.517578\" xlink:href=\"#DejaVuSans-2f\"/>\r\n      <use x=\"626.208984\" xlink:href=\"#DejaVuSans-42\"/>\r\n      <use x=\"694.8125\" xlink:href=\"#DejaVuSans-65\"/>\r\n      <use x=\"756.335938\" xlink:href=\"#DejaVuSans-74\"/>\r\n     </g>\r\n    </g>\r\n   </g>\r\n   <g id=\"line2d_13\">\r\n    <path clip-path=\"url(#pee73cedc89)\" d=\"M 55.821307 229.874489 \r\nL 58.895687 225.921034 \r\nL 61.970067 221.96758 \r\nL 65.044447 218.014125 \r\nL 68.118827 214.06067 \r\nL 71.193208 210.107216 \r\nL 74.267588 206.153761 \r\nL 77.341968 202.200307 \r\nL 80.416348 198.246852 \r\nL 83.490728 194.293398 \r\nL 86.565108 190.339943 \r\nL 89.639489 186.386489 \r\nL 92.713869 182.433034 \r\nL 95.788249 178.47958 \r\nL 98.862629 186.386489 \r\nL 101.937009 170.57267 \r\nL 105.011389 194.293398 \r\nL 108.08577 162.665761 \r\nL 111.16015 158.712307 \r\nL 114.23453 154.758852 \r\nL 117.30891 210.107216 \r\nL 120.38329 146.851943 \r\nL 123.45767 218.014125 \r\nL 126.532051 221.96758 \r\nL 129.606431 134.99158 \r\nL 132.680811 131.038125 \r\nL 135.755191 225.921034 \r\nL 138.829571 221.96758 \r\nL 141.903951 218.014125 \r\nL 144.978332 214.06067 \r\nL 148.052712 210.107216 \r\nL 151.127092 206.153761 \r\nL 154.201472 103.363943 \r\nL 157.275852 99.410489 \r\nL 160.350232 194.293398 \r\nL 163.424613 190.339943 \r\nL 166.498993 186.386489 \r\nL 169.573373 182.433034 \r\nL 172.647753 182.433034 \r\nL 175.722133 186.386489 \r\nL 178.796513 190.339943 \r\nL 181.870894 194.293398 \r\nL 184.945274 198.246852 \r\nL 188.019654 202.200307 \r\nL 191.094034 206.153761 \r\nL 194.168414 210.107216 \r\nL 197.242794 214.06067 \r\nL 200.317175 218.014125 \r\nL 203.391555 221.96758 \r\nL 206.465935 225.921034 \r\nL 209.540315 32.201761 \r\nL 212.614695 225.921034 \r\nL 215.689075 221.96758 \r\nL 218.763456 218.014125 \r\nL 221.837836 214.06067 \r\nL 224.912216 210.107216 \r\nL 227.986596 206.153761 \r\nL 231.060976 202.200307 \r\nL 234.135356 198.246852 \r\nL 237.209737 194.293398 \r\nL 240.284117 190.339943 \r\nL 243.358497 186.386489 \r\nL 246.432877 182.433034 \r\nL 249.507257 182.433034 \r\nL 252.581637 186.386489 \r\nL 255.656018 190.339943 \r\nL 258.730398 194.293398 \r\nL 261.804778 198.246852 \r\nL 264.879158 202.200307 \r\nL 267.953538 206.153761 \r\nL 271.027918 210.107216 \r\nL 274.102299 214.06067 \r\nL 277.176679 218.014125 \r\nL 280.251059 221.96758 \r\nL 283.325439 225.921034 \r\nL 286.399819 131.038125 \r\nL 289.474199 225.921034 \r\nL 292.54858 221.96758 \r\nL 295.62296 142.898489 \r\nL 298.69734 214.06067 \r\nL 301.77172 210.107216 \r\nL 304.8461 206.153761 \r\nL 307.92048 158.712307 \r\nL 310.994861 198.246852 \r\nL 314.069241 194.293398 \r\nL 317.143621 190.339943 \r\nL 320.218001 186.386489 \r\nL 323.292381 182.433034 \r\nL 326.366761 182.433034 \r\nL 329.441142 186.386489 \r\nL 332.515522 190.339943 \r\nL 335.589902 194.293398 \r\nL 338.664282 198.246852 \r\nL 341.738662 202.200307 \r\nL 344.813042 206.153761 \r\nL 347.887423 210.107216 \r\nL 350.961803 214.06067 \r\nL 354.036183 218.014125 \r\nL 357.110563 221.96758 \r\nL 360.184943 225.921034 \r\n\" style=\"fill:none;stroke:#1f77b4;stroke-linecap:square;stroke-width:1.5;\"/>\r\n   </g>\r\n   <g id=\"patch_3\">\r\n    <path d=\"M 40.603125 239.758125 \r\nL 40.603125 22.318125 \r\n\" style=\"fill:none;stroke:#000000;stroke-linecap:square;stroke-linejoin:miter;stroke-width:0.8;\"/>\r\n   </g>\r\n   <g id=\"patch_4\">\r\n    <path d=\"M 375.403125 239.758125 \r\nL 375.403125 22.318125 \r\n\" style=\"fill:none;stroke:#000000;stroke-linecap:square;stroke-linejoin:miter;stroke-width:0.8;\"/>\r\n   </g>\r\n   <g id=\"patch_5\">\r\n    <path d=\"M 40.603125 239.758125 \r\nL 375.403125 239.758125 \r\n\" style=\"fill:none;stroke:#000000;stroke-linecap:square;stroke-linejoin:miter;stroke-width:0.8;\"/>\r\n   </g>\r\n   <g id=\"patch_6\">\r\n    <path d=\"M 40.603125 22.318125 \r\nL 375.403125 22.318125 \r\n\" style=\"fill:none;stroke:#000000;stroke-linecap:square;stroke-linejoin:miter;stroke-width:0.8;\"/>\r\n   </g>\r\n   <g id=\"text_15\">\r\n    <!-- Optimal policy values (i.e. bets) -->\r\n    <g transform=\"translate(112.62375 16.318125)scale(0.12 -0.12)\">\r\n     <defs>\r\n      <path d=\"M 2522 4238 \r\nQ 1834 4238 1429 3725 \r\nQ 1025 3213 1025 2328 \r\nQ 1025 1447 1429 934 \r\nQ 1834 422 2522 422 \r\nQ 3209 422 3611 934 \r\nQ 4013 1447 4013 2328 \r\nQ 4013 3213 3611 3725 \r\nQ 3209 4238 2522 4238 \r\nz\r\nM 2522 4750 \r\nQ 3503 4750 4090 4092 \r\nQ 4678 3434 4678 2328 \r\nQ 4678 1225 4090 567 \r\nQ 3503 -91 2522 -91 \r\nQ 1538 -91 948 565 \r\nQ 359 1222 359 2328 \r\nQ 359 3434 948 4092 \r\nQ 1538 4750 2522 4750 \r\nz\r\n\" id=\"DejaVuSans-4f\" transform=\"scale(0.015625)\"/>\r\n      <path d=\"M 3328 2828 \r\nQ 3544 3216 3844 3400 \r\nQ 4144 3584 4550 3584 \r\nQ 5097 3584 5394 3201 \r\nQ 5691 2819 5691 2113 \r\nL 5691 0 \r\nL 5113 0 \r\nL 5113 2094 \r\nQ 5113 2597 4934 2840 \r\nQ 4756 3084 4391 3084 \r\nQ 3944 3084 3684 2787 \r\nQ 3425 2491 3425 1978 \r\nL 3425 0 \r\nL 2847 0 \r\nL 2847 2094 \r\nQ 2847 2600 2669 2842 \r\nQ 2491 3084 2119 3084 \r\nQ 1678 3084 1418 2786 \r\nQ 1159 2488 1159 1978 \r\nL 1159 0 \r\nL 581 0 \r\nL 581 3500 \r\nL 1159 3500 \r\nL 1159 2956 \r\nQ 1356 3278 1631 3431 \r\nQ 1906 3584 2284 3584 \r\nQ 2666 3584 2933 3390 \r\nQ 3200 3197 3328 2828 \r\nz\r\n\" id=\"DejaVuSans-6d\" transform=\"scale(0.015625)\"/>\r\n      <path d=\"M 2834 3397 \r\nL 2834 2853 \r\nQ 2591 2978 2328 3040 \r\nQ 2066 3103 1784 3103 \r\nQ 1356 3103 1142 2972 \r\nQ 928 2841 928 2578 \r\nQ 928 2378 1081 2264 \r\nQ 1234 2150 1697 2047 \r\nL 1894 2003 \r\nQ 2506 1872 2764 1633 \r\nQ 3022 1394 3022 966 \r\nQ 3022 478 2636 193 \r\nQ 2250 -91 1575 -91 \r\nQ 1294 -91 989 -36 \r\nQ 684 19 347 128 \r\nL 347 722 \r\nQ 666 556 975 473 \r\nQ 1284 391 1588 391 \r\nQ 1994 391 2212 530 \r\nQ 2431 669 2431 922 \r\nQ 2431 1156 2273 1281 \r\nQ 2116 1406 1581 1522 \r\nL 1381 1569 \r\nQ 847 1681 609 1914 \r\nQ 372 2147 372 2553 \r\nQ 372 3047 722 3315 \r\nQ 1072 3584 1716 3584 \r\nQ 2034 3584 2315 3537 \r\nQ 2597 3491 2834 3397 \r\nz\r\n\" id=\"DejaVuSans-73\" transform=\"scale(0.015625)\"/>\r\n      <path d=\"M 1984 4856 \r\nQ 1566 4138 1362 3434 \r\nQ 1159 2731 1159 2009 \r\nQ 1159 1288 1364 580 \r\nQ 1569 -128 1984 -844 \r\nL 1484 -844 \r\nQ 1016 -109 783 600 \r\nQ 550 1309 550 2009 \r\nQ 550 2706 781 3412 \r\nQ 1013 4119 1484 4856 \r\nL 1984 4856 \r\nz\r\n\" id=\"DejaVuSans-28\" transform=\"scale(0.015625)\"/>\r\n      <path d=\"M 684 794 \r\nL 1344 794 \r\nL 1344 0 \r\nL 684 0 \r\nL 684 794 \r\nz\r\n\" id=\"DejaVuSans-2e\" transform=\"scale(0.015625)\"/>\r\n      <path d=\"M 3116 1747 \r\nQ 3116 2381 2855 2742 \r\nQ 2594 3103 2138 3103 \r\nQ 1681 3103 1420 2742 \r\nQ 1159 2381 1159 1747 \r\nQ 1159 1113 1420 752 \r\nQ 1681 391 2138 391 \r\nQ 2594 391 2855 752 \r\nQ 3116 1113 3116 1747 \r\nz\r\nM 1159 2969 \r\nQ 1341 3281 1617 3432 \r\nQ 1894 3584 2278 3584 \r\nQ 2916 3584 3314 3078 \r\nQ 3713 2572 3713 1747 \r\nQ 3713 922 3314 415 \r\nQ 2916 -91 2278 -91 \r\nQ 1894 -91 1617 61 \r\nQ 1341 213 1159 525 \r\nL 1159 0 \r\nL 581 0 \r\nL 581 4863 \r\nL 1159 4863 \r\nL 1159 2969 \r\nz\r\n\" id=\"DejaVuSans-62\" transform=\"scale(0.015625)\"/>\r\n      <path d=\"M 513 4856 \r\nL 1013 4856 \r\nQ 1481 4119 1714 3412 \r\nQ 1947 2706 1947 2009 \r\nQ 1947 1309 1714 600 \r\nQ 1481 -109 1013 -844 \r\nL 513 -844 \r\nQ 928 -128 1133 580 \r\nQ 1338 1288 1338 2009 \r\nQ 1338 2731 1133 3434 \r\nQ 928 4138 513 4856 \r\nz\r\n\" id=\"DejaVuSans-29\" transform=\"scale(0.015625)\"/>\r\n     </defs>\r\n     <use xlink:href=\"#DejaVuSans-4f\"/>\r\n     <use x=\"78.710938\" xlink:href=\"#DejaVuSans-70\"/>\r\n     <use x=\"142.1875\" xlink:href=\"#DejaVuSans-74\"/>\r\n     <use x=\"181.396484\" xlink:href=\"#DejaVuSans-69\"/>\r\n     <use x=\"209.179688\" xlink:href=\"#DejaVuSans-6d\"/>\r\n     <use x=\"306.591797\" xlink:href=\"#DejaVuSans-61\"/>\r\n     <use x=\"367.871094\" xlink:href=\"#DejaVuSans-6c\"/>\r\n     <use x=\"395.654297\" xlink:href=\"#DejaVuSans-20\"/>\r\n     <use x=\"427.441406\" xlink:href=\"#DejaVuSans-70\"/>\r\n     <use x=\"490.917969\" xlink:href=\"#DejaVuSans-6f\"/>\r\n     <use x=\"552.099609\" xlink:href=\"#DejaVuSans-6c\"/>\r\n     <use x=\"579.882812\" xlink:href=\"#DejaVuSans-69\"/>\r\n     <use x=\"607.666016\" xlink:href=\"#DejaVuSans-63\"/>\r\n     <use x=\"662.646484\" xlink:href=\"#DejaVuSans-79\"/>\r\n     <use x=\"721.826172\" xlink:href=\"#DejaVuSans-20\"/>\r\n     <use x=\"753.613281\" xlink:href=\"#DejaVuSans-76\"/>\r\n     <use x=\"812.792969\" xlink:href=\"#DejaVuSans-61\"/>\r\n     <use x=\"874.072266\" xlink:href=\"#DejaVuSans-6c\"/>\r\n     <use x=\"901.855469\" xlink:href=\"#DejaVuSans-75\"/>\r\n     <use x=\"965.234375\" xlink:href=\"#DejaVuSans-65\"/>\r\n     <use x=\"1026.757812\" xlink:href=\"#DejaVuSans-73\"/>\r\n     <use x=\"1078.857422\" xlink:href=\"#DejaVuSans-20\"/>\r\n     <use x=\"1110.644531\" xlink:href=\"#DejaVuSans-28\"/>\r\n     <use x=\"1149.658203\" xlink:href=\"#DejaVuSans-69\"/>\r\n     <use x=\"1177.441406\" xlink:href=\"#DejaVuSans-2e\"/>\r\n     <use x=\"1209.228516\" xlink:href=\"#DejaVuSans-65\"/>\r\n     <use x=\"1270.751953\" xlink:href=\"#DejaVuSans-2e\"/>\r\n     <use x=\"1302.539062\" xlink:href=\"#DejaVuSans-20\"/>\r\n     <use x=\"1334.326172\" xlink:href=\"#DejaVuSans-62\"/>\r\n     <use x=\"1397.802734\" xlink:href=\"#DejaVuSans-65\"/>\r\n     <use x=\"1459.326172\" xlink:href=\"#DejaVuSans-74\"/>\r\n     <use x=\"1498.535156\" xlink:href=\"#DejaVuSans-73\"/>\r\n     <use x=\"1550.634766\" xlink:href=\"#DejaVuSans-29\"/>\r\n    </g>\r\n   </g>\r\n  </g>\r\n </g>\r\n <defs>\r\n  <clipPath id=\"pee73cedc89\">\r\n   <rect height=\"217.44\" width=\"334.8\" x=\"40.603125\" y=\"22.318125\"/>\r\n  </clipPath>\r\n </defs>\r\n</svg>\r\n",
      "image/png": "[encoded data removed]"
     },
     "metadata": {
      "needs_background": "light"
     }
    }
   ],
   "source": [
    "import matplotlib.pyplot as plt\n",
    "plt.plot(optimal_policy[:100].numpy())\n",
    "plt.title(\"Optimal policy values (i.e. bets)\")\n",
    "plt.xlabel(\"Capital\")\n",
    "plt.ylabel(\"Policy value/Bet\")"
   ]
  },
  {
   "source": [
    "### RESULT DOES NOT CONVERGE: HENCE INACCURATE"
   ],
   "cell_type": "markdown",
   "metadata": {}
  },
  {
   "cell_type": "code",
   "execution_count": 184,
   "metadata": {},
   "outputs": [],
   "source": [
    "def policy_evaluation(env, policy, gamma, threshold):\n",
    "    num_states = env[\"num_states\"]\n",
    "    head_prob = env[\"head_prob\"]\n",
    "    max_capital = env[\"max_capital\"]\n",
    "    rewards = env[\"rewards\"]\n",
    "\n",
    "    tail_prob = 1 - head_prob\n",
    "    V = torch.zeros(num_states)\n",
    "    max_delta = 1 + threshold\n",
    "    while max_delta > threshold:\n",
    "        temp = torch.zeros(num_states)\n",
    "        # Game ends if the gambler runs out of money or reaches max_capital\n",
    "        for state in range(1, max_capital):\n",
    "            action = policy[state].item()\n",
    "            temp[state] += head_prob * (rewards[state + action] + gamma * V[state + action])      \n",
    "            temp[state] += tail_prob * (rewards[state - action] + gamma * V[state - action])          \n",
    "        max_delta = torch.max(torch.abs(V - temp))\n",
    "        V = temp.clone()\n",
    "    return V\n",
    "\n",
    "def policy_improvement(env, V, gamma):\n",
    "    num_states = env[\"num_states\"]\n",
    "    head_prob = env[\"head_prob\"]\n",
    "    max_capital = env[\"max_capital\"]\n",
    "    rewards = env[\"rewards\"]\n",
    "\n",
    "    tail_prob = 1 - head_prob\n",
    "    policy = torch.zeros(num_states).int()\n",
    "    for state in range(1, max_capital):\n",
    "        num_actions = min(state, max_capital - state) + 1\n",
    "        actions = torch.zeros(num_actions)\n",
    "        for action in range(1, num_actions):\n",
    "            actions[action] += head_prob * (rewards[state + action] + gamma * V[state + action])\n",
    "            actions[action] += tail_prob * (rewards[state - action] + gamma * V[state - action])\n",
    "        policy[state] = torch.argmax(actions)\n",
    "    return policy"
   ]
  },
  {
   "cell_type": "code",
   "execution_count": 204,
   "metadata": {},
   "outputs": [],
   "source": [
    "def policy_iteration(env, gamma, threshold):\n",
    "    num_states = env[\"num_states\"]\n",
    "    policy = torch.zeros(num_states).int()\n",
    "    num_iterations = 0\n",
    "    while True:\n",
    "        V =  policy_evaluation(env, policy, gamma, threshold) # value_iteration(env, gamma, threshold)\n",
    "        new_policy = policy_improvement(env, V, gamma)\n",
    "        num_iterations += 1\n",
    "        if torch.equal(new_policy, policy) or num_iterations == 50:\n",
    "            return V, new_policy\n",
    "        policy = new_policy"
   ]
  },
  {
   "cell_type": "code",
   "execution_count": 205,
   "metadata": {
    "tags": []
   },
   "outputs": [
    {
     "output_type": "stream",
     "name": "stdout",
     "text": [
      "Time taken to obtain the optimal policy through policy iteration: 24.453s\nOptimal values:\n tensor([0.0000, 0.0021, 0.0052, 0.0092, 0.0129, 0.0174, 0.0231, 0.0278, 0.0323,\n        0.0377, 0.0435, 0.0503, 0.0576, 0.0652, 0.0695, 0.0744, 0.0807, 0.0866,\n        0.0942, 0.1031, 0.1087, 0.1160, 0.1259, 0.1336, 0.1441, 0.1600, 0.1631,\n        0.1677, 0.1738, 0.1794, 0.1861, 0.1946, 0.2017, 0.2084, 0.2165, 0.2252,\n        0.2355, 0.2465, 0.2578, 0.2643, 0.2716, 0.2810, 0.2899, 0.3013, 0.3147,\n        0.3230, 0.3339, 0.3488, 0.3604, 0.3762, 0.4000, 0.4031, 0.4077, 0.4138,\n        0.4194, 0.4261, 0.4346, 0.4417, 0.4484, 0.4565, 0.4652, 0.4755, 0.4865,\n        0.4978, 0.5043, 0.5116, 0.5210, 0.5299, 0.5413, 0.5547, 0.5630, 0.5739,\n        0.5888, 0.6004, 0.6162, 0.6400, 0.6446, 0.6516, 0.6607, 0.6690, 0.6791,\n        0.6919, 0.7025, 0.7126, 0.7248, 0.7378, 0.7533, 0.7697, 0.7868, 0.7964,\n        0.8075, 0.8215, 0.8349, 0.8520, 0.8721, 0.8845, 0.9009, 0.9232, 0.9405,\n        0.9643, 0.0000])\nOptimal policy tensor([ 0,  1,  2,  3,  4,  5,  6,  7,  8,  9, 10, 11, 12, 12, 11, 10,  9,  8,\n         7, 19,  5, 21,  3,  2, 24, 25, 24,  2,  3, 21, 20,  6, 32, 17,  9, 15,\n        11, 37, 12, 11, 10,  9,  8,  7,  6,  5,  4,  3,  2,  1, 50, 49,  2,  3,\n        46, 45,  6,  7, 42,  9, 40, 11, 12, 12, 11, 10,  9,  8,  7,  6,  5,  4,\n         3,  2,  1, 25,  1,  2,  3, 21,  5, 19, 18, 17,  9, 10, 11, 13, 12, 11,\n        10,  9,  8,  7,  6,  5,  4,  3,  2,  1,  0], dtype=torch.int32)\n"
     ]
    }
   ],
   "source": [
    "start = time.time()\n",
    "optimal_values, optimal_policy = policy_iteration(env, 1, 0.0001)\n",
    "print(\"Time taken to obtain the optimal policy through policy iteration: {:.3f}s\".format(time.time() - start))\n",
    "print(\"Optimal values:\\n\",  optimal_values)\n",
    "print(\"Optimal policy\", optimal_policy)"
   ]
  },
  {
   "cell_type": "code",
   "execution_count": 206,
   "metadata": {},
   "outputs": [
    {
     "output_type": "execute_result",
     "data": {
      "text/plain": [
       "Text(0, 0.5, 'Policy value/Bet')"
      ]
     },
     "metadata": {},
     "execution_count": 206
    },
    {
     "output_type": "display_data",
     "data": {
      "text/plain": "<Figure size 432x288 with 1 Axes>",
      "image/svg+xml": "<?xml version=\"1.0\" encoding=\"utf-8\" standalone=\"no\"?>\r\n<!DOCTYPE svg PUBLIC \"-//W3C//DTD SVG 1.1//EN\"\r\n  \"http://www.w3.org/Graphics/SVG/1.1/DTD/svg11.dtd\">\r\n<svg height=\"277.314375pt\" version=\"1.1\" viewBox=\"0 0 382.603125 277.314375\" width=\"382.603125pt\" xmlns=\"http://www.w3.org/2000/svg\" xmlns:xlink=\"http://www.w3.org/1999/xlink\">\r\n <metadata>\r\n  <rdf:RDF xmlns:cc=\"http://creativecommons.org/ns#\" xmlns:dc=\"http://purl.org/dc/elements/1.1/\" xmlns:rdf=\"http://www.w3.org/1999/02/22-rdf-syntax-ns#\">\r\n   <cc:Work>\r\n    <dc:type rdf:resource=\"http://purl.org/dc/dcmitype/StillImage\"/>\r\n    <dc:date>2021-05-22T20:52:19.379635</dc:date>\r\n    <dc:format>image/svg+xml</dc:format>\r\n    <dc:creator>\r\n     <cc:Agent>\r\n      <dc:title>Matplotlib v3.4.2, https://matplotlib.org/</dc:title>\r\n     </cc:Agent>\r\n    </dc:creator>\r\n   </cc:Work>\r\n  </rdf:RDF>\r\n </metadata>\r\n <defs>\r\n  <style type=\"text/css\">*{stroke-linecap:butt;stroke-linejoin:round;}</style>\r\n </defs>\r\n <g id=\"figure_1\">\r\n  <g id=\"patch_1\">\r\n   <path d=\"M 0 277.314375 \r\nL 382.603125 277.314375 \r\nL 382.603125 0 \r\nL 0 0 \r\nz\r\n\" style=\"fill:none;\"/>\r\n  </g>\r\n  <g id=\"axes_1\">\r\n   <g id=\"patch_2\">\r\n    <path d=\"M 40.603125 239.758125 \r\nL 375.403125 239.758125 \r\nL 375.403125 22.318125 \r\nL 40.603125 22.318125 \r\nz\r\n\" style=\"fill:#ffffff;\"/>\r\n   </g>\r\n   <g id=\"matplotlib.axis_1\">\r\n    <g id=\"xtick_1\">\r\n     <g id=\"line2d_1\">\r\n      <defs>\r\n       <path d=\"M 0 0 \r\nL 0 3.5 \r\n\" id=\"m98edb0eef7\" style=\"stroke:#000000;stroke-width:0.8;\"/>\r\n      </defs>\r\n      <g>\r\n       <use style=\"stroke:#000000;stroke-width:0.8;\" x=\"55.821307\" xlink:href=\"#m98edb0eef7\" y=\"239.758125\"/>\r\n      </g>\r\n     </g>\r\n     <g id=\"text_1\">\r\n      <!-- 0 -->\r\n      <g transform=\"translate(52.640057 254.356562)scale(0.1 -0.1)\">\r\n       <defs>\r\n        <path d=\"M 2034 4250 \r\nQ 1547 4250 1301 3770 \r\nQ 1056 3291 1056 2328 \r\nQ 1056 1369 1301 889 \r\nQ 1547 409 2034 409 \r\nQ 2525 409 2770 889 \r\nQ 3016 1369 3016 2328 \r\nQ 3016 3291 2770 3770 \r\nQ 2525 4250 2034 4250 \r\nz\r\nM 2034 4750 \r\nQ 2819 4750 3233 4129 \r\nQ 3647 3509 3647 2328 \r\nQ 3647 1150 3233 529 \r\nQ 2819 -91 2034 -91 \r\nQ 1250 -91 836 529 \r\nQ 422 1150 422 2328 \r\nQ 422 3509 836 4129 \r\nQ 1250 4750 2034 4750 \r\nz\r\n\" id=\"DejaVuSans-30\" transform=\"scale(0.015625)\"/>\r\n       </defs>\r\n       <use xlink:href=\"#DejaVuSans-30\"/>\r\n      </g>\r\n     </g>\r\n    </g>\r\n    <g id=\"xtick_2\">\r\n     <g id=\"line2d_2\">\r\n      <g>\r\n       <use style=\"stroke:#000000;stroke-width:0.8;\" x=\"117.30891\" xlink:href=\"#m98edb0eef7\" y=\"239.758125\"/>\r\n      </g>\r\n     </g>\r\n     <g id=\"text_2\">\r\n      <!-- 20 -->\r\n      <g transform=\"translate(110.94641 254.356562)scale(0.1 -0.1)\">\r\n       <defs>\r\n        <path d=\"M 1228 531 \r\nL 3431 531 \r\nL 3431 0 \r\nL 469 0 \r\nL 469 531 \r\nQ 828 903 1448 1529 \r\nQ 2069 2156 2228 2338 \r\nQ 2531 2678 2651 2914 \r\nQ 2772 3150 2772 3378 \r\nQ 2772 3750 2511 3984 \r\nQ 2250 4219 1831 4219 \r\nQ 1534 4219 1204 4116 \r\nQ 875 4013 500 3803 \r\nL 500 4441 \r\nQ 881 4594 1212 4672 \r\nQ 1544 4750 1819 4750 \r\nQ 2544 4750 2975 4387 \r\nQ 3406 4025 3406 3419 \r\nQ 3406 3131 3298 2873 \r\nQ 3191 2616 2906 2266 \r\nQ 2828 2175 2409 1742 \r\nQ 1991 1309 1228 531 \r\nz\r\n\" id=\"DejaVuSans-32\" transform=\"scale(0.015625)\"/>\r\n       </defs>\r\n       <use xlink:href=\"#DejaVuSans-32\"/>\r\n       <use x=\"63.623047\" xlink:href=\"#DejaVuSans-30\"/>\r\n      </g>\r\n     </g>\r\n    </g>\r\n    <g id=\"xtick_3\">\r\n     <g id=\"line2d_3\">\r\n      <g>\r\n       <use style=\"stroke:#000000;stroke-width:0.8;\" x=\"178.796513\" xlink:href=\"#m98edb0eef7\" y=\"239.758125\"/>\r\n      </g>\r\n     </g>\r\n     <g id=\"text_3\">\r\n      <!-- 40 -->\r\n      <g transform=\"translate(172.434013 254.356562)scale(0.1 -0.1)\">\r\n       <defs>\r\n        <path d=\"M 2419 4116 \r\nL 825 1625 \r\nL 2419 1625 \r\nL 2419 4116 \r\nz\r\nM 2253 4666 \r\nL 3047 4666 \r\nL 3047 1625 \r\nL 3713 1625 \r\nL 3713 1100 \r\nL 3047 1100 \r\nL 3047 0 \r\nL 2419 0 \r\nL 2419 1100 \r\nL 313 1100 \r\nL 313 1709 \r\nL 2253 4666 \r\nz\r\n\" id=\"DejaVuSans-34\" transform=\"scale(0.015625)\"/>\r\n       </defs>\r\n       <use xlink:href=\"#DejaVuSans-34\"/>\r\n       <use x=\"63.623047\" xlink:href=\"#DejaVuSans-30\"/>\r\n      </g>\r\n     </g>\r\n    </g>\r\n    <g id=\"xtick_4\">\r\n     <g id=\"line2d_4\">\r\n      <g>\r\n       <use style=\"stroke:#000000;stroke-width:0.8;\" x=\"240.284117\" xlink:href=\"#m98edb0eef7\" y=\"239.758125\"/>\r\n      </g>\r\n     </g>\r\n     <g id=\"text_4\">\r\n      <!-- 60 -->\r\n      <g transform=\"translate(233.921617 254.356562)scale(0.1 -0.1)\">\r\n       <defs>\r\n        <path d=\"M 2113 2584 \r\nQ 1688 2584 1439 2293 \r\nQ 1191 2003 1191 1497 \r\nQ 1191 994 1439 701 \r\nQ 1688 409 2113 409 \r\nQ 2538 409 2786 701 \r\nQ 3034 994 3034 1497 \r\nQ 3034 2003 2786 2293 \r\nQ 2538 2584 2113 2584 \r\nz\r\nM 3366 4563 \r\nL 3366 3988 \r\nQ 3128 4100 2886 4159 \r\nQ 2644 4219 2406 4219 \r\nQ 1781 4219 1451 3797 \r\nQ 1122 3375 1075 2522 \r\nQ 1259 2794 1537 2939 \r\nQ 1816 3084 2150 3084 \r\nQ 2853 3084 3261 2657 \r\nQ 3669 2231 3669 1497 \r\nQ 3669 778 3244 343 \r\nQ 2819 -91 2113 -91 \r\nQ 1303 -91 875 529 \r\nQ 447 1150 447 2328 \r\nQ 447 3434 972 4092 \r\nQ 1497 4750 2381 4750 \r\nQ 2619 4750 2861 4703 \r\nQ 3103 4656 3366 4563 \r\nz\r\n\" id=\"DejaVuSans-36\" transform=\"scale(0.015625)\"/>\r\n       </defs>\r\n       <use xlink:href=\"#DejaVuSans-36\"/>\r\n       <use x=\"63.623047\" xlink:href=\"#DejaVuSans-30\"/>\r\n      </g>\r\n     </g>\r\n    </g>\r\n    <g id=\"xtick_5\">\r\n     <g id=\"line2d_5\">\r\n      <g>\r\n       <use style=\"stroke:#000000;stroke-width:0.8;\" x=\"301.77172\" xlink:href=\"#m98edb0eef7\" y=\"239.758125\"/>\r\n      </g>\r\n     </g>\r\n     <g id=\"text_5\">\r\n      <!-- 80 -->\r\n      <g transform=\"translate(295.40922 254.356562)scale(0.1 -0.1)\">\r\n       <defs>\r\n        <path d=\"M 2034 2216 \r\nQ 1584 2216 1326 1975 \r\nQ 1069 1734 1069 1313 \r\nQ 1069 891 1326 650 \r\nQ 1584 409 2034 409 \r\nQ 2484 409 2743 651 \r\nQ 3003 894 3003 1313 \r\nQ 3003 1734 2745 1975 \r\nQ 2488 2216 2034 2216 \r\nz\r\nM 1403 2484 \r\nQ 997 2584 770 2862 \r\nQ 544 3141 544 3541 \r\nQ 544 4100 942 4425 \r\nQ 1341 4750 2034 4750 \r\nQ 2731 4750 3128 4425 \r\nQ 3525 4100 3525 3541 \r\nQ 3525 3141 3298 2862 \r\nQ 3072 2584 2669 2484 \r\nQ 3125 2378 3379 2068 \r\nQ 3634 1759 3634 1313 \r\nQ 3634 634 3220 271 \r\nQ 2806 -91 2034 -91 \r\nQ 1263 -91 848 271 \r\nQ 434 634 434 1313 \r\nQ 434 1759 690 2068 \r\nQ 947 2378 1403 2484 \r\nz\r\nM 1172 3481 \r\nQ 1172 3119 1398 2916 \r\nQ 1625 2713 2034 2713 \r\nQ 2441 2713 2670 2916 \r\nQ 2900 3119 2900 3481 \r\nQ 2900 3844 2670 4047 \r\nQ 2441 4250 2034 4250 \r\nQ 1625 4250 1398 4047 \r\nQ 1172 3844 1172 3481 \r\nz\r\n\" id=\"DejaVuSans-38\" transform=\"scale(0.015625)\"/>\r\n       </defs>\r\n       <use xlink:href=\"#DejaVuSans-38\"/>\r\n       <use x=\"63.623047\" xlink:href=\"#DejaVuSans-30\"/>\r\n      </g>\r\n     </g>\r\n    </g>\r\n    <g id=\"xtick_6\">\r\n     <g id=\"line2d_6\">\r\n      <g>\r\n       <use style=\"stroke:#000000;stroke-width:0.8;\" x=\"363.259323\" xlink:href=\"#m98edb0eef7\" y=\"239.758125\"/>\r\n      </g>\r\n     </g>\r\n     <g id=\"text_6\">\r\n      <!-- 100 -->\r\n      <g transform=\"translate(353.715573 254.356562)scale(0.1 -0.1)\">\r\n       <defs>\r\n        <path d=\"M 794 531 \r\nL 1825 531 \r\nL 1825 4091 \r\nL 703 3866 \r\nL 703 4441 \r\nL 1819 4666 \r\nL 2450 4666 \r\nL 2450 531 \r\nL 3481 531 \r\nL 3481 0 \r\nL 794 0 \r\nL 794 531 \r\nz\r\n\" id=\"DejaVuSans-31\" transform=\"scale(0.015625)\"/>\r\n       </defs>\r\n       <use xlink:href=\"#DejaVuSans-31\"/>\r\n       <use x=\"63.623047\" xlink:href=\"#DejaVuSans-30\"/>\r\n       <use x=\"127.246094\" xlink:href=\"#DejaVuSans-30\"/>\r\n      </g>\r\n     </g>\r\n    </g>\r\n    <g id=\"text_7\">\r\n     <!-- Capital -->\r\n     <g transform=\"translate(190.471094 268.034687)scale(0.1 -0.1)\">\r\n      <defs>\r\n       <path d=\"M 4122 4306 \r\nL 4122 3641 \r\nQ 3803 3938 3442 4084 \r\nQ 3081 4231 2675 4231 \r\nQ 1875 4231 1450 3742 \r\nQ 1025 3253 1025 2328 \r\nQ 1025 1406 1450 917 \r\nQ 1875 428 2675 428 \r\nQ 3081 428 3442 575 \r\nQ 3803 722 4122 1019 \r\nL 4122 359 \r\nQ 3791 134 3420 21 \r\nQ 3050 -91 2638 -91 \r\nQ 1578 -91 968 557 \r\nQ 359 1206 359 2328 \r\nQ 359 3453 968 4101 \r\nQ 1578 4750 2638 4750 \r\nQ 3056 4750 3426 4639 \r\nQ 3797 4528 4122 4306 \r\nz\r\n\" id=\"DejaVuSans-43\" transform=\"scale(0.015625)\"/>\r\n       <path d=\"M 2194 1759 \r\nQ 1497 1759 1228 1600 \r\nQ 959 1441 959 1056 \r\nQ 959 750 1161 570 \r\nQ 1363 391 1709 391 \r\nQ 2188 391 2477 730 \r\nQ 2766 1069 2766 1631 \r\nL 2766 1759 \r\nL 2194 1759 \r\nz\r\nM 3341 1997 \r\nL 3341 0 \r\nL 2766 0 \r\nL 2766 531 \r\nQ 2569 213 2275 61 \r\nQ 1981 -91 1556 -91 \r\nQ 1019 -91 701 211 \r\nQ 384 513 384 1019 \r\nQ 384 1609 779 1909 \r\nQ 1175 2209 1959 2209 \r\nL 2766 2209 \r\nL 2766 2266 \r\nQ 2766 2663 2505 2880 \r\nQ 2244 3097 1772 3097 \r\nQ 1472 3097 1187 3025 \r\nQ 903 2953 641 2809 \r\nL 641 3341 \r\nQ 956 3463 1253 3523 \r\nQ 1550 3584 1831 3584 \r\nQ 2591 3584 2966 3190 \r\nQ 3341 2797 3341 1997 \r\nz\r\n\" id=\"DejaVuSans-61\" transform=\"scale(0.015625)\"/>\r\n       <path d=\"M 1159 525 \r\nL 1159 -1331 \r\nL 581 -1331 \r\nL 581 3500 \r\nL 1159 3500 \r\nL 1159 2969 \r\nQ 1341 3281 1617 3432 \r\nQ 1894 3584 2278 3584 \r\nQ 2916 3584 3314 3078 \r\nQ 3713 2572 3713 1747 \r\nQ 3713 922 3314 415 \r\nQ 2916 -91 2278 -91 \r\nQ 1894 -91 1617 61 \r\nQ 1341 213 1159 525 \r\nz\r\nM 3116 1747 \r\nQ 3116 2381 2855 2742 \r\nQ 2594 3103 2138 3103 \r\nQ 1681 3103 1420 2742 \r\nQ 1159 2381 1159 1747 \r\nQ 1159 1113 1420 752 \r\nQ 1681 391 2138 391 \r\nQ 2594 391 2855 752 \r\nQ 3116 1113 3116 1747 \r\nz\r\n\" id=\"DejaVuSans-70\" transform=\"scale(0.015625)\"/>\r\n       <path d=\"M 603 3500 \r\nL 1178 3500 \r\nL 1178 0 \r\nL 603 0 \r\nL 603 3500 \r\nz\r\nM 603 4863 \r\nL 1178 4863 \r\nL 1178 4134 \r\nL 603 4134 \r\nL 603 4863 \r\nz\r\n\" id=\"DejaVuSans-69\" transform=\"scale(0.015625)\"/>\r\n       <path d=\"M 1172 4494 \r\nL 1172 3500 \r\nL 2356 3500 \r\nL 2356 3053 \r\nL 1172 3053 \r\nL 1172 1153 \r\nQ 1172 725 1289 603 \r\nQ 1406 481 1766 481 \r\nL 2356 481 \r\nL 2356 0 \r\nL 1766 0 \r\nQ 1100 0 847 248 \r\nQ 594 497 594 1153 \r\nL 594 3053 \r\nL 172 3053 \r\nL 172 3500 \r\nL 594 3500 \r\nL 594 4494 \r\nL 1172 4494 \r\nz\r\n\" id=\"DejaVuSans-74\" transform=\"scale(0.015625)\"/>\r\n       <path d=\"M 603 4863 \r\nL 1178 4863 \r\nL 1178 0 \r\nL 603 0 \r\nL 603 4863 \r\nz\r\n\" id=\"DejaVuSans-6c\" transform=\"scale(0.015625)\"/>\r\n      </defs>\r\n      <use xlink:href=\"#DejaVuSans-43\"/>\r\n      <use x=\"69.824219\" xlink:href=\"#DejaVuSans-61\"/>\r\n      <use x=\"131.103516\" xlink:href=\"#DejaVuSans-70\"/>\r\n      <use x=\"194.580078\" xlink:href=\"#DejaVuSans-69\"/>\r\n      <use x=\"222.363281\" xlink:href=\"#DejaVuSans-74\"/>\r\n      <use x=\"261.572266\" xlink:href=\"#DejaVuSans-61\"/>\r\n      <use x=\"322.851562\" xlink:href=\"#DejaVuSans-6c\"/>\r\n     </g>\r\n    </g>\r\n   </g>\r\n   <g id=\"matplotlib.axis_2\">\r\n    <g id=\"ytick_1\">\r\n     <g id=\"line2d_7\">\r\n      <defs>\r\n       <path d=\"M 0 0 \r\nL -3.5 0 \r\n\" id=\"m8127aeab40\" style=\"stroke:#000000;stroke-width:0.8;\"/>\r\n      </defs>\r\n      <g>\r\n       <use style=\"stroke:#000000;stroke-width:0.8;\" x=\"40.603125\" xlink:href=\"#m8127aeab40\" y=\"229.874489\"/>\r\n      </g>\r\n     </g>\r\n     <g id=\"text_8\">\r\n      <!-- 0 -->\r\n      <g transform=\"translate(27.240625 233.673707)scale(0.1 -0.1)\">\r\n       <use xlink:href=\"#DejaVuSans-30\"/>\r\n      </g>\r\n     </g>\r\n    </g>\r\n    <g id=\"ytick_2\">\r\n     <g id=\"line2d_8\">\r\n      <g>\r\n       <use style=\"stroke:#000000;stroke-width:0.8;\" x=\"40.603125\" xlink:href=\"#m8127aeab40\" y=\"190.339943\"/>\r\n      </g>\r\n     </g>\r\n     <g id=\"text_9\">\r\n      <!-- 10 -->\r\n      <g transform=\"translate(20.878125 194.139162)scale(0.1 -0.1)\">\r\n       <use xlink:href=\"#DejaVuSans-31\"/>\r\n       <use x=\"63.623047\" xlink:href=\"#DejaVuSans-30\"/>\r\n      </g>\r\n     </g>\r\n    </g>\r\n    <g id=\"ytick_3\">\r\n     <g id=\"line2d_9\">\r\n      <g>\r\n       <use style=\"stroke:#000000;stroke-width:0.8;\" x=\"40.603125\" xlink:href=\"#m8127aeab40\" y=\"150.805398\"/>\r\n      </g>\r\n     </g>\r\n     <g id=\"text_10\">\r\n      <!-- 20 -->\r\n      <g transform=\"translate(20.878125 154.604616)scale(0.1 -0.1)\">\r\n       <use xlink:href=\"#DejaVuSans-32\"/>\r\n       <use x=\"63.623047\" xlink:href=\"#DejaVuSans-30\"/>\r\n      </g>\r\n     </g>\r\n    </g>\r\n    <g id=\"ytick_4\">\r\n     <g id=\"line2d_10\">\r\n      <g>\r\n       <use style=\"stroke:#000000;stroke-width:0.8;\" x=\"40.603125\" xlink:href=\"#m8127aeab40\" y=\"111.270852\"/>\r\n      </g>\r\n     </g>\r\n     <g id=\"text_11\">\r\n      <!-- 30 -->\r\n      <g transform=\"translate(20.878125 115.070071)scale(0.1 -0.1)\">\r\n       <defs>\r\n        <path d=\"M 2597 2516 \r\nQ 3050 2419 3304 2112 \r\nQ 3559 1806 3559 1356 \r\nQ 3559 666 3084 287 \r\nQ 2609 -91 1734 -91 \r\nQ 1441 -91 1130 -33 \r\nQ 819 25 488 141 \r\nL 488 750 \r\nQ 750 597 1062 519 \r\nQ 1375 441 1716 441 \r\nQ 2309 441 2620 675 \r\nQ 2931 909 2931 1356 \r\nQ 2931 1769 2642 2001 \r\nQ 2353 2234 1838 2234 \r\nL 1294 2234 \r\nL 1294 2753 \r\nL 1863 2753 \r\nQ 2328 2753 2575 2939 \r\nQ 2822 3125 2822 3475 \r\nQ 2822 3834 2567 4026 \r\nQ 2313 4219 1838 4219 \r\nQ 1578 4219 1281 4162 \r\nQ 984 4106 628 3988 \r\nL 628 4550 \r\nQ 988 4650 1302 4700 \r\nQ 1616 4750 1894 4750 \r\nQ 2613 4750 3031 4423 \r\nQ 3450 4097 3450 3541 \r\nQ 3450 3153 3228 2886 \r\nQ 3006 2619 2597 2516 \r\nz\r\n\" id=\"DejaVuSans-33\" transform=\"scale(0.015625)\"/>\r\n       </defs>\r\n       <use xlink:href=\"#DejaVuSans-33\"/>\r\n       <use x=\"63.623047\" xlink:href=\"#DejaVuSans-30\"/>\r\n      </g>\r\n     </g>\r\n    </g>\r\n    <g id=\"ytick_5\">\r\n     <g id=\"line2d_11\">\r\n      <g>\r\n       <use style=\"stroke:#000000;stroke-width:0.8;\" x=\"40.603125\" xlink:href=\"#m8127aeab40\" y=\"71.736307\"/>\r\n      </g>\r\n     </g>\r\n     <g id=\"text_12\">\r\n      <!-- 40 -->\r\n      <g transform=\"translate(20.878125 75.535526)scale(0.1 -0.1)\">\r\n       <use xlink:href=\"#DejaVuSans-34\"/>\r\n       <use x=\"63.623047\" xlink:href=\"#DejaVuSans-30\"/>\r\n      </g>\r\n     </g>\r\n    </g>\r\n    <g id=\"ytick_6\">\r\n     <g id=\"line2d_12\">\r\n      <g>\r\n       <use style=\"stroke:#000000;stroke-width:0.8;\" x=\"40.603125\" xlink:href=\"#m8127aeab40\" y=\"32.201761\"/>\r\n      </g>\r\n     </g>\r\n     <g id=\"text_13\">\r\n      <!-- 50 -->\r\n      <g transform=\"translate(20.878125 36.00098)scale(0.1 -0.1)\">\r\n       <defs>\r\n        <path d=\"M 691 4666 \r\nL 3169 4666 \r\nL 3169 4134 \r\nL 1269 4134 \r\nL 1269 2991 \r\nQ 1406 3038 1543 3061 \r\nQ 1681 3084 1819 3084 \r\nQ 2600 3084 3056 2656 \r\nQ 3513 2228 3513 1497 \r\nQ 3513 744 3044 326 \r\nQ 2575 -91 1722 -91 \r\nQ 1428 -91 1123 -41 \r\nQ 819 9 494 109 \r\nL 494 744 \r\nQ 775 591 1075 516 \r\nQ 1375 441 1709 441 \r\nQ 2250 441 2565 725 \r\nQ 2881 1009 2881 1497 \r\nQ 2881 1984 2565 2268 \r\nQ 2250 2553 1709 2553 \r\nQ 1456 2553 1204 2497 \r\nQ 953 2441 691 2322 \r\nL 691 4666 \r\nz\r\n\" id=\"DejaVuSans-35\" transform=\"scale(0.015625)\"/>\r\n       </defs>\r\n       <use xlink:href=\"#DejaVuSans-35\"/>\r\n       <use x=\"63.623047\" xlink:href=\"#DejaVuSans-30\"/>\r\n      </g>\r\n     </g>\r\n    </g>\r\n    <g id=\"text_14\">\r\n     <!-- Policy value/Bet -->\r\n     <g transform=\"translate(14.798438 170.81625)rotate(-90)scale(0.1 -0.1)\">\r\n      <defs>\r\n       <path d=\"M 1259 4147 \r\nL 1259 2394 \r\nL 2053 2394 \r\nQ 2494 2394 2734 2622 \r\nQ 2975 2850 2975 3272 \r\nQ 2975 3691 2734 3919 \r\nQ 2494 4147 2053 4147 \r\nL 1259 4147 \r\nz\r\nM 628 4666 \r\nL 2053 4666 \r\nQ 2838 4666 3239 4311 \r\nQ 3641 3956 3641 3272 \r\nQ 3641 2581 3239 2228 \r\nQ 2838 1875 2053 1875 \r\nL 1259 1875 \r\nL 1259 0 \r\nL 628 0 \r\nL 628 4666 \r\nz\r\n\" id=\"DejaVuSans-50\" transform=\"scale(0.015625)\"/>\r\n       <path d=\"M 1959 3097 \r\nQ 1497 3097 1228 2736 \r\nQ 959 2375 959 1747 \r\nQ 959 1119 1226 758 \r\nQ 1494 397 1959 397 \r\nQ 2419 397 2687 759 \r\nQ 2956 1122 2956 1747 \r\nQ 2956 2369 2687 2733 \r\nQ 2419 3097 1959 3097 \r\nz\r\nM 1959 3584 \r\nQ 2709 3584 3137 3096 \r\nQ 3566 2609 3566 1747 \r\nQ 3566 888 3137 398 \r\nQ 2709 -91 1959 -91 \r\nQ 1206 -91 779 398 \r\nQ 353 888 353 1747 \r\nQ 353 2609 779 3096 \r\nQ 1206 3584 1959 3584 \r\nz\r\n\" id=\"DejaVuSans-6f\" transform=\"scale(0.015625)\"/>\r\n       <path d=\"M 3122 3366 \r\nL 3122 2828 \r\nQ 2878 2963 2633 3030 \r\nQ 2388 3097 2138 3097 \r\nQ 1578 3097 1268 2742 \r\nQ 959 2388 959 1747 \r\nQ 959 1106 1268 751 \r\nQ 1578 397 2138 397 \r\nQ 2388 397 2633 464 \r\nQ 2878 531 3122 666 \r\nL 3122 134 \r\nQ 2881 22 2623 -34 \r\nQ 2366 -91 2075 -91 \r\nQ 1284 -91 818 406 \r\nQ 353 903 353 1747 \r\nQ 353 2603 823 3093 \r\nQ 1294 3584 2113 3584 \r\nQ 2378 3584 2631 3529 \r\nQ 2884 3475 3122 3366 \r\nz\r\n\" id=\"DejaVuSans-63\" transform=\"scale(0.015625)\"/>\r\n       <path d=\"M 2059 -325 \r\nQ 1816 -950 1584 -1140 \r\nQ 1353 -1331 966 -1331 \r\nL 506 -1331 \r\nL 506 -850 \r\nL 844 -850 \r\nQ 1081 -850 1212 -737 \r\nQ 1344 -625 1503 -206 \r\nL 1606 56 \r\nL 191 3500 \r\nL 800 3500 \r\nL 1894 763 \r\nL 2988 3500 \r\nL 3597 3500 \r\nL 2059 -325 \r\nz\r\n\" id=\"DejaVuSans-79\" transform=\"scale(0.015625)\"/>\r\n       <path id=\"DejaVuSans-20\" transform=\"scale(0.015625)\"/>\r\n       <path d=\"M 191 3500 \r\nL 800 3500 \r\nL 1894 563 \r\nL 2988 3500 \r\nL 3597 3500 \r\nL 2284 0 \r\nL 1503 0 \r\nL 191 3500 \r\nz\r\n\" id=\"DejaVuSans-76\" transform=\"scale(0.015625)\"/>\r\n       <path d=\"M 544 1381 \r\nL 544 3500 \r\nL 1119 3500 \r\nL 1119 1403 \r\nQ 1119 906 1312 657 \r\nQ 1506 409 1894 409 \r\nQ 2359 409 2629 706 \r\nQ 2900 1003 2900 1516 \r\nL 2900 3500 \r\nL 3475 3500 \r\nL 3475 0 \r\nL 2900 0 \r\nL 2900 538 \r\nQ 2691 219 2414 64 \r\nQ 2138 -91 1772 -91 \r\nQ 1169 -91 856 284 \r\nQ 544 659 544 1381 \r\nz\r\nM 1991 3584 \r\nL 1991 3584 \r\nz\r\n\" id=\"DejaVuSans-75\" transform=\"scale(0.015625)\"/>\r\n       <path d=\"M 3597 1894 \r\nL 3597 1613 \r\nL 953 1613 \r\nQ 991 1019 1311 708 \r\nQ 1631 397 2203 397 \r\nQ 2534 397 2845 478 \r\nQ 3156 559 3463 722 \r\nL 3463 178 \r\nQ 3153 47 2828 -22 \r\nQ 2503 -91 2169 -91 \r\nQ 1331 -91 842 396 \r\nQ 353 884 353 1716 \r\nQ 353 2575 817 3079 \r\nQ 1281 3584 2069 3584 \r\nQ 2775 3584 3186 3129 \r\nQ 3597 2675 3597 1894 \r\nz\r\nM 3022 2063 \r\nQ 3016 2534 2758 2815 \r\nQ 2500 3097 2075 3097 \r\nQ 1594 3097 1305 2825 \r\nQ 1016 2553 972 2059 \r\nL 3022 2063 \r\nz\r\n\" id=\"DejaVuSans-65\" transform=\"scale(0.015625)\"/>\r\n       <path d=\"M 1625 4666 \r\nL 2156 4666 \r\nL 531 -594 \r\nL 0 -594 \r\nL 1625 4666 \r\nz\r\n\" id=\"DejaVuSans-2f\" transform=\"scale(0.015625)\"/>\r\n       <path d=\"M 1259 2228 \r\nL 1259 519 \r\nL 2272 519 \r\nQ 2781 519 3026 730 \r\nQ 3272 941 3272 1375 \r\nQ 3272 1813 3026 2020 \r\nQ 2781 2228 2272 2228 \r\nL 1259 2228 \r\nz\r\nM 1259 4147 \r\nL 1259 2741 \r\nL 2194 2741 \r\nQ 2656 2741 2882 2914 \r\nQ 3109 3088 3109 3444 \r\nQ 3109 3797 2882 3972 \r\nQ 2656 4147 2194 4147 \r\nL 1259 4147 \r\nz\r\nM 628 4666 \r\nL 2241 4666 \r\nQ 2963 4666 3353 4366 \r\nQ 3744 4066 3744 3513 \r\nQ 3744 3084 3544 2831 \r\nQ 3344 2578 2956 2516 \r\nQ 3422 2416 3680 2098 \r\nQ 3938 1781 3938 1306 \r\nQ 3938 681 3513 340 \r\nQ 3088 0 2303 0 \r\nL 628 0 \r\nL 628 4666 \r\nz\r\n\" id=\"DejaVuSans-42\" transform=\"scale(0.015625)\"/>\r\n      </defs>\r\n      <use xlink:href=\"#DejaVuSans-50\"/>\r\n      <use x=\"56.677734\" xlink:href=\"#DejaVuSans-6f\"/>\r\n      <use x=\"117.859375\" xlink:href=\"#DejaVuSans-6c\"/>\r\n      <use x=\"145.642578\" xlink:href=\"#DejaVuSans-69\"/>\r\n      <use x=\"173.425781\" xlink:href=\"#DejaVuSans-63\"/>\r\n      <use x=\"228.40625\" xlink:href=\"#DejaVuSans-79\"/>\r\n      <use x=\"287.585938\" xlink:href=\"#DejaVuSans-20\"/>\r\n      <use x=\"319.373047\" xlink:href=\"#DejaVuSans-76\"/>\r\n      <use x=\"378.552734\" xlink:href=\"#DejaVuSans-61\"/>\r\n      <use x=\"439.832031\" xlink:href=\"#DejaVuSans-6c\"/>\r\n      <use x=\"467.615234\" xlink:href=\"#DejaVuSans-75\"/>\r\n      <use x=\"530.994141\" xlink:href=\"#DejaVuSans-65\"/>\r\n      <use x=\"592.517578\" xlink:href=\"#DejaVuSans-2f\"/>\r\n      <use x=\"626.208984\" xlink:href=\"#DejaVuSans-42\"/>\r\n      <use x=\"694.8125\" xlink:href=\"#DejaVuSans-65\"/>\r\n      <use x=\"756.335938\" xlink:href=\"#DejaVuSans-74\"/>\r\n     </g>\r\n    </g>\r\n   </g>\r\n   <g id=\"line2d_13\">\r\n    <path clip-path=\"url(#p6321ec8e35)\" d=\"M 55.821307 229.874489 \r\nL 58.895687 225.921034 \r\nL 61.970067 221.96758 \r\nL 65.044447 218.014125 \r\nL 68.118827 214.06067 \r\nL 71.193208 210.107216 \r\nL 74.267588 206.153761 \r\nL 77.341968 202.200307 \r\nL 80.416348 198.246852 \r\nL 83.490728 194.293398 \r\nL 86.565108 190.339943 \r\nL 89.639489 186.386489 \r\nL 92.713869 182.433034 \r\nL 95.788249 182.433034 \r\nL 98.862629 186.386489 \r\nL 101.937009 190.339943 \r\nL 105.011389 194.293398 \r\nL 108.08577 198.246852 \r\nL 111.16015 202.200307 \r\nL 114.23453 154.758852 \r\nL 117.30891 210.107216 \r\nL 120.38329 146.851943 \r\nL 123.45767 218.014125 \r\nL 126.532051 221.96758 \r\nL 129.606431 134.99158 \r\nL 132.680811 131.038125 \r\nL 135.755191 134.99158 \r\nL 138.829571 221.96758 \r\nL 141.903951 218.014125 \r\nL 144.978332 146.851943 \r\nL 148.052712 150.805398 \r\nL 151.127092 206.153761 \r\nL 154.201472 103.363943 \r\nL 157.275852 162.665761 \r\nL 160.350232 194.293398 \r\nL 163.424613 170.57267 \r\nL 166.498993 186.386489 \r\nL 169.573373 83.59667 \r\nL 172.647753 182.433034 \r\nL 175.722133 186.386489 \r\nL 178.796513 190.339943 \r\nL 181.870894 194.293398 \r\nL 184.945274 198.246852 \r\nL 188.019654 202.200307 \r\nL 191.094034 206.153761 \r\nL 194.168414 210.107216 \r\nL 197.242794 214.06067 \r\nL 200.317175 218.014125 \r\nL 203.391555 221.96758 \r\nL 206.465935 225.921034 \r\nL 209.540315 32.201761 \r\nL 212.614695 36.155216 \r\nL 215.689075 221.96758 \r\nL 218.763456 218.014125 \r\nL 221.837836 48.01558 \r\nL 224.912216 51.969034 \r\nL 227.986596 206.153761 \r\nL 231.060976 202.200307 \r\nL 234.135356 63.829398 \r\nL 237.209737 194.293398 \r\nL 240.284117 71.736307 \r\nL 243.358497 186.386489 \r\nL 246.432877 182.433034 \r\nL 249.507257 182.433034 \r\nL 252.581637 186.386489 \r\nL 255.656018 190.339943 \r\nL 258.730398 194.293398 \r\nL 261.804778 198.246852 \r\nL 264.879158 202.200307 \r\nL 267.953538 206.153761 \r\nL 271.027918 210.107216 \r\nL 274.102299 214.06067 \r\nL 277.176679 218.014125 \r\nL 280.251059 221.96758 \r\nL 283.325439 225.921034 \r\nL 286.399819 131.038125 \r\nL 289.474199 225.921034 \r\nL 292.54858 221.96758 \r\nL 295.62296 218.014125 \r\nL 298.69734 146.851943 \r\nL 301.77172 210.107216 \r\nL 304.8461 154.758852 \r\nL 307.92048 158.712307 \r\nL 310.994861 162.665761 \r\nL 314.069241 194.293398 \r\nL 317.143621 190.339943 \r\nL 320.218001 186.386489 \r\nL 323.292381 178.47958 \r\nL 326.366761 182.433034 \r\nL 329.441142 186.386489 \r\nL 332.515522 190.339943 \r\nL 335.589902 194.293398 \r\nL 338.664282 198.246852 \r\nL 341.738662 202.200307 \r\nL 344.813042 206.153761 \r\nL 347.887423 210.107216 \r\nL 350.961803 214.06067 \r\nL 354.036183 218.014125 \r\nL 357.110563 221.96758 \r\nL 360.184943 225.921034 \r\n\" style=\"fill:none;stroke:#1f77b4;stroke-linecap:square;stroke-width:1.5;\"/>\r\n   </g>\r\n   <g id=\"patch_3\">\r\n    <path d=\"M 40.603125 239.758125 \r\nL 40.603125 22.318125 \r\n\" style=\"fill:none;stroke:#000000;stroke-linecap:square;stroke-linejoin:miter;stroke-width:0.8;\"/>\r\n   </g>\r\n   <g id=\"patch_4\">\r\n    <path d=\"M 375.403125 239.758125 \r\nL 375.403125 22.318125 \r\n\" style=\"fill:none;stroke:#000000;stroke-linecap:square;stroke-linejoin:miter;stroke-width:0.8;\"/>\r\n   </g>\r\n   <g id=\"patch_5\">\r\n    <path d=\"M 40.603125 239.758125 \r\nL 375.403125 239.758125 \r\n\" style=\"fill:none;stroke:#000000;stroke-linecap:square;stroke-linejoin:miter;stroke-width:0.8;\"/>\r\n   </g>\r\n   <g id=\"patch_6\">\r\n    <path d=\"M 40.603125 22.318125 \r\nL 375.403125 22.318125 \r\n\" style=\"fill:none;stroke:#000000;stroke-linecap:square;stroke-linejoin:miter;stroke-width:0.8;\"/>\r\n   </g>\r\n   <g id=\"text_15\">\r\n    <!-- Optimal policy values (i.e. bets) -->\r\n    <g transform=\"translate(112.62375 16.318125)scale(0.12 -0.12)\">\r\n     <defs>\r\n      <path d=\"M 2522 4238 \r\nQ 1834 4238 1429 3725 \r\nQ 1025 3213 1025 2328 \r\nQ 1025 1447 1429 934 \r\nQ 1834 422 2522 422 \r\nQ 3209 422 3611 934 \r\nQ 4013 1447 4013 2328 \r\nQ 4013 3213 3611 3725 \r\nQ 3209 4238 2522 4238 \r\nz\r\nM 2522 4750 \r\nQ 3503 4750 4090 4092 \r\nQ 4678 3434 4678 2328 \r\nQ 4678 1225 4090 567 \r\nQ 3503 -91 2522 -91 \r\nQ 1538 -91 948 565 \r\nQ 359 1222 359 2328 \r\nQ 359 3434 948 4092 \r\nQ 1538 4750 2522 4750 \r\nz\r\n\" id=\"DejaVuSans-4f\" transform=\"scale(0.015625)\"/>\r\n      <path d=\"M 3328 2828 \r\nQ 3544 3216 3844 3400 \r\nQ 4144 3584 4550 3584 \r\nQ 5097 3584 5394 3201 \r\nQ 5691 2819 5691 2113 \r\nL 5691 0 \r\nL 5113 0 \r\nL 5113 2094 \r\nQ 5113 2597 4934 2840 \r\nQ 4756 3084 4391 3084 \r\nQ 3944 3084 3684 2787 \r\nQ 3425 2491 3425 1978 \r\nL 3425 0 \r\nL 2847 0 \r\nL 2847 2094 \r\nQ 2847 2600 2669 2842 \r\nQ 2491 3084 2119 3084 \r\nQ 1678 3084 1418 2786 \r\nQ 1159 2488 1159 1978 \r\nL 1159 0 \r\nL 581 0 \r\nL 581 3500 \r\nL 1159 3500 \r\nL 1159 2956 \r\nQ 1356 3278 1631 3431 \r\nQ 1906 3584 2284 3584 \r\nQ 2666 3584 2933 3390 \r\nQ 3200 3197 3328 2828 \r\nz\r\n\" id=\"DejaVuSans-6d\" transform=\"scale(0.015625)\"/>\r\n      <path d=\"M 2834 3397 \r\nL 2834 2853 \r\nQ 2591 2978 2328 3040 \r\nQ 2066 3103 1784 3103 \r\nQ 1356 3103 1142 2972 \r\nQ 928 2841 928 2578 \r\nQ 928 2378 1081 2264 \r\nQ 1234 2150 1697 2047 \r\nL 1894 2003 \r\nQ 2506 1872 2764 1633 \r\nQ 3022 1394 3022 966 \r\nQ 3022 478 2636 193 \r\nQ 2250 -91 1575 -91 \r\nQ 1294 -91 989 -36 \r\nQ 684 19 347 128 \r\nL 347 722 \r\nQ 666 556 975 473 \r\nQ 1284 391 1588 391 \r\nQ 1994 391 2212 530 \r\nQ 2431 669 2431 922 \r\nQ 2431 1156 2273 1281 \r\nQ 2116 1406 1581 1522 \r\nL 1381 1569 \r\nQ 847 1681 609 1914 \r\nQ 372 2147 372 2553 \r\nQ 372 3047 722 3315 \r\nQ 1072 3584 1716 3584 \r\nQ 2034 3584 2315 3537 \r\nQ 2597 3491 2834 3397 \r\nz\r\n\" id=\"DejaVuSans-73\" transform=\"scale(0.015625)\"/>\r\n      <path d=\"M 1984 4856 \r\nQ 1566 4138 1362 3434 \r\nQ 1159 2731 1159 2009 \r\nQ 1159 1288 1364 580 \r\nQ 1569 -128 1984 -844 \r\nL 1484 -844 \r\nQ 1016 -109 783 600 \r\nQ 550 1309 550 2009 \r\nQ 550 2706 781 3412 \r\nQ 1013 4119 1484 4856 \r\nL 1984 4856 \r\nz\r\n\" id=\"DejaVuSans-28\" transform=\"scale(0.015625)\"/>\r\n      <path d=\"M 684 794 \r\nL 1344 794 \r\nL 1344 0 \r\nL 684 0 \r\nL 684 794 \r\nz\r\n\" id=\"DejaVuSans-2e\" transform=\"scale(0.015625)\"/>\r\n      <path d=\"M 3116 1747 \r\nQ 3116 2381 2855 2742 \r\nQ 2594 3103 2138 3103 \r\nQ 1681 3103 1420 2742 \r\nQ 1159 2381 1159 1747 \r\nQ 1159 1113 1420 752 \r\nQ 1681 391 2138 391 \r\nQ 2594 391 2855 752 \r\nQ 3116 1113 3116 1747 \r\nz\r\nM 1159 2969 \r\nQ 1341 3281 1617 3432 \r\nQ 1894 3584 2278 3584 \r\nQ 2916 3584 3314 3078 \r\nQ 3713 2572 3713 1747 \r\nQ 3713 922 3314 415 \r\nQ 2916 -91 2278 -91 \r\nQ 1894 -91 1617 61 \r\nQ 1341 213 1159 525 \r\nL 1159 0 \r\nL 581 0 \r\nL 581 4863 \r\nL 1159 4863 \r\nL 1159 2969 \r\nz\r\n\" id=\"DejaVuSans-62\" transform=\"scale(0.015625)\"/>\r\n      <path d=\"M 513 4856 \r\nL 1013 4856 \r\nQ 1481 4119 1714 3412 \r\nQ 1947 2706 1947 2009 \r\nQ 1947 1309 1714 600 \r\nQ 1481 -109 1013 -844 \r\nL 513 -844 \r\nQ 928 -128 1133 580 \r\nQ 1338 1288 1338 2009 \r\nQ 1338 2731 1133 3434 \r\nQ 928 4138 513 4856 \r\nz\r\n\" id=\"DejaVuSans-29\" transform=\"scale(0.015625)\"/>\r\n     </defs>\r\n     <use xlink:href=\"#DejaVuSans-4f\"/>\r\n     <use x=\"78.710938\" xlink:href=\"#DejaVuSans-70\"/>\r\n     <use x=\"142.1875\" xlink:href=\"#DejaVuSans-74\"/>\r\n     <use x=\"181.396484\" xlink:href=\"#DejaVuSans-69\"/>\r\n     <use x=\"209.179688\" xlink:href=\"#DejaVuSans-6d\"/>\r\n     <use x=\"306.591797\" xlink:href=\"#DejaVuSans-61\"/>\r\n     <use x=\"367.871094\" xlink:href=\"#DejaVuSans-6c\"/>\r\n     <use x=\"395.654297\" xlink:href=\"#DejaVuSans-20\"/>\r\n     <use x=\"427.441406\" xlink:href=\"#DejaVuSans-70\"/>\r\n     <use x=\"490.917969\" xlink:href=\"#DejaVuSans-6f\"/>\r\n     <use x=\"552.099609\" xlink:href=\"#DejaVuSans-6c\"/>\r\n     <use x=\"579.882812\" xlink:href=\"#DejaVuSans-69\"/>\r\n     <use x=\"607.666016\" xlink:href=\"#DejaVuSans-63\"/>\r\n     <use x=\"662.646484\" xlink:href=\"#DejaVuSans-79\"/>\r\n     <use x=\"721.826172\" xlink:href=\"#DejaVuSans-20\"/>\r\n     <use x=\"753.613281\" xlink:href=\"#DejaVuSans-76\"/>\r\n     <use x=\"812.792969\" xlink:href=\"#DejaVuSans-61\"/>\r\n     <use x=\"874.072266\" xlink:href=\"#DejaVuSans-6c\"/>\r\n     <use x=\"901.855469\" xlink:href=\"#DejaVuSans-75\"/>\r\n     <use x=\"965.234375\" xlink:href=\"#DejaVuSans-65\"/>\r\n     <use x=\"1026.757812\" xlink:href=\"#DejaVuSans-73\"/>\r\n     <use x=\"1078.857422\" xlink:href=\"#DejaVuSans-20\"/>\r\n     <use x=\"1110.644531\" xlink:href=\"#DejaVuSans-28\"/>\r\n     <use x=\"1149.658203\" xlink:href=\"#DejaVuSans-69\"/>\r\n     <use x=\"1177.441406\" xlink:href=\"#DejaVuSans-2e\"/>\r\n     <use x=\"1209.228516\" xlink:href=\"#DejaVuSans-65\"/>\r\n     <use x=\"1270.751953\" xlink:href=\"#DejaVuSans-2e\"/>\r\n     <use x=\"1302.539062\" xlink:href=\"#DejaVuSans-20\"/>\r\n     <use x=\"1334.326172\" xlink:href=\"#DejaVuSans-62\"/>\r\n     <use x=\"1397.802734\" xlink:href=\"#DejaVuSans-65\"/>\r\n     <use x=\"1459.326172\" xlink:href=\"#DejaVuSans-74\"/>\r\n     <use x=\"1498.535156\" xlink:href=\"#DejaVuSans-73\"/>\r\n     <use x=\"1550.634766\" xlink:href=\"#DejaVuSans-29\"/>\r\n    </g>\r\n   </g>\r\n  </g>\r\n </g>\r\n <defs>\r\n  <clipPath id=\"p6321ec8e35\">\r\n   <rect height=\"217.44\" width=\"334.8\" x=\"40.603125\" y=\"22.318125\"/>\r\n  </clipPath>\r\n </defs>\r\n</svg>\r\n",
      "image/png": "[encoded data removed]"
     },
     "metadata": {
      "needs_background": "light"
     }
    }
   ],
   "source": [
    "plt.plot(optimal_policy[:100].numpy())\n",
    "plt.title(\"Optimal policy values (i.e. bets)\")\n",
    "plt.xlabel(\"Capital\")\n",
    "plt.ylabel(\"Policy value/Bet\")"
   ]
  },
  {
   "cell_type": "code",
   "execution_count": null,
   "metadata": {},
   "outputs": [],
   "source": []
  },
  {
   "cell_type": "code",
   "execution_count": null,
   "metadata": {},
   "outputs": [],
   "source": []
  }
 ]
}