{
 "cells": [
  {
   "cell_type": "markdown",
   "source": [
    "# Deep Q-Networks\r\n",
    "Use neural networks to directly estimate Q-values of state-action pairs. Computationally expensive, hyperparameter sensitive, very powerful."
   ],
   "metadata": {}
  },
  {
   "cell_type": "code",
   "execution_count": 1,
   "source": [
    "import gym\r\n",
    "import torch\r\n",
    "import torch.nn as nn\r\n",
    "from torch.optim import Adam\r\n",
    "from tqdm import tqdm\r\n",
    "import random\r\n",
    "from FA.visual import reward_visual\r\n",
    "from collections import deque"
   ],
   "outputs": [],
   "metadata": {}
  },
  {
   "cell_type": "code",
   "execution_count": 5,
   "source": [
    "# device = torch.device(\"cuda\" if torch.cuda.is_available() else \"cpu\")\r\n",
    "# GPU not used since we are working with single values (not arrays eg. images)"
   ],
   "outputs": [],
   "metadata": {}
  },
  {
   "cell_type": "code",
   "execution_count": 2,
   "source": [
    "class DQN():\r\n",
    "    def __init__(self, num_states, num_actions, num_hidden=50, lr=0.05):\r\n",
    "        self.criterion = nn.MSELoss()\r\n",
    "        self.model = nn.Sequential(nn.Linear(num_states, num_hidden), \r\n",
    "                                   nn.ReLU(), nn.Linear(num_hidden, num_actions))\r\n",
    "        self.optim = Adam(self.model.parameters(), lr)\r\n",
    "    \r\n",
    "    def update(self, state, y):\r\n",
    "        y_pred = self.model(torch.Tensor(state))\r\n",
    "        loss = self.criterion(y_pred, torch.Tensor(y))\r\n",
    "        self.optim.zero_grad()\r\n",
    "        loss.backward()\r\n",
    "        self.optim.step()\r\n",
    "\r\n",
    "    def predict(self, state):\r\n",
    "        with torch.no_grad():\r\n",
    "            return self.model(torch.Tensor(state))\r\n",
    "\r\n",
    "    def replay(self, memory, replay_size, gamma):\r\n",
    "        # Experience replay to improve learning\r\n",
    "        if len(memory) >= replay_size: \r\n",
    "            replay_data = random.sample(memory, replay_size)\r\n",
    "            states, td_targets = [], []\r\n",
    "            for state, action, next_state, reward, is_done in replay_data:\r\n",
    "                states.append(state)\r\n",
    "                q_values = self.predict(state).numpy()\r\n",
    "                if is_done:\r\n",
    "                    q_values[action] = reward\r\n",
    "                else:\r\n",
    "                    # Q-Learning\r\n",
    "                    q_values_next = self.predict(next_state)\r\n",
    "                    q_values[action] = reward + gamma * torch.max(q_values_next).item()\r\n",
    "                td_targets.append(q_values)\r\n",
    "            self.update(states, td_targets)"
   ],
   "outputs": [],
   "metadata": {}
  },
  {
   "cell_type": "code",
   "execution_count": 3,
   "source": [
    "env = gym.make(\"MountainCar-v0\")\r\n",
    "num_states, num_actions = env.observation_space.shape[0], env.action_space.n"
   ],
   "outputs": [],
   "metadata": {}
  },
  {
   "cell_type": "code",
   "execution_count": 4,
   "source": [
    "def gen_eps_greedy_policy(estimator, eps, num_actions):\r\n",
    "    def policy(state):\r\n",
    "        if random.random() < eps:\r\n",
    "            return random.randint(0, num_actions - 1)\r\n",
    "        else:\r\n",
    "            q_values = estimator.predict(state)\r\n",
    "            return torch.argmax(q_values).item()\r\n",
    "    return policy"
   ],
   "outputs": [],
   "metadata": {}
  },
  {
   "cell_type": "code",
   "execution_count": 5,
   "source": [
    "def q_learning(env, estimator, num_episodes, gamma=1, epsilon=0.1, eps_decay=0.99):\r\n",
    "    total_reward_episode = [0] * num_episodes\r\n",
    "    num_actions = env.action_space.n\r\n",
    "    for episode in tqdm(range(num_episodes)):\r\n",
    "        policy = gen_eps_greedy_policy(estimator, epsilon, num_actions)\r\n",
    "        state = env.reset()\r\n",
    "        is_done = False\r\n",
    "\r\n",
    "        while not is_done:\r\n",
    "            action = policy(state)\r\n",
    "            next_state, reward, is_done, _ = env.step(action)\r\n",
    "            total_reward_episode[episode] += reward\r\n",
    "            # Modified updates: promotes exploration, problem specific implementation. \r\n",
    "            # Not part of the DQN model\r\n",
    "            modified_reward = state[0] + 0.5\r\n",
    "            if next_state[0] >= 0.5:\r\n",
    "                modified_reward += 100\r\n",
    "            elif next_state[0] >= 0.25:\r\n",
    "                modified_reward += 20\r\n",
    "            elif next_state[0] >= 0.1:\r\n",
    "                modified_reward += 10\r\n",
    "            elif next_state[0] >= 0:\r\n",
    "                modified_reward += 5\r\n",
    "\r\n",
    "            if is_done:\r\n",
    "                q_values[action] = modified_reward\r\n",
    "                estimator.update(state, q_values)\r\n",
    "                break\r\n",
    "            q_values = estimator.predict(next_state).numpy()\r\n",
    "            q_values_next = estimator.predict(next_state)\r\n",
    "            q_values[action] = modified_reward + gamma * torch.max(q_values_next).item()\r\n",
    "            estimator.update(state, q_values)\r\n",
    "            state = next_state\r\n",
    "\r\n",
    "        epsilon = max(epsilon * eps_decay, 0.01)\r\n",
    "    return total_reward_episode"
   ],
   "outputs": [],
   "metadata": {}
  },
  {
   "cell_type": "code",
   "execution_count": 33,
   "source": [
    "estimator = DQN(num_states, num_actions, num_hidden=50, lr=0.001)\r\n",
    "num_episodes = 1000\r\n",
    "\r\n",
    "# VERY HYPERPARAMETER DEPENDENT\r\n",
    "total_reward_episode = q_learning(env, estimator, num_episodes, gamma=0.99, epsilon=0.3)"
   ],
   "outputs": [
    {
     "output_type": "stream",
     "name": "stderr",
     "text": [
      "100%|██████████| 1000/1000 [04:12<00:00,  3.96it/s]\n"
     ]
    }
   ],
   "metadata": {}
  },
  {
   "cell_type": "code",
   "execution_count": 34,
   "source": [
    "reward_visual(total_reward_episode, \"DQN episode reward over time\")"
   ],
   "outputs": [
    {
     "output_type": "display_data",
     "data": {
      "text/plain": [
       "<Figure size 432x288 with 1 Axes>"
      ],
      "image/png": "[encoded data removed]"
     },
     "metadata": {
      "needs_background": "light"
     }
    }
   ],
   "metadata": {}
  },
  {
   "cell_type": "code",
   "execution_count": 35,
   "source": [
    "print(sum(total_reward_episode))"
   ],
   "outputs": [
    {
     "output_type": "stream",
     "name": "stdout",
     "text": [
      "-199068.0\n"
     ]
    }
   ],
   "metadata": {}
  },
  {
   "cell_type": "markdown",
   "source": [
    "## Experience Replay\r\n",
    "Update the Q-network with a randomized minibatch of states at each time step instead of sequential states. Increases learning efficiency."
   ],
   "metadata": {}
  },
  {
   "cell_type": "code",
   "execution_count": 6,
   "source": [
    "\r\n",
    "\r\n",
    "def exp_q_learning(env, estimator, num_episodes, replay_size, gamma=1.0, \r\n",
    "                   epsilon=0.1, eps_decay=0.99, memory_size=10000):\r\n",
    "    memory = deque(maxlen=memory_size)\r\n",
    "    total_reward_episode = [0] * num_episodes\r\n",
    "    for episode in tqdm(range(num_episodes)):\r\n",
    "        policy = gen_eps_greedy_policy(estimator, epsilon, num_actions)\r\n",
    "        state = env.reset()\r\n",
    "        is_done = False\r\n",
    "\r\n",
    "        while not is_done:\r\n",
    "            action = policy(state)\r\n",
    "            next_state, reward, is_done, _ = env.step(action)\r\n",
    "            total_reward_episode[episode] += reward\r\n",
    "            # Modified updates: promotes exploration, problem specific implementation. \r\n",
    "            # Not part of the DQN model\r\n",
    "            modified_reward = state[0] + 0.5\r\n",
    "            if next_state[0] >= 0.5:\r\n",
    "                modified_reward += 100\r\n",
    "            elif next_state[0] >= 0.25:\r\n",
    "                modified_reward += 20\r\n",
    "            elif next_state[0] >= 0.1:\r\n",
    "                modified_reward += 10\r\n",
    "            elif next_state[0] >= 0:\r\n",
    "                modified_reward += 5\r\n",
    "            memory.append((state, action, next_state, modified_reward, is_done))\r\n",
    "            state = next_state\r\n",
    "            estimator.replay(memory, replay_size, gamma)\r\n",
    "        epsilon = max(epsilon * eps_decay, 0.1)\r\n",
    "    return total_reward_episode"
   ],
   "outputs": [],
   "metadata": {}
  },
  {
   "cell_type": "code",
   "execution_count": 56,
   "source": [
    "estimator = DQN(num_states, num_actions, num_hidden=50, lr=0.001)\r\n",
    "\r\n",
    "num_episodes = 600\r\n",
    "replay_size = 20\r\n",
    "total_reward_episode = exp_q_learning(env, estimator, num_episodes, replay_size, gamma=0.9, epsilon=0.3)"
   ],
   "outputs": [
    {
     "output_type": "stream",
     "name": "stderr",
     "text": [
      "100%|██████████| 600/600 [12:54<00:00,  1.29s/it]\n"
     ]
    }
   ],
   "metadata": {}
  },
  {
   "cell_type": "code",
   "execution_count": 57,
   "source": [
    "reward_visual(total_reward_episode, \"Exp-DQN episode reward over time\")"
   ],
   "outputs": [
    {
     "output_type": "display_data",
     "data": {
      "text/plain": [
       "<Figure size 432x288 with 1 Axes>"
      ],
      "image/png": "[encoded data removed]"
     },
     "metadata": {
      "needs_background": "light"
     }
    }
   ],
   "metadata": {}
  },
  {
   "cell_type": "markdown",
   "source": [
    "## Double DQN\r\n",
    "Using two DQNs instead of 1. The first DQN is used as the target network which predicts the Q-value for the next state. This network has a similar structure to the prediction network, but is updated once every `target_update` episodes. This means this network is a number of episodes in the past compared to the prediction network at all times. The prediction network is the one that estimates the Q-values for the current state and is updated at each time step. This network is copied into the target network at regular intervals."
   ],
   "metadata": {}
  },
  {
   "cell_type": "code",
   "execution_count": 7,
   "source": [
    "import copy"
   ],
   "outputs": [],
   "metadata": {}
  },
  {
   "cell_type": "code",
   "execution_count": 8,
   "source": [
    "class DoubleDQN(DQN):\r\n",
    "    # Use different models for the state and next_state Q-value predictions\r\n",
    "    # Update the next_state Q-value model every target_update episodes\r\n",
    "    def __init__(self, num_states, num_actions, num_hidden, lr):\r\n",
    "        super().__init__(num_states, num_actions, num_hidden=num_hidden, lr=lr)\r\n",
    "        self.model_target = copy.deepcopy(self.model)\r\n",
    "        \r\n",
    "    def target_predict(self, state):\r\n",
    "        with torch.no_grad():\r\n",
    "            return self.model_target(torch.Tensor(state))\r\n",
    "    \r\n",
    "    def copy_target(self):\r\n",
    "        self.model_target.load_state_dict(self.model.state_dict())\r\n",
    "    \r\n",
    "    def replay(self, memory, replay_size, gamma):\r\n",
    "        if len(memory) >= replay_size: \r\n",
    "            replay_data = random.sample(memory, replay_size)\r\n",
    "            states, td_targets = [], []\r\n",
    "            for state, action, next_state, reward, is_done in replay_data:\r\n",
    "                states.append(state)\r\n",
    "                q_values = self.predict(state).numpy()\r\n",
    "                if is_done:\r\n",
    "                    q_values[action] = reward\r\n",
    "                else:\r\n",
    "                    # Q-Learning\r\n",
    "                    q_values_next = self.target_predict(next_state)\r\n",
    "                    q_values[action] = reward + gamma * torch.max(q_values_next).item()\r\n",
    "                td_targets.append(q_values)\r\n",
    "            self.update(states, td_targets)"
   ],
   "outputs": [],
   "metadata": {}
  },
  {
   "cell_type": "code",
   "execution_count": 14,
   "source": [
    "def double_q_learning(env, estimator, num_episodes, replay_size, target_update=10, \r\n",
    "                      gamma=1.0, epsilon=0.1, eps_decay=0.99, memory_size=10000):\r\n",
    "    memory = deque(maxlen=memory_size)\r\n",
    "    total_reward_episode = [0] * num_episodes\r\n",
    "    for episode in tqdm(range(num_episodes)):\r\n",
    "        if episode % target_update == 0:\r\n",
    "            estimator.copy_target()\r\n",
    "        policy = gen_eps_greedy_policy(estimator, epsilon, num_actions)\r\n",
    "        state = env.reset()\r\n",
    "        is_done = False\r\n",
    "\r\n",
    "        while not is_done:\r\n",
    "            action = policy(state)\r\n",
    "            next_state, reward, is_done, _ = env.step(action)\r\n",
    "            total_reward_episode[episode] += reward\r\n",
    "            # Modified updates: promotes exploration, problem specific implementation. \r\n",
    "            # Not part of the DQN model\r\n",
    "            modified_reward = state[0] + 0.5\r\n",
    "            state_map = {0.5: 100, 0.25: 20, 0.1: 10, 0:5}\r\n",
    "            for k, v in state_map.items():\r\n",
    "                if next_state[0] >= k:\r\n",
    "                    modified_reward += v\r\n",
    "                    break\r\n",
    "            memory.append((state, action, next_state, modified_reward, is_done))\r\n",
    "            state = next_state\r\n",
    "            estimator.replay(memory, replay_size, gamma)\r\n",
    "        epsilon = max(epsilon * eps_decay, 0.01)\r\n",
    "    return total_reward_episode"
   ],
   "outputs": [],
   "metadata": {}
  },
  {
   "cell_type": "code",
   "execution_count": 15,
   "source": [
    "estimator = DoubleDQN(num_states, num_actions, num_hidden=50, lr=0.01)\r\n",
    "num_episodes = 1000\r\n",
    "replay_size = 20\r\n",
    "target_update = 10\r\n",
    "total_reward_episode = double_q_learning(env, estimator, num_episodes, replay_size,\r\n",
    "                                         target_update, gamma=0.9, epsilon=1)"
   ],
   "outputs": [
    {
     "output_type": "stream",
     "name": "stderr",
     "text": [
      "100%|██████████| 1000/1000 [18:43<00:00,  1.12s/it]\n"
     ]
    }
   ],
   "metadata": {}
  },
  {
   "cell_type": "code",
   "execution_count": 16,
   "source": [
    "reward_visual(total_reward_episode, \"Double DQN episode reward over time\")"
   ],
   "outputs": [
    {
     "output_type": "display_data",
     "data": {
      "text/plain": [
       "<Figure size 432x288 with 1 Axes>"
      ],
      "image/png": "[encoded data removed]"
     },
     "metadata": {
      "needs_background": "light"
     }
    }
   ],
   "metadata": {}
  },
  {
   "cell_type": "markdown",
   "source": [
    "### Hyperparameter Tuning\r\n",
    "Grid search across the hyperparameters to find the best set in the DQN. As we have now ventured into deep RL, hyperparameters are going to be a lot more significant. The `sklearn` library has great functions for this. "
   ],
   "metadata": {}
  },
  {
   "cell_type": "code",
   "execution_count": 9,
   "source": [
    "def std_double_q_learning(env, estimator, num_episodes, replay_size, target_update=10, \r\n",
    "                         gamma=1, epsilon=0.1, epsilon_decay=0.99, memory_size=10000):\r\n",
    "    memory = deque(maxlen=memory_size)\r\n",
    "    total_reward_episode = [0] * num_episodes\r\n",
    "    for episode in range(num_episodes):\r\n",
    "        if episode % target_update == 0:\r\n",
    "            estimator.copy_target()\r\n",
    "        policy = gen_eps_greedy_policy(estimator, epsilon, env.action_space.n)\r\n",
    "        state = env.reset()\r\n",
    "        is_done = False\r\n",
    "        while not is_done:\r\n",
    "            action = policy(state)\r\n",
    "            next_state, reward, is_done, _ = env.step()\r\n",
    "            total_reward_episode[episode] += reward\r\n",
    "            memory.append((state, action, next_state, reward, action))\r\n",
    "            estimator.replay(memory, replay_size, gamma)\r\n",
    "            state = next_state\r\n",
    "        epsilon = max(epsilon * epsilon_decay, 0.01)\r\n",
    "    return total_reward_episode"
   ],
   "outputs": [],
   "metadata": {}
  },
  {
   "cell_type": "code",
   "execution_count": null,
   "source": [
    "num_episodes = 600\r\n",
    "opt_dict = {\"num_hidden\": [30, 40, 50],\r\n",
    "            \"lr\": [0.001, 0.002, 0.003],\r\n",
    "            \"replay_size\": [20, 25],\r\n",
    "            \"target_update\": [30, 35]}\r\n",
    "\r\n",
    "for num_hidden in opt_dict[\"num_hidden\"]:\r\n",
    "    for lr in opt_dict[\"lr\"]:\r\n",
    "        for replay_size in opt_dict[\"replay_size\"]:\r\n",
    "            for target_update in opt_dict[\"target_update\"]:\r\n",
    "                # Set seeds \r\n",
    "                env.seed(1)\r\n",
    "                random.seed(1)\r\n",
    "                torch.manual_seed(1)\r\n",
    "                dqn = DQN(num_states, num_actions, num_hidden, lr)\r\n",
    "                total_reward_episode = std_double_q_learning(env, dqn, num_episodes, \r\n",
    "                                            replay_size, target_update, gamma=0.9, epsilon=1)\r\n",
    "                print(num_hidden, lr, replay_size, target_update)\r\n",
    "                # print the result of the last 200 episodes\r\n",
    "                print(sum(total_reward_episode[num_episodes - 200:])/200)\r\n",
    "\r\n",
    "# Best results: num_hidden=30, lr=0.001, replay_size=25, target_update=35"
   ],
   "outputs": [],
   "metadata": {}
  },
  {
   "cell_type": "markdown",
   "source": [
    "## Dueling DQNs\r\n",
    "Use 2 functions to evaluate the Q-function. The state value function V, and the advantage function A. The advantage function is an estimator for action selection, choosing which action will be better at a state s."
   ],
   "metadata": {}
  },
  {
   "cell_type": "code",
   "execution_count": 10,
   "source": [
    "class DuelingModel(nn.Module):\r\n",
    "    def __init__(self, num_input, num_output, num_hidden):\r\n",
    "        super(DuelingModel, self).__init__()\r\n",
    "        # Advantange model\r\n",
    "        self.adv_1 = nn.Linear(num_input, num_hidden)\r\n",
    "        self.adv_2 = nn.Linear(num_hidden, num_output)\r\n",
    "        # Value model\r\n",
    "        self.val_1 = nn.Linear(num_input, num_hidden)\r\n",
    "        self.val_2 =  nn.Linear(num_hidden, num_output)\r\n",
    "        self.relu = nn.ReLU()\r\n",
    "\r\n",
    "    def forward(self, x):\r\n",
    "        adv = self.relu(self.adv_1(x))\r\n",
    "        adv = self.adv_2(adv)\r\n",
    "\r\n",
    "        val = self.relu(self.val_1(x))\r\n",
    "        val = self.val_2(val)\r\n",
    "\r\n",
    "        return val + adv - adv.mean()\r\n",
    "    \r\n",
    "class DDQN(DoubleDQN):\r\n",
    "    def __init__(self, num_states, num_actions, num_hidden=50, lr=0.05):\r\n",
    "        super().__init__(num_states, num_actions, num_hidden=num_hidden, lr=lr)\r\n",
    "        self.model = DuelingModel(num_states, num_actions, num_hidden)\r\n",
    "        self.criterion = nn.MSELoss()\r\n",
    "        self.optim = Adam(self.model.parameters(), lr)\r\n",
    "        device = torch.device(\"cuda\" if torch.cuda.is_available() else \"cpu\")\r\n",
    "        self.model.to(device)\r\n",
    "        self.model_target = copy.deepcopy(self.model)\r\n"
   ],
   "outputs": [],
   "metadata": {}
  },
  {
   "cell_type": "code",
   "execution_count": 40,
   "source": [
    "num_hidden=50\r\n",
    "lr=0.001\r\n",
    "ddqn = DDQN(num_states, num_actions, num_hidden, lr)"
   ],
   "outputs": [],
   "metadata": {}
  },
  {
   "cell_type": "code",
   "execution_count": 41,
   "source": [
    "num_episodes = 500\r\n",
    "replay_size = 20\r\n",
    "total_reward_episode = double_q_learning(env, ddqn, num_episodes, replay_size, gamma=0.9, epsilon=0.3)"
   ],
   "outputs": [
    {
     "output_type": "stream",
     "name": "stderr",
     "text": [
      "100%|██████████| 500/500 [18:17<00:00,  2.19s/it]\n"
     ]
    }
   ],
   "metadata": {}
  },
  {
   "cell_type": "code",
   "execution_count": 43,
   "source": [
    "reward_visual(total_reward_episode, \"Dueling DQN episode reward over time\")"
   ],
   "outputs": [
    {
     "output_type": "display_data",
     "data": {
      "text/plain": [
       "<Figure size 432x288 with 1 Axes>"
      ],
      "image/png": "[encoded data removed]"
     },
     "metadata": {
      "needs_background": "light"
     }
    }
   ],
   "metadata": {}
  },
  {
   "cell_type": "markdown",
   "source": [
    "## Atari Pong\r\n",
    "Using DQN's to play Pong -> A complex enough game for deep RL.\r\n",
    "\r\n",
    "Pong, a.k.a. ping-pong or table tennis, is an old Atari 2600 game on a 210*160 RGB screen. The possible actions are:\r\n",
    "- 0 - NOOP - The agent stays still\r\n",
    "- 1, 4, 5 - FIRE - Meaningless\r\n",
    "- 2 - RIGHT - The agent moves up\r\n",
    "- 3 - LEFT - The agent moves down\r\n",
    "\r\n",
    "Each action is repeated for *k* frames. The rewards are:\r\n",
    "- -1 - The agent misses the ball\r\n",
    "- +1 - The player misses the ball\r\n",
    "- 0 otherwise"
   ],
   "metadata": {}
  },
  {
   "cell_type": "code",
   "execution_count": 62,
   "source": [
    "env = gym.make(\"PongDeterministic-v4\")"
   ],
   "outputs": [],
   "metadata": {}
  },
  {
   "cell_type": "code",
   "execution_count": 63,
   "source": [
    "state_shape = env.observation_space.shape\r\n",
    "num_actions = env.action_space.n\r\n",
    "\r\n",
    "print(env.unwrapped.get_action_meanings())\r\n",
    "state_shape, num_actions"
   ],
   "outputs": [
    {
     "output_type": "stream",
     "name": "stdout",
     "text": [
      "['NOOP', 'FIRE', 'RIGHT', 'LEFT', 'RIGHTFIRE', 'LEFTFIRE']\n"
     ]
    },
    {
     "output_type": "execute_result",
     "data": {
      "text/plain": [
       "((210, 160, 3), 6)"
      ]
     },
     "metadata": {},
     "execution_count": 63
    }
   ],
   "metadata": {}
  },
  {
   "cell_type": "code",
   "execution_count": 89,
   "source": [
    "ACTIONS = [0, 2, 3]  # The other actions are useless\r\n",
    "num_actions = 3"
   ],
   "outputs": [],
   "metadata": {}
  },
  {
   "cell_type": "code",
   "execution_count": 15,
   "source": [
    "env.reset()\r\n",
    "is_done = False\r\n",
    "env.render()\r\n",
    "import time\r\n",
    "while not is_done:\r\n",
    "    action = ACTIONS[random.randint(0, num_actions - 1)]\r\n",
    "    state, reward, is_done, _ = env.step(action)\r\n",
    "    # print(reward, is_done)\r\n",
    "# print(state)"
   ],
   "outputs": [],
   "metadata": {}
  },
  {
   "cell_type": "code",
   "execution_count": 16,
   "source": [
    "env.close()\r\n"
   ],
   "outputs": [],
   "metadata": {}
  },
  {
   "cell_type": "code",
   "execution_count": 65,
   "source": [
    "# Transform 210*160*3 RGB image to grayscale\r\n",
    "\r\n",
    "import torchvision.transforms as transforms\r\n",
    "from PIL import Image\r\n"
   ],
   "outputs": [],
   "metadata": {}
  },
  {
   "cell_type": "code",
   "execution_count": 66,
   "source": [
    "img_size = 84\r\n",
    "transform = transforms.Compose([transforms.ToPILImage(), transforms.Grayscale(), \r\n",
    "                               transforms.Resize((img_size, img_size), \r\n",
    "                               interpolation=transforms.InterpolationMode.BICUBIC),\r\n",
    "                               transforms.ToTensor()])\r\n",
    "\r\n",
    "def get_state(img):\r\n",
    "    state = img.transpose((2, 0, 1))\r\n",
    "    state = torch.from_numpy(state)\r\n",
    "    state = transform(state)\r\n",
    "    return state"
   ],
   "outputs": [],
   "metadata": {}
  },
  {
   "cell_type": "code",
   "execution_count": 67,
   "source": [
    "print(state.shape)"
   ],
   "outputs": [
    {
     "output_type": "stream",
     "name": "stdout",
     "text": [
      "(210, 160, 3)\n"
     ]
    }
   ],
   "metadata": {}
  },
  {
   "cell_type": "code",
   "execution_count": 68,
   "source": [
    "get_state(state).shape"
   ],
   "outputs": [
    {
     "output_type": "execute_result",
     "data": {
      "text/plain": [
       "torch.Size([1, 84, 84])"
      ]
     },
     "metadata": {},
     "execution_count": 68
    }
   ],
   "metadata": {}
  },
  {
   "cell_type": "code",
   "execution_count": 69,
   "source": [
    "# Deep Q-Network model for image data\r\n",
    "class FCImageDQN(nn.Module):\r\n",
    "    def __init__(self, in_dim, out_dim, hidden_dims):\r\n",
    "        super(FCImageDQN, self).__init__()\r\n",
    "        self.relu = nn.ReLU()\r\n",
    "        self.fc_1 = nn.Linear(in_dim, hidden_dims[0])\r\n",
    "        self.fc_2 = nn.Linear(hidden_dims[0], hidden_dims[1])\r\n",
    "        self.fc_3 = nn.Linear(hidden_dims[1], out_dim)\r\n",
    "    \r\n",
    "    def forward(self, x):\r\n",
    "        x = self.relu(self.fc_1(x))\r\n",
    "        x = self.relu(self.fc_2(x))\r\n",
    "        return self.fc_3(x)\r\n",
    "\r\n",
    "# Refactored the Double DQN model code to now allow image models to be passed directly\r\n",
    "class DoubleDQNImage(DoubleDQN):\r\n",
    "    def __init__(self, num_states, num_actions, num_hidden, lr=0.05, model=FCImageDQN):\r\n",
    "        # Num hidden in super() set to 1 to prevent errors.\r\n",
    "        # Previous method was written with 1 hidden layer in mind.\r\n",
    "        super().__init__(num_states, num_actions, 1, lr=lr)\r\n",
    "        self.model = model(num_states, num_actions, num_hidden)\r\n",
    "        self.criterion = nn.MSELoss()\r\n",
    "        self.optim = Adam(self.model.parameters(), lr)\r\n",
    "        device = torch.device(\"cuda\" if torch.cuda.is_available() else \"cpu\")\r\n",
    "        self.model.to(device)\r\n",
    "        self.model_target = copy.deepcopy(self.model)\r\n",
    "\r\n",
    "    \r\n",
    "    def replay(self, memory, replay_size, gamma):\r\n",
    "        if len(memory) >= replay_size: \r\n",
    "            replay_data = random.sample(memory, replay_size)\r\n",
    "            states, td_targets = [], []\r\n",
    "            for state, action, next_state, reward, is_done in replay_data:\r\n",
    "                states.append(state.tolist())      # Only change: due to the states now being 84x84 images\r\n",
    "                q_values = self.predict(state).numpy()\r\n",
    "                if is_done:\r\n",
    "                    q_values[action] = reward\r\n",
    "                else:\r\n",
    "                    # Q-Learning\r\n",
    "                    q_values_next = self.target_predict(next_state).detach()\r\n",
    "                    q_values[action] = reward + gamma * torch.max(q_values_next).item()\r\n",
    "                td_targets.append(q_values)\r\n",
    "            self.update(states, td_targets)"
   ],
   "outputs": [],
   "metadata": {}
  },
  {
   "cell_type": "code",
   "execution_count": 99,
   "source": [
    "# apply image transforms and change action mappings\r\n",
    "# Due to the nature of AtariPong, manually modify the action space\r\n",
    "def img_double_q_learning(env, estimator, num_episodes, replay_size, target_update=10, num_actions=3,\r\n",
    "                         gamma=1, epsilon=0.1, epsilon_decay=0.99, memory_size=10000):\r\n",
    "    memory = deque(maxlen=memory_size)\r\n",
    "    total_reward_episode = [0] * num_episodes\r\n",
    "    for episode in tqdm(range(num_episodes)):\r\n",
    "        if episode % target_update == 0:\r\n",
    "            estimator.copy_target()\r\n",
    "        policy = gen_eps_greedy_policy(estimator, epsilon, num_actions)\r\n",
    "        observation = env.reset()\r\n",
    "        # Applying image transforms\r\n",
    "        state = get_state(observation)\r\n",
    "        # print(state.shape[1] * state.shape[2])\r\n",
    "        state = state.view(state.shape[1] * state.shape[2])\r\n",
    "        # print(state.shape)\r\n",
    "        is_done = False\r\n",
    "        while not is_done:\r\n",
    "            action = policy(state)\r\n",
    "            next_obs, reward, is_done, _ = env.step(ACTIONS[action])\r\n",
    "            # Applying same transforms to the next state\r\n",
    "            next_state = get_state(next_obs)\r\n",
    "            next_state = next_state.view(next_state.shape[1] * next_state.shape[2])\r\n",
    "            total_reward_episode[episode] += reward\r\n",
    "            memory.append((state, action, next_state, reward, action))\r\n",
    "            estimator.replay(memory, replay_size, gamma)\r\n",
    "            state = next_state\r\n",
    "        epsilon = max(epsilon * epsilon_decay, 0.01)\r\n",
    "    return total_reward_episode"
   ],
   "outputs": [],
   "metadata": {}
  },
  {
   "cell_type": "code",
   "execution_count": 77,
   "source": [
    "num_states = img_size * img_size\r\n",
    "num_hidden = [200, 50]\r\n",
    "num_episodes = 1000\r\n",
    "lr = 0.003\r\n",
    "replay_size = 32\r\n",
    "target_update = 10"
   ],
   "outputs": [],
   "metadata": {}
  },
  {
   "cell_type": "code",
   "execution_count": 90,
   "source": [
    "ACTIONS = [0, 2, 3]  # The other actions are useless\r\n",
    "num_actions = 3\r\n",
    "\r\n",
    "dqn = DoubleDQNImage(num_states, num_actions, num_hidden, lr)"
   ],
   "outputs": [],
   "metadata": {}
  },
  {
   "cell_type": "code",
   "execution_count": 93,
   "source": [
    "dqn.model.parameters"
   ],
   "outputs": [
    {
     "output_type": "execute_result",
     "data": {
      "text/plain": [
       "<bound method Module.parameters of FCImageDQN(\n",
       "  (relu): ReLU()\n",
       "  (fc_1): Linear(in_features=7056, out_features=200, bias=True)\n",
       "  (fc_2): Linear(in_features=200, out_features=50, bias=True)\n",
       "  (fc_3): Linear(in_features=50, out_features=3, bias=True)\n",
       ")>"
      ]
     },
     "metadata": {},
     "execution_count": 93
    }
   ],
   "metadata": {}
  },
  {
   "cell_type": "code",
   "execution_count": null,
   "source": [
    "total_reward_episode = img_double_q_learning(env, dqn, num_episodes, replay_size, target_update, num_actions=3)"
   ],
   "outputs": [],
   "metadata": {}
  },
  {
   "cell_type": "code",
   "execution_count": null,
   "source": [
    "reward_visual(total_reward_episode)"
   ],
   "outputs": [],
   "metadata": {}
  }
 ],
 "metadata": {
  "interpreter": {
   "hash": "460b51f6ed046e405da95a3729b6f73ad82c9f1a5cf67a3b6e7d484257d85fb3"
  },
  "kernelspec": {
   "display_name": "Python 3.8.8 64-bit ('RL': conda)",
   "name": "python3"
  },
  "language_info": {
   "codemirror_mode": {
    "name": "ipython",
    "version": 3
   },
   "file_extension": ".py",
   "mimetype": "text/x-python",
   "name": "python",
   "nbconvert_exporter": "python",
   "pygments_lexer": "ipython3",
   "version": "3.8.8"
  },
  "orig_nbformat": 4
 },
 "nbformat": 4,
 "nbformat_minor": 2
}