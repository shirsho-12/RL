{
 "metadata": {
  "language_info": {
   "codemirror_mode": {
    "name": "ipython",
    "version": 3
   },
   "file_extension": ".py",
   "mimetype": "text/x-python",
   "name": "python",
   "nbconvert_exporter": "python",
   "pygments_lexer": "ipython3",
   "version": "3.8.8"
  },
  "orig_nbformat": 2,
  "kernelspec": {
   "name": "python388jvsc74a57bd0460b51f6ed046e405da95a3729b6f73ad82c9f1a5cf67a3b6e7d484257d85fb3",
   "display_name": "Python 3.8.8 64-bit ('RL': conda)"
  }
 },
 "nbformat": 4,
 "nbformat_minor": 2,
 "cells": [
  {
   "source": [
    "# Temporal Difference(TD) Learning\n",
    "Update action values in every time step of an episode. Advantages:\n",
    "- Generally faster learning and convergence.\n",
    "- Does not require a model of the environment.\n",
    "- Converges to the maximum-likelihood estimate, which is more accurate in certain situations than MC. "
   ],
   "cell_type": "markdown",
   "metadata": {}
  },
  {
   "cell_type": "code",
   "execution_count": null,
   "metadata": {},
   "outputs": [],
   "source": []
  }
 ]
}