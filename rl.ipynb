{
 "metadata": {
  "language_info": {
   "codemirror_mode": {
    "name": "ipython",
    "version": 3
   },
   "file_extension": ".py",
   "mimetype": "text/x-python",
   "name": "python",
   "nbconvert_exporter": "python",
   "pygments_lexer": "ipython3",
   "version": "3.8.8"
  },
  "orig_nbformat": 2,
  "kernelspec": {
   "name": "python388jvsc74a57bd0460b51f6ed046e405da95a3729b6f73ad82c9f1a5cf67a3b6e7d484257d85fb3",
   "display_name": "Python 3.8.8 64-bit ('RL': conda)"
  },
  "metadata": {
   "interpreter": {
    "hash": "460b51f6ed046e405da95a3729b6f73ad82c9f1a5cf67a3b6e7d484257d85fb3"
   }
  }
 },
 "nbformat": 4,
 "nbformat_minor": 2,
 "cells": [
  {
   "cell_type": "code",
   "execution_count": 2,
   "metadata": {},
   "outputs": [],
   "source": [
    "!pip freeze > requirements.txt"
   ]
  },
  {
   "source": [
    "## OpenAI Gym\n",
    "Creating the Gym environment and simulating a few basic environments for the first time"
   ],
   "cell_type": "markdown",
   "metadata": {}
  },
  {
   "source": [
    "import gym\n",
    "from pprint import pprint                           # For nicer array printing\n",
    "import time                                         # To see updates more slowly"
   ],
   "cell_type": "code",
   "metadata": {},
   "execution_count": 3,
   "outputs": []
  },
  {
   "source": [
    "### Space Invaders"
   ],
   "cell_type": "markdown",
   "metadata": {}
  },
  {
   "cell_type": "code",
   "execution_count": 3,
   "metadata": {},
   "outputs": [
    {
     "output_type": "execute_result",
     "data": {
      "text/plain": [
       "True"
      ]
     },
     "metadata": {},
     "execution_count": 3
    }
   ],
   "source": [
    "env = gym.make('SpaceInvaders-v0')\n",
    "env.reset()\n",
    "env.render()"
   ]
  },
  {
   "cell_type": "code",
   "execution_count": 4,
   "metadata": {},
   "outputs": [
    {
     "output_type": "stream",
     "name": "stdout",
     "text": [
      "False {'ale.lives': 3}\n"
     ]
    },
    {
     "output_type": "execute_result",
     "data": {
      "text/plain": [
       "True"
      ]
     },
     "metadata": {},
     "execution_count": 4
    }
   ],
   "source": [
    "action = env.action_space.sample()                          # Takes a random action in the sample space\n",
    "new_space, reward, is_done, info = env.step(action)         # Implements action in environment\n",
    "print(is_done, info)\n",
    "env.render()"
   ]
  },
  {
   "cell_type": "code",
   "execution_count": 5,
   "metadata": {},
   "outputs": [
    {
     "output_type": "stream",
     "name": "stdout",
     "text": [
      "{'ale.lives': 3}\n",
      "{'ale.lives': 3}\n",
      "{'ale.lives': 3}\n",
      "{'ale.lives': 3}\n",
      "{'ale.lives': 3}\n",
      "{'ale.lives': 3}\n",
      "{'ale.lives': 3}\n",
      "{'ale.lives': 3}\n",
      "{'ale.lives': 3}\n",
      "{'ale.lives': 2}\n",
      "{'ale.lives': 2}\n",
      "{'ale.lives': 2}\n",
      "{'ale.lives': 2}\n",
      "{'ale.lives': 2}\n",
      "{'ale.lives': 2}\n",
      "{'ale.lives': 1}\n",
      "{'ale.lives': 1}\n",
      "{'ale.lives': 1}\n",
      "{'ale.lives': 1}\n",
      "{'ale.lives': 1}\n",
      "{'ale.lives': 1}\n",
      "{'ale.lives': 0}\n",
      "388\n"
     ]
    }
   ],
   "source": [
    "count, state = 0, 0\n",
    "while not is_done:                                          # Loop until game ends\n",
    "    action = env.action_space.sample()                       \n",
    "    new_space, reward, is_done, info = env.step(action)\n",
    "    if (count % 20 == 0 or state != info['ale.lives']):\n",
    "        print(info)\n",
    "        state = info['ale.lives']\n",
    "    count += 1\n",
    "    env.render()\n",
    "print(count)"
   ]
  },
  {
   "cell_type": "code",
   "execution_count": 5,
   "metadata": {},
   "outputs": [
    {
     "output_type": "stream",
     "name": "stdout",
     "text": [
      "['_elapsed_steps', '_max_episode_steps', 'action_space', 'class_name', 'close',\n 'compute_reward', 'env', 'metadata', 'observation_space', 'render', 'reset',\n 'reward_range', 'seed', 'spec', 'step', 'unwrapped']\n"
     ]
    }
   ],
   "source": [
    "arr = []\n",
    "for method in dir(env):\n",
    "    if \"__\" not in method:\n",
    "        arr.append(method)\n",
    "pprint(arr, compact=True)"
   ]
  },
  {
   "cell_type": "code",
   "execution_count": 6,
   "metadata": {},
   "outputs": [],
   "source": [
    "env.close()"
   ]
  },
  {
   "cell_type": "code",
   "execution_count": 9,
   "metadata": {},
   "outputs": [
    {
     "output_type": "stream",
     "name": "stdout",
     "text": [
      "Discrete(6)\n(210, 160, 3)\n"
     ]
    }
   ],
   "source": [
    "\"\"\"\n",
    "6 possible actions denoted by 0: No Action, 1: Fire, 2-5: Movement directions\n",
    "\"\"\"\n",
    "print(env.action_space)   \n",
    "\"\"\"\n",
    "new_space: Environment. shape attribute represents the 210x160x3 RGB image\n",
    "\"\"\"\n",
    "print(new_space.shape)"
   ]
  },
  {
   "source": [
    "### Lunar Lander"
   ],
   "cell_type": "markdown",
   "metadata": {}
  },
  {
   "cell_type": "code",
   "execution_count": 12,
   "metadata": {},
   "outputs": [],
   "source": [
    "# !conda install swig\n",
    "# !pip install box2d\n",
    "# !pip install gym[box2d]"
   ]
  },
  {
   "cell_type": "code",
   "execution_count": 7,
   "metadata": {},
   "outputs": [
    {
     "output_type": "stream",
     "name": "stdout",
     "text": [
      "False {}\n"
     ]
    }
   ],
   "source": [
    "env = gym.make(\"LunarLander-v2\")\n",
    "env.reset()\n",
    "env.render()\n",
    "\n",
    "action = env.action_space.sample()                          # Takes a random action in the sample space\n",
    "new_space, reward, is_done, info = env.step(action)         # Implements action in environment\n",
    "print(is_done, info)\n",
    "while not is_done:                                          # Loop until game ends\n",
    "    action = env.action_space.sample()                       \n",
    "    new_space, reward, is_done, info = env.step(action)\n",
    "    env.render()\n",
    "    time.sleep(0.01)"
   ]
  },
  {
   "cell_type": "code",
   "execution_count": 8,
   "metadata": {},
   "outputs": [],
   "source": [
    "env.close()"
   ]
  },
  {
   "source": [
    "### CartPole"
   ],
   "cell_type": "markdown",
   "metadata": {}
  },
  {
   "cell_type": "code",
   "execution_count": 3,
   "metadata": {},
   "outputs": [
    {
     "output_type": "execute_result",
     "data": {
      "text/plain": [
       "True"
      ]
     },
     "metadata": {},
     "execution_count": 3
    }
   ],
   "source": [
    "# video_dir = './cartpole_video/'                       # Will work in Ubuntu/Mac environments, but not Windows \n",
    "env = gym.make(\"CartPole-v0\")\n",
    "# env = gym.wrappers.Monitor(env, video_dir)\n",
    "env.reset()\n",
    "env.render()"
   ]
  },
  {
   "cell_type": "code",
   "execution_count": 4,
   "metadata": {},
   "outputs": [
    {
     "output_type": "stream",
     "name": "stdout",
     "text": [
      "[-0.04220357 -0.16393398 -0.01566548  0.30263417]\n",
      "[-0.04548225 -0.3588292  -0.0096128   0.59033567]\n",
      "[-0.05265883 -0.55381525  0.00219392  0.87997511]\n",
      "[-0.06373514 -0.74896694  0.01979342  1.17334695]\n",
      "[-0.07871448 -0.9443405   0.04326036  1.47216877]\n",
      "[-0.09760129 -1.13996388  0.07270373  1.77804389]\n",
      "[-0.12040056 -1.33582518  0.10826461  2.09241577]\n",
      "[-0.14711707 -1.14194788  0.15011293  1.83507018]\n",
      "[-0.16995603 -1.3383777   0.18681433  2.17036903]\n",
      "[-0.19672358 -1.14550632  0.23022171  1.94070014]\n"
     ]
    }
   ],
   "source": [
    "is_done = False\n",
    "while not is_done:\n",
    "    action = env.action_space.sample()\n",
    "    new_space, reward, is_done, info = env.step(action)\n",
    "    print(new_space)                                     # [Cart position, Cart velocity, Pole angle {-0.209, 0.209}, Pole velocity]\n",
    "    time.sleep(0.5)\n",
    "    env.render()"
   ]
  },
  {
   "cell_type": "code",
   "execution_count": 9,
   "metadata": {},
   "outputs": [
    {
     "output_type": "stream",
     "name": "stdout",
     "text": [
      "Average reward:  22.485\n"
     ]
    }
   ],
   "source": [
    "num_episodes = 1000\n",
    "total_rewards = []\n",
    "for episode in range(num_episodes):\n",
    "    state = env.reset()\n",
    "    r_total = 0\n",
    "    is_done = False\n",
    "    while not is_done:\n",
    "        action = env.action_space.sample()\n",
    "        new_s, reward, is_done, _ = env.step(action)\n",
    "        r_total += reward\n",
    "    total_rewards.append(r_total)\n",
    "print(\"Average reward: \", sum(total_rewards)/1000)  "
   ]
  },
  {
   "source": [
    "env.close()"
   ],
   "cell_type": "code",
   "metadata": {},
   "execution_count": null,
   "outputs": []
  },
  {
   "source": [
    "## Learner: Random Search Policy\n",
    "Randomly generates weight matrices to iteratively search through the policy space to find the best one -> highest reward. "
   ],
   "cell_type": "markdown",
   "metadata": {}
  },
  {
   "cell_type": "code",
   "execution_count": 55,
   "metadata": {},
   "outputs": [],
   "source": [
    "import torch\n",
    "import gym\n",
    "import matplotlib.pyplot as plt"
   ]
  },
  {
   "cell_type": "code",
   "execution_count": 41,
   "metadata": {},
   "outputs": [],
   "source": [
    "env = gym.make(\"CartPole-v0\")"
   ]
  },
  {
   "cell_type": "code",
   "execution_count": 42,
   "metadata": {},
   "outputs": [
    {
     "output_type": "stream",
     "name": "stdout",
     "text": [
      "(4, 2)\n"
     ]
    }
   ],
   "source": [
    "num_states = env.observation_space.shape[0]  \n",
    "num_actions = env.action_space.n            \n",
    "print((num_states, num_actions))"
   ]
  },
  {
   "cell_type": "code",
   "execution_count": 43,
   "metadata": {},
   "outputs": [],
   "source": [
    "def run_episode(env, weight):\n",
    "    state = env.reset()\n",
    "    total_reward = 0\n",
    "    is_done = False\n",
    "    # _ = True\n",
    "    while not is_done:\n",
    "        state = torch.from_numpy(state).float()                         # For matrix multiplication\n",
    "        action = torch.argmax(torch.matmul(state, weight))            \n",
    "        # Index with highest value from 1x2 matrix is selected\n",
    "        state, reward, is_done, info = env.step(action.item())\n",
    "        # if _:\n",
    "        #     print(state, \"\\n\", action, \"\\n\", torch.matmul(torch.from_numpy(state).float(), weight))\n",
    "        #     _ = False\n",
    "        total_reward += reward\n",
    "    return total_reward"
   ]
  },
  {
   "cell_type": "code",
   "execution_count": 44,
   "metadata": {
    "tags": []
   },
   "outputs": [
    {
     "output_type": "stream",
     "name": "stdout",
     "text": [
      "Episode: 1 \t Total reward: 61.0\n",
      "Episode: 4 \t Total reward: 200.0\n",
      "Episode: 20 \t Total reward: 49.0\n",
      "Episode: 40 \t Total reward: 70.0\n",
      "Episode: 60 \t Total reward: 9.0\n",
      "Episode: 80 \t Total reward: 37.0\n",
      "Episode: 100 \t Total reward: 8.0\n",
      "Episode: 120 \t Total reward: 9.0\n",
      "Episode: 140 \t Total reward: 34.0\n",
      "Episode: 160 \t Total reward: 8.0\n",
      "Episode: 180 \t Total reward: 98.0\n",
      "Episode: 200 \t Total reward: 9.0\n",
      "Episode: 220 \t Total reward: 9.0\n",
      "Episode: 240 \t Total reward: 9.0\n",
      "Episode: 260 \t Total reward: 159.0\n",
      "Episode: 280 \t Total reward: 45.0\n",
      "Episode: 300 \t Total reward: 9.0\n",
      "Episode: 320 \t Total reward: 9.0\n",
      "Episode: 340 \t Total reward: 10.0\n",
      "Episode: 360 \t Total reward: 9.0\n",
      "Episode: 380 \t Total reward: 129.0\n",
      "Episode: 400 \t Total reward: 200.0\n",
      "Episode: 420 \t Total reward: 49.0\n",
      "Episode: 440 \t Total reward: 8.0\n",
      "Episode: 460 \t Total reward: 200.0\n",
      "Episode: 480 \t Total reward: 9.0\n",
      "Episode: 500 \t Total reward: 9.0\n",
      "Episode: 520 \t Total reward: 200.0\n",
      "Episode: 540 \t Total reward: 31.0\n",
      "Episode: 560 \t Total reward: 10.0\n",
      "Episode: 580 \t Total reward: 200.0\n",
      "Episode: 600 \t Total reward: 9.0\n",
      "Episode: 620 \t Total reward: 10.0\n",
      "Episode: 640 \t Total reward: 161.0\n",
      "Episode: 660 \t Total reward: 9.0\n",
      "Episode: 680 \t Total reward: 9.0\n",
      "Episode: 700 \t Total reward: 200.0\n",
      "Episode: 720 \t Total reward: 8.0\n",
      "Episode: 740 \t Total reward: 72.0\n",
      "Episode: 760 \t Total reward: 46.0\n",
      "Episode: 780 \t Total reward: 10.0\n",
      "Episode: 800 \t Total reward: 93.0\n",
      "Episode: 820 \t Total reward: 9.0\n",
      "Episode: 840 \t Total reward: 62.0\n",
      "Episode: 860 \t Total reward: 30.0\n",
      "Episode: 880 \t Total reward: 34.0\n",
      "Episode: 900 \t Total reward: 8.0\n",
      "Episode: 920 \t Total reward: 90.0\n",
      "Episode: 940 \t Total reward: 200.0\n",
      "Episode: 960 \t Total reward: 10.0\n",
      "Episode: 980 \t Total reward: 9.0\n",
      "Episode: 1000 \t Total reward: 10.0\n"
     ]
    }
   ],
   "source": [
    "num_episodes = 1000\n",
    "best_reward = 0\n",
    "best_weight = None\n",
    "total_rewards = []\n",
    "\n",
    "for episode in range(num_episodes):\n",
    "    weight = torch.rand(num_states, num_actions)\n",
    "    reward = run_episode(env, weight)\n",
    "    if episode % 20 == 19 or reward > best_reward:\n",
    "        print(f\"Episode: {episode + 1} \\t Total reward: {reward}\")\n",
    "    if reward > best_reward:\n",
    "        best_reward = reward\n",
    "        best_weight = weight\n",
    "    total_rewards.append(reward)\n"
   ]
  },
  {
   "cell_type": "code",
   "execution_count": 45,
   "metadata": {},
   "outputs": [
    {
     "output_type": "stream",
     "name": "stdout",
     "text": [
      "Average reward, 1000 iterations: 48.42\n",
      "Average reward, 100 iterations: 158.86\n"
     ]
    }
   ],
   "source": [
    "print(f\"Average reward, {num_episodes} iterations: {sum(total_rewards) / num_episodes}\")\n",
    "eval_run(env, best_weight)"
   ]
  },
  {
   "source": [
    "Expected number of iterations before best reward is reached: 13"
   ],
   "cell_type": "markdown",
   "metadata": {}
  },
  {
   "cell_type": "code",
   "execution_count": 46,
   "metadata": {},
   "outputs": [],
   "source": [
    "def eval_run(env, best_weight):\n",
    "    eval_num_episodes = 100\n",
    "    eval_total_rewards = []\n",
    "    for episode in range(eval_num_episodes):\n",
    "        reward = run_episode(env, best_weight)\n",
    "        eval_total_rewards.append(reward)  \n",
    "    print(f\"Average reward, {eval_num_episodes} evaluation iterations:\", \n",
    "    f\"{sum(eval_total_rewards) / eval_num_episodes}\")"
   ]
  },
  {
   "cell_type": "code",
   "execution_count": 47,
   "metadata": {},
   "outputs": [],
   "source": [
    "# !pip install matplotlib"
   ]
  },
  {
   "cell_type": "code",
   "execution_count": 48,
   "metadata": {},
   "outputs": [
    {
     "output_type": "display_data",
     "data": {
      "text/plain": "<Figure size 432x288 with 1 Axes>",
      "image/svg+xml": "<?xml version=\"1.0\" encoding=\"utf-8\" standalone=\"no\"?>\r\n<!DOCTYPE svg PUBLIC \"-//W3C//DTD SVG 1.1//EN\"\r\n  \"http://www.w3.org/Graphics/SVG/1.1/DTD/svg11.dtd\">\r\n<svg height=\"262.19625pt\" version=\"1.1\" viewBox=\"0 0 388.965625 262.19625\" width=\"388.965625pt\" xmlns=\"http://www.w3.org/2000/svg\" xmlns:xlink=\"http://www.w3.org/1999/xlink\">\r\n <metadata>\r\n  <rdf:RDF xmlns:cc=\"http://creativecommons.org/ns#\" xmlns:dc=\"http://purl.org/dc/elements/1.1/\" xmlns:rdf=\"http://www.w3.org/1999/02/22-rdf-syntax-ns#\">\r\n   <cc:Work>\r\n    <dc:type rdf:resource=\"http://purl.org/dc/dcmitype/StillImage\"/>\r\n    <dc:date>2021-05-17T01:35:32.576643</dc:date>\r\n    <dc:format>image/svg+xml</dc:format>\r\n    <dc:creator>\r\n     <cc:Agent>\r\n      <dc:title>Matplotlib v3.4.2, https://matplotlib.org/</dc:title>\r\n     </cc:Agent>\r\n    </dc:creator>\r\n   </cc:Work>\r\n  </rdf:RDF>\r\n </metadata>\r\n <defs>\r\n  <style type=\"text/css\">*{stroke-linecap:butt;stroke-linejoin:round;}</style>\r\n </defs>\r\n <g id=\"figure_1\">\r\n  <g id=\"patch_1\">\r\n   <path d=\"M 0 262.19625 \r\nL 388.965625 262.19625 \r\nL 388.965625 0 \r\nL 0 0 \r\nz\r\n\" style=\"fill:none;\"/>\r\n  </g>\r\n  <g id=\"axes_1\">\r\n   <g id=\"patch_2\">\r\n    <path d=\"M 46.965625 224.64 \r\nL 381.765625 224.64 \r\nL 381.765625 7.2 \r\nL 46.965625 7.2 \r\nz\r\n\" style=\"fill:#ffffff;\"/>\r\n   </g>\r\n   <g id=\"matplotlib.axis_1\">\r\n    <g id=\"xtick_1\">\r\n     <g id=\"line2d_1\">\r\n      <defs>\r\n       <path d=\"M 0 0 \r\nL 0 3.5 \r\n\" id=\"m62da6ca1d7\" style=\"stroke:#000000;stroke-width:0.8;\"/>\r\n      </defs>\r\n      <g>\r\n       <use style=\"stroke:#000000;stroke-width:0.8;\" x=\"62.183807\" xlink:href=\"#m62da6ca1d7\" y=\"224.64\"/>\r\n      </g>\r\n     </g>\r\n     <g id=\"text_1\">\r\n      <!-- 0 -->\r\n      <g transform=\"translate(59.002557 239.238437)scale(0.1 -0.1)\">\r\n       <defs>\r\n        <path d=\"M 2034 4250 \r\nQ 1547 4250 1301 3770 \r\nQ 1056 3291 1056 2328 \r\nQ 1056 1369 1301 889 \r\nQ 1547 409 2034 409 \r\nQ 2525 409 2770 889 \r\nQ 3016 1369 3016 2328 \r\nQ 3016 3291 2770 3770 \r\nQ 2525 4250 2034 4250 \r\nz\r\nM 2034 4750 \r\nQ 2819 4750 3233 4129 \r\nQ 3647 3509 3647 2328 \r\nQ 3647 1150 3233 529 \r\nQ 2819 -91 2034 -91 \r\nQ 1250 -91 836 529 \r\nQ 422 1150 422 2328 \r\nQ 422 3509 836 4129 \r\nQ 1250 4750 2034 4750 \r\nz\r\n\" id=\"DejaVuSans-30\" transform=\"scale(0.015625)\"/>\r\n       </defs>\r\n       <use xlink:href=\"#DejaVuSans-30\"/>\r\n      </g>\r\n     </g>\r\n    </g>\r\n    <g id=\"xtick_2\">\r\n     <g id=\"line2d_2\">\r\n      <g>\r\n       <use style=\"stroke:#000000;stroke-width:0.8;\" x=\"123.117468\" xlink:href=\"#m62da6ca1d7\" y=\"224.64\"/>\r\n      </g>\r\n     </g>\r\n     <g id=\"text_2\">\r\n      <!-- 200 -->\r\n      <g transform=\"translate(113.573718 239.238437)scale(0.1 -0.1)\">\r\n       <defs>\r\n        <path d=\"M 1228 531 \r\nL 3431 531 \r\nL 3431 0 \r\nL 469 0 \r\nL 469 531 \r\nQ 828 903 1448 1529 \r\nQ 2069 2156 2228 2338 \r\nQ 2531 2678 2651 2914 \r\nQ 2772 3150 2772 3378 \r\nQ 2772 3750 2511 3984 \r\nQ 2250 4219 1831 4219 \r\nQ 1534 4219 1204 4116 \r\nQ 875 4013 500 3803 \r\nL 500 4441 \r\nQ 881 4594 1212 4672 \r\nQ 1544 4750 1819 4750 \r\nQ 2544 4750 2975 4387 \r\nQ 3406 4025 3406 3419 \r\nQ 3406 3131 3298 2873 \r\nQ 3191 2616 2906 2266 \r\nQ 2828 2175 2409 1742 \r\nQ 1991 1309 1228 531 \r\nz\r\n\" id=\"DejaVuSans-32\" transform=\"scale(0.015625)\"/>\r\n       </defs>\r\n       <use xlink:href=\"#DejaVuSans-32\"/>\r\n       <use x=\"63.623047\" xlink:href=\"#DejaVuSans-30\"/>\r\n       <use x=\"127.246094\" xlink:href=\"#DejaVuSans-30\"/>\r\n      </g>\r\n     </g>\r\n    </g>\r\n    <g id=\"xtick_3\">\r\n     <g id=\"line2d_3\">\r\n      <g>\r\n       <use style=\"stroke:#000000;stroke-width:0.8;\" x=\"184.051129\" xlink:href=\"#m62da6ca1d7\" y=\"224.64\"/>\r\n      </g>\r\n     </g>\r\n     <g id=\"text_3\">\r\n      <!-- 400 -->\r\n      <g transform=\"translate(174.507379 239.238437)scale(0.1 -0.1)\">\r\n       <defs>\r\n        <path d=\"M 2419 4116 \r\nL 825 1625 \r\nL 2419 1625 \r\nL 2419 4116 \r\nz\r\nM 2253 4666 \r\nL 3047 4666 \r\nL 3047 1625 \r\nL 3713 1625 \r\nL 3713 1100 \r\nL 3047 1100 \r\nL 3047 0 \r\nL 2419 0 \r\nL 2419 1100 \r\nL 313 1100 \r\nL 313 1709 \r\nL 2253 4666 \r\nz\r\n\" id=\"DejaVuSans-34\" transform=\"scale(0.015625)\"/>\r\n       </defs>\r\n       <use xlink:href=\"#DejaVuSans-34\"/>\r\n       <use x=\"63.623047\" xlink:href=\"#DejaVuSans-30\"/>\r\n       <use x=\"127.246094\" xlink:href=\"#DejaVuSans-30\"/>\r\n      </g>\r\n     </g>\r\n    </g>\r\n    <g id=\"xtick_4\">\r\n     <g id=\"line2d_4\">\r\n      <g>\r\n       <use style=\"stroke:#000000;stroke-width:0.8;\" x=\"244.98479\" xlink:href=\"#m62da6ca1d7\" y=\"224.64\"/>\r\n      </g>\r\n     </g>\r\n     <g id=\"text_4\">\r\n      <!-- 600 -->\r\n      <g transform=\"translate(235.44104 239.238437)scale(0.1 -0.1)\">\r\n       <defs>\r\n        <path d=\"M 2113 2584 \r\nQ 1688 2584 1439 2293 \r\nQ 1191 2003 1191 1497 \r\nQ 1191 994 1439 701 \r\nQ 1688 409 2113 409 \r\nQ 2538 409 2786 701 \r\nQ 3034 994 3034 1497 \r\nQ 3034 2003 2786 2293 \r\nQ 2538 2584 2113 2584 \r\nz\r\nM 3366 4563 \r\nL 3366 3988 \r\nQ 3128 4100 2886 4159 \r\nQ 2644 4219 2406 4219 \r\nQ 1781 4219 1451 3797 \r\nQ 1122 3375 1075 2522 \r\nQ 1259 2794 1537 2939 \r\nQ 1816 3084 2150 3084 \r\nQ 2853 3084 3261 2657 \r\nQ 3669 2231 3669 1497 \r\nQ 3669 778 3244 343 \r\nQ 2819 -91 2113 -91 \r\nQ 1303 -91 875 529 \r\nQ 447 1150 447 2328 \r\nQ 447 3434 972 4092 \r\nQ 1497 4750 2381 4750 \r\nQ 2619 4750 2861 4703 \r\nQ 3103 4656 3366 4563 \r\nz\r\n\" id=\"DejaVuSans-36\" transform=\"scale(0.015625)\"/>\r\n       </defs>\r\n       <use xlink:href=\"#DejaVuSans-36\"/>\r\n       <use x=\"63.623047\" xlink:href=\"#DejaVuSans-30\"/>\r\n       <use x=\"127.246094\" xlink:href=\"#DejaVuSans-30\"/>\r\n      </g>\r\n     </g>\r\n    </g>\r\n    <g id=\"xtick_5\">\r\n     <g id=\"line2d_5\">\r\n      <g>\r\n       <use style=\"stroke:#000000;stroke-width:0.8;\" x=\"305.918451\" xlink:href=\"#m62da6ca1d7\" y=\"224.64\"/>\r\n      </g>\r\n     </g>\r\n     <g id=\"text_5\">\r\n      <!-- 800 -->\r\n      <g transform=\"translate(296.374701 239.238437)scale(0.1 -0.1)\">\r\n       <defs>\r\n        <path d=\"M 2034 2216 \r\nQ 1584 2216 1326 1975 \r\nQ 1069 1734 1069 1313 \r\nQ 1069 891 1326 650 \r\nQ 1584 409 2034 409 \r\nQ 2484 409 2743 651 \r\nQ 3003 894 3003 1313 \r\nQ 3003 1734 2745 1975 \r\nQ 2488 2216 2034 2216 \r\nz\r\nM 1403 2484 \r\nQ 997 2584 770 2862 \r\nQ 544 3141 544 3541 \r\nQ 544 4100 942 4425 \r\nQ 1341 4750 2034 4750 \r\nQ 2731 4750 3128 4425 \r\nQ 3525 4100 3525 3541 \r\nQ 3525 3141 3298 2862 \r\nQ 3072 2584 2669 2484 \r\nQ 3125 2378 3379 2068 \r\nQ 3634 1759 3634 1313 \r\nQ 3634 634 3220 271 \r\nQ 2806 -91 2034 -91 \r\nQ 1263 -91 848 271 \r\nQ 434 634 434 1313 \r\nQ 434 1759 690 2068 \r\nQ 947 2378 1403 2484 \r\nz\r\nM 1172 3481 \r\nQ 1172 3119 1398 2916 \r\nQ 1625 2713 2034 2713 \r\nQ 2441 2713 2670 2916 \r\nQ 2900 3119 2900 3481 \r\nQ 2900 3844 2670 4047 \r\nQ 2441 4250 2034 4250 \r\nQ 1625 4250 1398 4047 \r\nQ 1172 3844 1172 3481 \r\nz\r\n\" id=\"DejaVuSans-38\" transform=\"scale(0.015625)\"/>\r\n       </defs>\r\n       <use xlink:href=\"#DejaVuSans-38\"/>\r\n       <use x=\"63.623047\" xlink:href=\"#DejaVuSans-30\"/>\r\n       <use x=\"127.246094\" xlink:href=\"#DejaVuSans-30\"/>\r\n      </g>\r\n     </g>\r\n    </g>\r\n    <g id=\"xtick_6\">\r\n     <g id=\"line2d_6\">\r\n      <g>\r\n       <use style=\"stroke:#000000;stroke-width:0.8;\" x=\"366.852111\" xlink:href=\"#m62da6ca1d7\" y=\"224.64\"/>\r\n      </g>\r\n     </g>\r\n     <g id=\"text_6\">\r\n      <!-- 1000 -->\r\n      <g transform=\"translate(354.127111 239.238437)scale(0.1 -0.1)\">\r\n       <defs>\r\n        <path d=\"M 794 531 \r\nL 1825 531 \r\nL 1825 4091 \r\nL 703 3866 \r\nL 703 4441 \r\nL 1819 4666 \r\nL 2450 4666 \r\nL 2450 531 \r\nL 3481 531 \r\nL 3481 0 \r\nL 794 0 \r\nL 794 531 \r\nz\r\n\" id=\"DejaVuSans-31\" transform=\"scale(0.015625)\"/>\r\n       </defs>\r\n       <use xlink:href=\"#DejaVuSans-31\"/>\r\n       <use x=\"63.623047\" xlink:href=\"#DejaVuSans-30\"/>\r\n       <use x=\"127.246094\" xlink:href=\"#DejaVuSans-30\"/>\r\n       <use x=\"190.869141\" xlink:href=\"#DejaVuSans-30\"/>\r\n      </g>\r\n     </g>\r\n    </g>\r\n    <g id=\"text_7\">\r\n     <!-- Iteration -->\r\n     <g transform=\"translate(193.157031 252.916562)scale(0.1 -0.1)\">\r\n      <defs>\r\n       <path d=\"M 628 4666 \r\nL 1259 4666 \r\nL 1259 0 \r\nL 628 0 \r\nL 628 4666 \r\nz\r\n\" id=\"DejaVuSans-49\" transform=\"scale(0.015625)\"/>\r\n       <path d=\"M 1172 4494 \r\nL 1172 3500 \r\nL 2356 3500 \r\nL 2356 3053 \r\nL 1172 3053 \r\nL 1172 1153 \r\nQ 1172 725 1289 603 \r\nQ 1406 481 1766 481 \r\nL 2356 481 \r\nL 2356 0 \r\nL 1766 0 \r\nQ 1100 0 847 248 \r\nQ 594 497 594 1153 \r\nL 594 3053 \r\nL 172 3053 \r\nL 172 3500 \r\nL 594 3500 \r\nL 594 4494 \r\nL 1172 4494 \r\nz\r\n\" id=\"DejaVuSans-74\" transform=\"scale(0.015625)\"/>\r\n       <path d=\"M 3597 1894 \r\nL 3597 1613 \r\nL 953 1613 \r\nQ 991 1019 1311 708 \r\nQ 1631 397 2203 397 \r\nQ 2534 397 2845 478 \r\nQ 3156 559 3463 722 \r\nL 3463 178 \r\nQ 3153 47 2828 -22 \r\nQ 2503 -91 2169 -91 \r\nQ 1331 -91 842 396 \r\nQ 353 884 353 1716 \r\nQ 353 2575 817 3079 \r\nQ 1281 3584 2069 3584 \r\nQ 2775 3584 3186 3129 \r\nQ 3597 2675 3597 1894 \r\nz\r\nM 3022 2063 \r\nQ 3016 2534 2758 2815 \r\nQ 2500 3097 2075 3097 \r\nQ 1594 3097 1305 2825 \r\nQ 1016 2553 972 2059 \r\nL 3022 2063 \r\nz\r\n\" id=\"DejaVuSans-65\" transform=\"scale(0.015625)\"/>\r\n       <path d=\"M 2631 2963 \r\nQ 2534 3019 2420 3045 \r\nQ 2306 3072 2169 3072 \r\nQ 1681 3072 1420 2755 \r\nQ 1159 2438 1159 1844 \r\nL 1159 0 \r\nL 581 0 \r\nL 581 3500 \r\nL 1159 3500 \r\nL 1159 2956 \r\nQ 1341 3275 1631 3429 \r\nQ 1922 3584 2338 3584 \r\nQ 2397 3584 2469 3576 \r\nQ 2541 3569 2628 3553 \r\nL 2631 2963 \r\nz\r\n\" id=\"DejaVuSans-72\" transform=\"scale(0.015625)\"/>\r\n       <path d=\"M 2194 1759 \r\nQ 1497 1759 1228 1600 \r\nQ 959 1441 959 1056 \r\nQ 959 750 1161 570 \r\nQ 1363 391 1709 391 \r\nQ 2188 391 2477 730 \r\nQ 2766 1069 2766 1631 \r\nL 2766 1759 \r\nL 2194 1759 \r\nz\r\nM 3341 1997 \r\nL 3341 0 \r\nL 2766 0 \r\nL 2766 531 \r\nQ 2569 213 2275 61 \r\nQ 1981 -91 1556 -91 \r\nQ 1019 -91 701 211 \r\nQ 384 513 384 1019 \r\nQ 384 1609 779 1909 \r\nQ 1175 2209 1959 2209 \r\nL 2766 2209 \r\nL 2766 2266 \r\nQ 2766 2663 2505 2880 \r\nQ 2244 3097 1772 3097 \r\nQ 1472 3097 1187 3025 \r\nQ 903 2953 641 2809 \r\nL 641 3341 \r\nQ 956 3463 1253 3523 \r\nQ 1550 3584 1831 3584 \r\nQ 2591 3584 2966 3190 \r\nQ 3341 2797 3341 1997 \r\nz\r\n\" id=\"DejaVuSans-61\" transform=\"scale(0.015625)\"/>\r\n       <path d=\"M 603 3500 \r\nL 1178 3500 \r\nL 1178 0 \r\nL 603 0 \r\nL 603 3500 \r\nz\r\nM 603 4863 \r\nL 1178 4863 \r\nL 1178 4134 \r\nL 603 4134 \r\nL 603 4863 \r\nz\r\n\" id=\"DejaVuSans-69\" transform=\"scale(0.015625)\"/>\r\n       <path d=\"M 1959 3097 \r\nQ 1497 3097 1228 2736 \r\nQ 959 2375 959 1747 \r\nQ 959 1119 1226 758 \r\nQ 1494 397 1959 397 \r\nQ 2419 397 2687 759 \r\nQ 2956 1122 2956 1747 \r\nQ 2956 2369 2687 2733 \r\nQ 2419 3097 1959 3097 \r\nz\r\nM 1959 3584 \r\nQ 2709 3584 3137 3096 \r\nQ 3566 2609 3566 1747 \r\nQ 3566 888 3137 398 \r\nQ 2709 -91 1959 -91 \r\nQ 1206 -91 779 398 \r\nQ 353 888 353 1747 \r\nQ 353 2609 779 3096 \r\nQ 1206 3584 1959 3584 \r\nz\r\n\" id=\"DejaVuSans-6f\" transform=\"scale(0.015625)\"/>\r\n       <path d=\"M 3513 2113 \r\nL 3513 0 \r\nL 2938 0 \r\nL 2938 2094 \r\nQ 2938 2591 2744 2837 \r\nQ 2550 3084 2163 3084 \r\nQ 1697 3084 1428 2787 \r\nQ 1159 2491 1159 1978 \r\nL 1159 0 \r\nL 581 0 \r\nL 581 3500 \r\nL 1159 3500 \r\nL 1159 2956 \r\nQ 1366 3272 1645 3428 \r\nQ 1925 3584 2291 3584 \r\nQ 2894 3584 3203 3211 \r\nQ 3513 2838 3513 2113 \r\nz\r\n\" id=\"DejaVuSans-6e\" transform=\"scale(0.015625)\"/>\r\n      </defs>\r\n      <use xlink:href=\"#DejaVuSans-49\"/>\r\n      <use x=\"29.492188\" xlink:href=\"#DejaVuSans-74\"/>\r\n      <use x=\"68.701172\" xlink:href=\"#DejaVuSans-65\"/>\r\n      <use x=\"130.224609\" xlink:href=\"#DejaVuSans-72\"/>\r\n      <use x=\"171.337891\" xlink:href=\"#DejaVuSans-61\"/>\r\n      <use x=\"232.617188\" xlink:href=\"#DejaVuSans-74\"/>\r\n      <use x=\"271.826172\" xlink:href=\"#DejaVuSans-69\"/>\r\n      <use x=\"299.609375\" xlink:href=\"#DejaVuSans-6f\"/>\r\n      <use x=\"360.791016\" xlink:href=\"#DejaVuSans-6e\"/>\r\n     </g>\r\n    </g>\r\n   </g>\r\n   <g id=\"matplotlib.axis_2\">\r\n    <g id=\"ytick_1\">\r\n     <g id=\"line2d_7\">\r\n      <defs>\r\n       <path d=\"M 0 0 \r\nL -3.5 0 \r\n\" id=\"m72fcb1b81a\" style=\"stroke:#000000;stroke-width:0.8;\"/>\r\n      </defs>\r\n      <g>\r\n       <use style=\"stroke:#000000;stroke-width:0.8;\" x=\"46.965625\" xlink:href=\"#m72fcb1b81a\" y=\"222.992727\"/>\r\n      </g>\r\n     </g>\r\n     <g id=\"text_8\">\r\n      <!-- 0 -->\r\n      <g transform=\"translate(33.603125 226.791946)scale(0.1 -0.1)\">\r\n       <use xlink:href=\"#DejaVuSans-30\"/>\r\n      </g>\r\n     </g>\r\n    </g>\r\n    <g id=\"ytick_2\">\r\n     <g id=\"line2d_8\">\r\n      <g>\r\n       <use style=\"stroke:#000000;stroke-width:0.8;\" x=\"46.965625\" xlink:href=\"#m72fcb1b81a\" y=\"197.254091\"/>\r\n      </g>\r\n     </g>\r\n     <g id=\"text_9\">\r\n      <!-- 25 -->\r\n      <g transform=\"translate(27.240625 201.05331)scale(0.1 -0.1)\">\r\n       <defs>\r\n        <path d=\"M 691 4666 \r\nL 3169 4666 \r\nL 3169 4134 \r\nL 1269 4134 \r\nL 1269 2991 \r\nQ 1406 3038 1543 3061 \r\nQ 1681 3084 1819 3084 \r\nQ 2600 3084 3056 2656 \r\nQ 3513 2228 3513 1497 \r\nQ 3513 744 3044 326 \r\nQ 2575 -91 1722 -91 \r\nQ 1428 -91 1123 -41 \r\nQ 819 9 494 109 \r\nL 494 744 \r\nQ 775 591 1075 516 \r\nQ 1375 441 1709 441 \r\nQ 2250 441 2565 725 \r\nQ 2881 1009 2881 1497 \r\nQ 2881 1984 2565 2268 \r\nQ 2250 2553 1709 2553 \r\nQ 1456 2553 1204 2497 \r\nQ 953 2441 691 2322 \r\nL 691 4666 \r\nz\r\n\" id=\"DejaVuSans-35\" transform=\"scale(0.015625)\"/>\r\n       </defs>\r\n       <use xlink:href=\"#DejaVuSans-32\"/>\r\n       <use x=\"63.623047\" xlink:href=\"#DejaVuSans-35\"/>\r\n      </g>\r\n     </g>\r\n    </g>\r\n    <g id=\"ytick_3\">\r\n     <g id=\"line2d_9\">\r\n      <g>\r\n       <use style=\"stroke:#000000;stroke-width:0.8;\" x=\"46.965625\" xlink:href=\"#m72fcb1b81a\" y=\"171.515455\"/>\r\n      </g>\r\n     </g>\r\n     <g id=\"text_10\">\r\n      <!-- 50 -->\r\n      <g transform=\"translate(27.240625 175.314673)scale(0.1 -0.1)\">\r\n       <use xlink:href=\"#DejaVuSans-35\"/>\r\n       <use x=\"63.623047\" xlink:href=\"#DejaVuSans-30\"/>\r\n      </g>\r\n     </g>\r\n    </g>\r\n    <g id=\"ytick_4\">\r\n     <g id=\"line2d_10\">\r\n      <g>\r\n       <use style=\"stroke:#000000;stroke-width:0.8;\" x=\"46.965625\" xlink:href=\"#m72fcb1b81a\" y=\"145.776818\"/>\r\n      </g>\r\n     </g>\r\n     <g id=\"text_11\">\r\n      <!-- 75 -->\r\n      <g transform=\"translate(27.240625 149.576037)scale(0.1 -0.1)\">\r\n       <defs>\r\n        <path d=\"M 525 4666 \r\nL 3525 4666 \r\nL 3525 4397 \r\nL 1831 0 \r\nL 1172 0 \r\nL 2766 4134 \r\nL 525 4134 \r\nL 525 4666 \r\nz\r\n\" id=\"DejaVuSans-37\" transform=\"scale(0.015625)\"/>\r\n       </defs>\r\n       <use xlink:href=\"#DejaVuSans-37\"/>\r\n       <use x=\"63.623047\" xlink:href=\"#DejaVuSans-35\"/>\r\n      </g>\r\n     </g>\r\n    </g>\r\n    <g id=\"ytick_5\">\r\n     <g id=\"line2d_11\">\r\n      <g>\r\n       <use style=\"stroke:#000000;stroke-width:0.8;\" x=\"46.965625\" xlink:href=\"#m72fcb1b81a\" y=\"120.038182\"/>\r\n      </g>\r\n     </g>\r\n     <g id=\"text_12\">\r\n      <!-- 100 -->\r\n      <g transform=\"translate(20.878125 123.837401)scale(0.1 -0.1)\">\r\n       <use xlink:href=\"#DejaVuSans-31\"/>\r\n       <use x=\"63.623047\" xlink:href=\"#DejaVuSans-30\"/>\r\n       <use x=\"127.246094\" xlink:href=\"#DejaVuSans-30\"/>\r\n      </g>\r\n     </g>\r\n    </g>\r\n    <g id=\"ytick_6\">\r\n     <g id=\"line2d_12\">\r\n      <g>\r\n       <use style=\"stroke:#000000;stroke-width:0.8;\" x=\"46.965625\" xlink:href=\"#m72fcb1b81a\" y=\"94.299545\"/>\r\n      </g>\r\n     </g>\r\n     <g id=\"text_13\">\r\n      <!-- 125 -->\r\n      <g transform=\"translate(20.878125 98.098764)scale(0.1 -0.1)\">\r\n       <use xlink:href=\"#DejaVuSans-31\"/>\r\n       <use x=\"63.623047\" xlink:href=\"#DejaVuSans-32\"/>\r\n       <use x=\"127.246094\" xlink:href=\"#DejaVuSans-35\"/>\r\n      </g>\r\n     </g>\r\n    </g>\r\n    <g id=\"ytick_7\">\r\n     <g id=\"line2d_13\">\r\n      <g>\r\n       <use style=\"stroke:#000000;stroke-width:0.8;\" x=\"46.965625\" xlink:href=\"#m72fcb1b81a\" y=\"68.560909\"/>\r\n      </g>\r\n     </g>\r\n     <g id=\"text_14\">\r\n      <!-- 150 -->\r\n      <g transform=\"translate(20.878125 72.360128)scale(0.1 -0.1)\">\r\n       <use xlink:href=\"#DejaVuSans-31\"/>\r\n       <use x=\"63.623047\" xlink:href=\"#DejaVuSans-35\"/>\r\n       <use x=\"127.246094\" xlink:href=\"#DejaVuSans-30\"/>\r\n      </g>\r\n     </g>\r\n    </g>\r\n    <g id=\"ytick_8\">\r\n     <g id=\"line2d_14\">\r\n      <g>\r\n       <use style=\"stroke:#000000;stroke-width:0.8;\" x=\"46.965625\" xlink:href=\"#m72fcb1b81a\" y=\"42.822273\"/>\r\n      </g>\r\n     </g>\r\n     <g id=\"text_15\">\r\n      <!-- 175 -->\r\n      <g transform=\"translate(20.878125 46.621491)scale(0.1 -0.1)\">\r\n       <use xlink:href=\"#DejaVuSans-31\"/>\r\n       <use x=\"63.623047\" xlink:href=\"#DejaVuSans-37\"/>\r\n       <use x=\"127.246094\" xlink:href=\"#DejaVuSans-35\"/>\r\n      </g>\r\n     </g>\r\n    </g>\r\n    <g id=\"ytick_9\">\r\n     <g id=\"line2d_15\">\r\n      <g>\r\n       <use style=\"stroke:#000000;stroke-width:0.8;\" x=\"46.965625\" xlink:href=\"#m72fcb1b81a\" y=\"17.083636\"/>\r\n      </g>\r\n     </g>\r\n     <g id=\"text_16\">\r\n      <!-- 200 -->\r\n      <g transform=\"translate(20.878125 20.882855)scale(0.1 -0.1)\">\r\n       <use xlink:href=\"#DejaVuSans-32\"/>\r\n       <use x=\"63.623047\" xlink:href=\"#DejaVuSans-30\"/>\r\n       <use x=\"127.246094\" xlink:href=\"#DejaVuSans-30\"/>\r\n      </g>\r\n     </g>\r\n    </g>\r\n    <g id=\"text_17\">\r\n     <!-- Reward -->\r\n     <g transform=\"translate(14.798438 134.541094)rotate(-90)scale(0.1 -0.1)\">\r\n      <defs>\r\n       <path d=\"M 2841 2188 \r\nQ 3044 2119 3236 1894 \r\nQ 3428 1669 3622 1275 \r\nL 4263 0 \r\nL 3584 0 \r\nL 2988 1197 \r\nQ 2756 1666 2539 1819 \r\nQ 2322 1972 1947 1972 \r\nL 1259 1972 \r\nL 1259 0 \r\nL 628 0 \r\nL 628 4666 \r\nL 2053 4666 \r\nQ 2853 4666 3247 4331 \r\nQ 3641 3997 3641 3322 \r\nQ 3641 2881 3436 2590 \r\nQ 3231 2300 2841 2188 \r\nz\r\nM 1259 4147 \r\nL 1259 2491 \r\nL 2053 2491 \r\nQ 2509 2491 2742 2702 \r\nQ 2975 2913 2975 3322 \r\nQ 2975 3731 2742 3939 \r\nQ 2509 4147 2053 4147 \r\nL 1259 4147 \r\nz\r\n\" id=\"DejaVuSans-52\" transform=\"scale(0.015625)\"/>\r\n       <path d=\"M 269 3500 \r\nL 844 3500 \r\nL 1563 769 \r\nL 2278 3500 \r\nL 2956 3500 \r\nL 3675 769 \r\nL 4391 3500 \r\nL 4966 3500 \r\nL 4050 0 \r\nL 3372 0 \r\nL 2619 2869 \r\nL 1863 0 \r\nL 1184 0 \r\nL 269 3500 \r\nz\r\n\" id=\"DejaVuSans-77\" transform=\"scale(0.015625)\"/>\r\n       <path d=\"M 2906 2969 \r\nL 2906 4863 \r\nL 3481 4863 \r\nL 3481 0 \r\nL 2906 0 \r\nL 2906 525 \r\nQ 2725 213 2448 61 \r\nQ 2172 -91 1784 -91 \r\nQ 1150 -91 751 415 \r\nQ 353 922 353 1747 \r\nQ 353 2572 751 3078 \r\nQ 1150 3584 1784 3584 \r\nQ 2172 3584 2448 3432 \r\nQ 2725 3281 2906 2969 \r\nz\r\nM 947 1747 \r\nQ 947 1113 1208 752 \r\nQ 1469 391 1925 391 \r\nQ 2381 391 2643 752 \r\nQ 2906 1113 2906 1747 \r\nQ 2906 2381 2643 2742 \r\nQ 2381 3103 1925 3103 \r\nQ 1469 3103 1208 2742 \r\nQ 947 2381 947 1747 \r\nz\r\n\" id=\"DejaVuSans-64\" transform=\"scale(0.015625)\"/>\r\n      </defs>\r\n      <use xlink:href=\"#DejaVuSans-52\"/>\r\n      <use x=\"64.982422\" xlink:href=\"#DejaVuSans-65\"/>\r\n      <use x=\"126.505859\" xlink:href=\"#DejaVuSans-77\"/>\r\n      <use x=\"208.292969\" xlink:href=\"#DejaVuSans-61\"/>\r\n      <use x=\"269.572266\" xlink:href=\"#DejaVuSans-72\"/>\r\n      <use x=\"308.935547\" xlink:href=\"#DejaVuSans-64\"/>\r\n     </g>\r\n    </g>\r\n   </g>\r\n   <g id=\"line2d_16\">\r\n    <path clip-path=\"url(#pabf3db9403)\" d=\"M 62.183807 160.190455 \r\nL 62.488475 213.726818 \r\nL 62.793143 193.135909 \r\nL 63.097812 17.083636 \r\nL 63.707148 214.756364 \r\nL 64.011817 138.57 \r\nL 64.316485 191.076818 \r\nL 64.621153 73.708636 \r\nL 64.925822 159.160909 \r\nL 65.23049 212.697273 \r\nL 65.535158 213.726818 \r\nL 65.839826 173.574545 \r\nL 66.144495 210.638182 \r\nL 66.449163 17.083636 \r\nL 66.753831 17.083636 \r\nL 67.0585 213.726818 \r\nL 67.363168 156.072273 \r\nL 67.667836 141.658636 \r\nL 68.277173 213.726818 \r\nL 68.581841 213.726818 \r\nL 68.88651 17.083636 \r\nL 69.191178 63.413182 \r\nL 69.800514 213.726818 \r\nL 70.105183 53.117727 \r\nL 70.409851 213.726818 \r\nL 70.714519 213.726818 \r\nL 71.019188 169.456364 \r\nL 71.323856 212.697273 \r\nL 71.933193 212.697273 \r\nL 72.237861 146.806364 \r\nL 72.542529 213.726818 \r\nL 72.847197 179.751818 \r\nL 73.151866 171.515455 \r\nL 73.456534 208.579091 \r\nL 73.761202 213.726818 \r\nL 74.065871 150.924545 \r\nL 74.370539 17.083636 \r\nL 74.675207 152.983636 \r\nL 74.979876 213.726818 \r\nL 75.284544 139.599545 \r\nL 75.589212 37.674545 \r\nL 75.893881 212.697273 \r\nL 76.198549 157.101818 \r\nL 76.503217 214.756364 \r\nL 76.807885 17.083636 \r\nL 77.112554 214.756364 \r\nL 77.417222 213.726818 \r\nL 77.72189 214.756364 \r\nL 78.026559 212.697273 \r\nL 78.331227 212.697273 \r\nL 78.635895 169.456364 \r\nL 78.940564 212.697273 \r\nL 79.245232 176.663182 \r\nL 79.5499 213.726818 \r\nL 79.854568 212.697273 \r\nL 80.159237 213.726818 \r\nL 80.463905 172.545 \r\nL 80.768573 212.697273 \r\nL 81.073242 146.806364 \r\nL 81.37791 211.667727 \r\nL 81.682578 214.756364 \r\nL 81.987247 17.083636 \r\nL 82.291915 146.806364 \r\nL 82.901252 214.756364 \r\nL 83.20592 160.190455 \r\nL 83.510588 172.545 \r\nL 83.815256 212.697273 \r\nL 84.119925 213.726818 \r\nL 84.424593 212.697273 \r\nL 84.729261 209.608636 \r\nL 85.03393 212.697273 \r\nL 85.338598 213.726818 \r\nL 85.643266 178.722273 \r\nL 85.947935 212.697273 \r\nL 86.252603 184.899545 \r\nL 86.557271 212.697273 \r\nL 86.861939 167.397273 \r\nL 87.166608 64.442727 \r\nL 87.471276 212.697273 \r\nL 87.775944 212.697273 \r\nL 88.080613 175.633636 \r\nL 88.385281 17.083636 \r\nL 88.689949 185.929091 \r\nL 88.994618 81.945 \r\nL 89.299286 213.726818 \r\nL 89.603954 212.697273 \r\nL 89.908623 213.726818 \r\nL 90.213291 162.249545 \r\nL 90.517959 212.697273 \r\nL 90.822627 17.083636 \r\nL 91.127296 111.801818 \r\nL 91.431964 127.245 \r\nL 91.736632 75.767727 \r\nL 92.041301 213.726818 \r\nL 92.345969 214.756364 \r\nL 92.650637 17.083636 \r\nL 92.955306 205.490455 \r\nL 93.259974 195.195 \r\nL 93.564642 200.342727 \r\nL 93.869311 213.726818 \r\nL 94.173979 212.697273 \r\nL 94.478647 186.958636 \r\nL 94.783315 146.806364 \r\nL 95.087984 128.274545 \r\nL 95.392652 212.697273 \r\nL 95.69732 213.726818 \r\nL 96.001989 17.083636 \r\nL 96.306657 212.697273 \r\nL 96.611325 202.401818 \r\nL 96.915994 17.083636 \r\nL 97.220662 166.367727 \r\nL 97.52533 169.456364 \r\nL 98.134667 17.083636 \r\nL 98.439335 213.726818 \r\nL 98.744003 144.747273 \r\nL 99.048672 24.290455 \r\nL 99.35334 177.692727 \r\nL 99.658008 212.697273 \r\nL 99.962677 17.083636 \r\nL 100.267345 179.751818 \r\nL 100.572013 213.726818 \r\nL 100.876682 213.726818 \r\nL 101.18135 171.515455 \r\nL 101.486018 109.742727 \r\nL 101.790686 179.751818 \r\nL 102.095355 213.726818 \r\nL 102.400023 179.751818 \r\nL 102.704691 213.726818 \r\nL 103.00936 186.958636 \r\nL 103.314028 212.697273 \r\nL 103.618696 42.822273 \r\nL 103.923365 159.160909 \r\nL 104.228033 212.697273 \r\nL 104.837369 167.397273 \r\nL 105.142038 159.160909 \r\nL 105.446706 214.756364 \r\nL 105.751374 187.988182 \r\nL 106.056043 179.751818 \r\nL 106.360711 142.688182 \r\nL 106.665379 171.515455 \r\nL 106.970048 213.726818 \r\nL 107.274716 155.042727 \r\nL 107.579384 214.756364 \r\nL 107.884053 214.756364 \r\nL 108.188721 177.692727 \r\nL 108.493389 213.726818 \r\nL 108.798057 213.726818 \r\nL 109.102726 182.840455 \r\nL 109.407394 212.697273 \r\nL 109.712062 17.083636 \r\nL 110.016731 213.726818 \r\nL 110.321399 178.722273 \r\nL 110.626067 214.756364 \r\nL 110.930736 212.697273 \r\nL 111.235404 120.038182 \r\nL 111.540072 141.658636 \r\nL 111.84474 195.195 \r\nL 112.149409 214.756364 \r\nL 112.454077 197.254091 \r\nL 112.758745 213.726818 \r\nL 113.67275 213.726818 \r\nL 113.977419 211.667727 \r\nL 114.282087 17.083636 \r\nL 114.586755 186.958636 \r\nL 114.891424 119.008636 \r\nL 115.196092 212.697273 \r\nL 115.50076 17.083636 \r\nL 115.805428 212.697273 \r\nL 116.110097 212.697273 \r\nL 116.414765 187.988182 \r\nL 116.719433 122.097273 \r\nL 117.024102 200.342727 \r\nL 117.32877 213.726818 \r\nL 117.633438 214.756364 \r\nL 117.938107 212.697273 \r\nL 118.242775 212.697273 \r\nL 118.852111 214.756364 \r\nL 119.461448 212.697273 \r\nL 119.766116 194.165455 \r\nL 120.070785 126.215455 \r\nL 120.375453 212.697273 \r\nL 120.680121 171.515455 \r\nL 120.98479 191.076818 \r\nL 121.289458 151.954091 \r\nL 121.594126 189.017727 \r\nL 121.898795 87.092727 \r\nL 122.203463 213.726818 \r\nL 122.508131 161.22 \r\nL 122.812799 213.726818 \r\nL 123.117468 212.697273 \r\nL 123.422136 213.726818 \r\nL 123.726804 206.52 \r\nL 124.031473 214.756364 \r\nL 124.336141 212.697273 \r\nL 124.640809 212.697273 \r\nL 124.945478 145.776818 \r\nL 125.250146 212.697273 \r\nL 125.554814 212.697273 \r\nL 125.859482 186.958636 \r\nL 126.164151 213.726818 \r\nL 126.468819 214.756364 \r\nL 126.773487 212.697273 \r\nL 127.078156 169.456364 \r\nL 127.382824 212.697273 \r\nL 127.687492 213.726818 \r\nL 127.992161 149.895 \r\nL 128.296829 212.697273 \r\nL 128.601497 181.810909 \r\nL 128.906166 213.726818 \r\nL 129.210834 144.747273 \r\nL 129.515502 17.083636 \r\nL 129.82017 213.726818 \r\nL 130.124839 84.004091 \r\nL 130.429507 128.274545 \r\nL 130.734175 192.106364 \r\nL 131.038844 145.776818 \r\nL 131.343512 190.047273 \r\nL 131.64818 212.697273 \r\nL 131.952849 207.549545 \r\nL 132.257517 212.697273 \r\nL 132.562185 186.958636 \r\nL 132.866854 213.726818 \r\nL 133.171522 162.249545 \r\nL 133.47619 212.697273 \r\nL 133.780858 213.726818 \r\nL 134.085527 213.726818 \r\nL 134.390195 181.810909 \r\nL 134.694863 163.279091 \r\nL 134.999532 213.726818 \r\nL 135.3042 213.726818 \r\nL 135.608868 212.697273 \r\nL 135.913537 17.083636 \r\nL 136.218205 192.106364 \r\nL 136.522873 179.751818 \r\nL 136.827541 212.697273 \r\nL 137.13221 213.726818 \r\nL 137.741546 213.726818 \r\nL 138.046215 209.608636 \r\nL 138.350883 107.683636 \r\nL 138.655551 212.697273 \r\nL 138.96022 163.279091 \r\nL 139.264888 199.313182 \r\nL 139.569556 199.313182 \r\nL 139.874225 17.083636 \r\nL 140.178893 214.756364 \r\nL 140.483561 93.27 \r\nL 140.788229 179.751818 \r\nL 141.092898 59.295 \r\nL 141.397566 196.224545 \r\nL 141.702234 213.726818 \r\nL 142.006903 124.156364 \r\nL 142.311571 212.697273 \r\nL 142.616239 172.545 \r\nL 142.920908 162.249545 \r\nL 143.225576 212.697273 \r\nL 143.530244 214.756364 \r\nL 143.834912 212.697273 \r\nL 144.139581 212.697273 \r\nL 144.444249 136.510909 \r\nL 144.748917 214.756364 \r\nL 145.053586 213.726818 \r\nL 145.358254 28.408636 \r\nL 145.662922 17.083636 \r\nL 145.967591 211.667727 \r\nL 146.272259 212.697273 \r\nL 146.881596 159.160909 \r\nL 147.186264 176.663182 \r\nL 147.490932 156.072273 \r\nL 147.7956 143.717727 \r\nL 148.100269 17.083636 \r\nL 148.404937 159.160909 \r\nL 148.709605 212.697273 \r\nL 149.014274 190.047273 \r\nL 149.318942 212.697273 \r\nL 149.62361 161.22 \r\nL 149.928279 17.083636 \r\nL 150.232947 212.697273 \r\nL 150.537615 212.697273 \r\nL 150.842283 214.756364 \r\nL 151.146952 187.988182 \r\nL 151.45162 213.726818 \r\nL 151.756288 213.726818 \r\nL 152.060957 178.722273 \r\nL 152.365625 212.697273 \r\nL 152.974962 212.697273 \r\nL 153.27963 213.726818 \r\nL 153.584298 141.658636 \r\nL 153.888967 213.726818 \r\nL 154.193635 212.697273 \r\nL 154.498303 139.599545 \r\nL 154.802971 212.697273 \r\nL 155.10764 212.697273 \r\nL 155.412308 122.097273 \r\nL 155.716976 212.697273 \r\nL 156.021645 90.181364 \r\nL 156.326313 214.756364 \r\nL 156.630981 212.697273 \r\nL 156.93565 212.697273 \r\nL 157.240318 67.531364 \r\nL 157.544986 212.697273 \r\nL 157.849654 17.083636 \r\nL 158.154323 17.083636 \r\nL 158.763659 212.697273 \r\nL 159.068328 212.697273 \r\nL 159.372996 213.726818 \r\nL 159.677664 40.763182 \r\nL 159.982333 212.697273 \r\nL 160.287001 124.156364 \r\nL 160.591669 214.756364 \r\nL 160.896338 108.713182 \r\nL 161.201006 214.756364 \r\nL 161.505674 212.697273 \r\nL 161.810342 156.072273 \r\nL 162.115011 212.697273 \r\nL 162.419679 212.697273 \r\nL 162.724347 154.013182 \r\nL 163.029016 212.697273 \r\nL 163.333684 214.756364 \r\nL 163.638352 147.835909 \r\nL 163.943021 212.697273 \r\nL 164.247689 202.401818 \r\nL 164.552357 202.401818 \r\nL 164.857025 176.663182 \r\nL 165.161694 212.697273 \r\nL 165.466362 212.697273 \r\nL 165.77103 214.756364 \r\nL 166.075699 212.697273 \r\nL 166.685035 135.481364 \r\nL 166.989704 212.697273 \r\nL 167.294372 212.697273 \r\nL 167.59904 195.195 \r\nL 167.903709 212.697273 \r\nL 168.208377 180.781364 \r\nL 168.513045 213.726818 \r\nL 168.817713 172.545 \r\nL 169.122382 212.697273 \r\nL 169.42705 179.751818 \r\nL 169.731718 210.638182 \r\nL 170.036387 105.624545 \r\nL 170.341055 213.726818 \r\nL 170.645723 212.697273 \r\nL 170.950392 115.92 \r\nL 171.25506 138.57 \r\nL 171.559728 213.726818 \r\nL 171.864396 191.076818 \r\nL 172.169065 213.726818 \r\nL 172.778401 213.726818 \r\nL 173.08307 214.756364 \r\nL 173.387738 214.756364 \r\nL 173.692406 213.726818 \r\nL 173.997075 213.726818 \r\nL 174.301743 212.697273 \r\nL 174.606411 212.697273 \r\nL 175.215748 161.22 \r\nL 175.520416 212.697273 \r\nL 175.825084 17.083636 \r\nL 176.129753 159.160909 \r\nL 176.434421 88.122273 \r\nL 177.043758 201.372273 \r\nL 177.348426 163.279091 \r\nL 177.653094 90.181364 \r\nL 177.957763 212.697273 \r\nL 178.262431 213.726818 \r\nL 178.567099 185.929091 \r\nL 178.871768 213.726818 \r\nL 179.176436 212.697273 \r\nL 179.481104 126.215455 \r\nL 179.785772 113.860909 \r\nL 180.395109 212.697273 \r\nL 180.699777 17.083636 \r\nL 181.004446 212.697273 \r\nL 181.309114 164.308636 \r\nL 181.613782 20.172273 \r\nL 181.918451 129.304091 \r\nL 182.223119 185.929091 \r\nL 182.527787 144.747273 \r\nL 182.832455 212.697273 \r\nL 183.441792 126.215455 \r\nL 183.74646 17.083636 \r\nL 184.051129 213.726818 \r\nL 184.355797 155.042727 \r\nL 184.660465 212.697273 \r\nL 184.965134 117.979091 \r\nL 185.269802 200.342727 \r\nL 185.57447 198.283636 \r\nL 185.879139 145.776818 \r\nL 186.183807 212.697273 \r\nL 186.488475 17.083636 \r\nL 186.793143 17.083636 \r\nL 187.097812 212.697273 \r\nL 187.40248 171.515455 \r\nL 187.707148 202.401818 \r\nL 188.011817 212.697273 \r\nL 188.316485 146.806364 \r\nL 188.621153 213.726818 \r\nL 188.925822 186.958636 \r\nL 189.23049 213.726818 \r\nL 189.535158 213.726818 \r\nL 189.839826 172.545 \r\nL 190.144495 192.106364 \r\nL 190.449163 185.929091 \r\nL 190.753831 213.726818 \r\nL 191.0585 214.756364 \r\nL 191.363168 212.697273 \r\nL 191.667836 214.756364 \r\nL 191.972505 212.697273 \r\nL 192.277173 151.954091 \r\nL 192.581841 212.697273 \r\nL 192.88651 186.958636 \r\nL 193.191178 17.083636 \r\nL 193.495846 213.726818 \r\nL 193.800514 212.697273 \r\nL 194.105183 169.456364 \r\nL 194.409851 214.756364 \r\nL 194.714519 17.083636 \r\nL 195.019188 17.083636 \r\nL 195.323856 213.726818 \r\nL 195.628524 196.224545 \r\nL 195.933193 214.756364 \r\nL 196.237861 179.751818 \r\nL 196.542529 212.697273 \r\nL 196.847197 211.667727 \r\nL 197.151866 212.697273 \r\nL 197.456534 194.165455 \r\nL 197.761202 213.726818 \r\nL 198.065871 146.806364 \r\nL 198.370539 213.726818 \r\nL 198.675207 17.083636 \r\nL 198.979876 154.013182 \r\nL 199.284544 191.076818 \r\nL 199.589212 122.097273 \r\nL 200.198549 212.697273 \r\nL 200.503217 202.401818 \r\nL 200.807885 143.717727 \r\nL 201.112554 212.697273 \r\nL 201.417222 214.756364 \r\nL 201.72189 159.160909 \r\nL 202.026559 17.083636 \r\nL 202.331227 213.726818 \r\nL 202.635895 173.574545 \r\nL 202.940564 213.726818 \r\nL 203.245232 17.083636 \r\nL 203.5499 212.697273 \r\nL 203.854568 212.697273 \r\nL 204.159237 214.756364 \r\nL 204.768573 212.697273 \r\nL 205.073242 213.726818 \r\nL 205.37791 167.397273 \r\nL 205.682578 212.697273 \r\nL 205.987247 152.983636 \r\nL 206.291915 213.726818 \r\nL 206.596583 184.899545 \r\nL 206.901252 212.697273 \r\nL 207.20592 212.697273 \r\nL 207.815256 191.076818 \r\nL 208.119925 213.726818 \r\nL 208.424593 166.367727 \r\nL 208.729261 214.756364 \r\nL 209.03393 212.697273 \r\nL 209.338598 213.726818 \r\nL 209.643266 17.083636 \r\nL 209.947935 212.697273 \r\nL 210.252603 213.726818 \r\nL 210.557271 202.401818 \r\nL 210.861939 213.726818 \r\nL 211.166608 150.924545 \r\nL 211.471276 191.076818 \r\nL 211.775944 213.726818 \r\nL 212.080613 148.865455 \r\nL 212.385281 115.92 \r\nL 212.689949 124.156364 \r\nL 212.994618 17.083636 \r\nL 213.908623 17.083636 \r\nL 214.213291 213.726818 \r\nL 214.517959 185.929091 \r\nL 214.822627 17.083636 \r\nL 215.127296 213.726818 \r\nL 215.431964 212.697273 \r\nL 215.736632 17.083636 \r\nL 216.041301 162.249545 \r\nL 216.345969 213.726818 \r\nL 216.650637 163.279091 \r\nL 216.955306 213.726818 \r\nL 217.259974 200.342727 \r\nL 217.564642 212.697273 \r\nL 217.869311 160.190455 \r\nL 218.173979 212.697273 \r\nL 218.478647 85.033636 \r\nL 218.783315 192.106364 \r\nL 219.087984 212.697273 \r\nL 219.392652 144.747273 \r\nL 219.69732 17.083636 \r\nL 220.306657 17.083636 \r\nL 220.611325 169.456364 \r\nL 220.915994 63.413182 \r\nL 221.220662 164.308636 \r\nL 221.52533 103.565455 \r\nL 221.829998 192.106364 \r\nL 222.134667 213.726818 \r\nL 222.439335 162.249545 \r\nL 222.744003 213.726818 \r\nL 223.048672 148.865455 \r\nL 223.35334 213.726818 \r\nL 223.658008 125.185909 \r\nL 223.962677 202.401818 \r\nL 224.267345 214.756364 \r\nL 224.572013 213.726818 \r\nL 224.876682 213.726818 \r\nL 225.18135 154.013182 \r\nL 225.486018 213.726818 \r\nL 225.790686 214.756364 \r\nL 226.095355 97.388182 \r\nL 226.400023 191.076818 \r\nL 226.704691 17.083636 \r\nL 227.00936 50.029091 \r\nL 227.314028 207.549545 \r\nL 227.618696 213.726818 \r\nL 227.923365 139.599545 \r\nL 228.228033 17.083636 \r\nL 228.532701 212.697273 \r\nL 228.837369 17.083636 \r\nL 229.142038 214.756364 \r\nL 229.446706 213.726818 \r\nL 229.751374 159.160909 \r\nL 230.056043 160.190455 \r\nL 230.360711 63.413182 \r\nL 230.665379 214.756364 \r\nL 230.970048 74.738182 \r\nL 231.274716 145.776818 \r\nL 231.884053 213.726818 \r\nL 232.188721 214.756364 \r\nL 232.493389 212.697273 \r\nL 232.798057 17.083636 \r\nL 233.102726 197.254091 \r\nL 233.407394 214.756364 \r\nL 233.712062 212.697273 \r\nL 234.016731 160.190455 \r\nL 234.321399 200.342727 \r\nL 234.626067 213.726818 \r\nL 234.930736 213.726818 \r\nL 235.235404 189.017727 \r\nL 235.540072 212.697273 \r\nL 235.84474 17.083636 \r\nL 236.149409 213.726818 \r\nL 236.454077 84.004091 \r\nL 236.758745 191.076818 \r\nL 237.063414 213.726818 \r\nL 237.368082 155.042727 \r\nL 237.67275 176.663182 \r\nL 237.977419 213.726818 \r\nL 238.282087 151.954091 \r\nL 238.586755 17.083636 \r\nL 238.891424 58.265455 \r\nL 239.196092 210.638182 \r\nL 239.50076 213.726818 \r\nL 239.805428 203.431364 \r\nL 240.110097 212.697273 \r\nL 240.414765 211.667727 \r\nL 240.719433 17.083636 \r\nL 241.024102 213.726818 \r\nL 241.32877 214.756364 \r\nL 241.633438 186.958636 \r\nL 241.938107 17.083636 \r\nL 242.242775 212.697273 \r\nL 242.547443 213.726818 \r\nL 242.852111 175.633636 \r\nL 243.15678 108.713182 \r\nL 243.461448 89.151818 \r\nL 244.070785 212.697273 \r\nL 244.375453 213.726818 \r\nL 244.680121 213.726818 \r\nL 244.98479 150.924545 \r\nL 245.289458 213.726818 \r\nL 245.594126 213.726818 \r\nL 245.898795 182.840455 \r\nL 246.203463 213.726818 \r\nL 246.508131 212.697273 \r\nL 246.812799 213.726818 \r\nL 247.117468 213.726818 \r\nL 247.422136 212.697273 \r\nL 247.726804 212.697273 \r\nL 248.031473 213.726818 \r\nL 248.336141 213.726818 \r\nL 248.640809 186.958636 \r\nL 248.945478 187.988182 \r\nL 249.250146 213.726818 \r\nL 249.554814 214.756364 \r\nL 249.859482 214.756364 \r\nL 250.164151 155.042727 \r\nL 250.468819 177.692727 \r\nL 250.773487 212.697273 \r\nL 251.078156 212.697273 \r\nL 251.382824 213.726818 \r\nL 251.687492 212.697273 \r\nL 251.992161 170.485909 \r\nL 252.296829 213.726818 \r\nL 252.601497 187.988182 \r\nL 252.906166 79.885909 \r\nL 253.515502 213.726818 \r\nL 253.82017 180.781364 \r\nL 254.124839 213.726818 \r\nL 254.429507 110.772273 \r\nL 254.734175 178.722273 \r\nL 255.038844 212.697273 \r\nL 255.343512 213.726818 \r\nL 255.64818 212.697273 \r\nL 255.952849 213.726818 \r\nL 256.257517 17.083636 \r\nL 256.562185 214.756364 \r\nL 256.866854 57.235909 \r\nL 257.171522 111.801818 \r\nL 257.47619 213.726818 \r\nL 257.780858 203.431364 \r\nL 258.085527 147.835909 \r\nL 258.390195 187.988182 \r\nL 258.694863 152.983636 \r\nL 258.999532 214.756364 \r\nL 259.3042 212.697273 \r\nL 259.608868 128.274545 \r\nL 259.913537 214.756364 \r\nL 260.218205 197.254091 \r\nL 260.522873 17.083636 \r\nL 260.827541 89.151818 \r\nL 261.13221 17.083636 \r\nL 261.436878 213.726818 \r\nL 261.741546 213.726818 \r\nL 262.046215 196.224545 \r\nL 262.350883 212.697273 \r\nL 262.655551 212.697273 \r\nL 262.96022 213.726818 \r\nL 263.264888 170.485909 \r\nL 263.874225 212.697273 \r\nL 264.178893 214.756364 \r\nL 264.483561 109.742727 \r\nL 264.788229 213.726818 \r\nL 265.092898 212.697273 \r\nL 265.397566 213.726818 \r\nL 265.702234 177.692727 \r\nL 266.006903 17.083636 \r\nL 266.616239 213.726818 \r\nL 266.920908 211.667727 \r\nL 267.225576 186.958636 \r\nL 267.530244 213.726818 \r\nL 267.834912 170.485909 \r\nL 268.139581 148.865455 \r\nL 268.444249 213.726818 \r\nL 268.748917 190.047273 \r\nL 269.053586 213.726818 \r\nL 269.358254 212.697273 \r\nL 269.662922 214.756364 \r\nL 269.967591 17.083636 \r\nL 270.272259 133.422273 \r\nL 270.576927 166.367727 \r\nL 270.881596 213.726818 \r\nL 271.186264 89.151818 \r\nL 271.490932 169.456364 \r\nL 271.7956 214.756364 \r\nL 272.100269 212.697273 \r\nL 272.404937 212.697273 \r\nL 272.709605 38.704091 \r\nL 273.014274 165.338182 \r\nL 273.318942 212.697273 \r\nL 273.62361 198.283636 \r\nL 273.928279 149.895 \r\nL 274.232947 213.726818 \r\nL 274.537615 81.945 \r\nL 274.842283 172.545 \r\nL 275.146952 17.083636 \r\nL 275.45162 148.865455 \r\nL 275.756288 199.313182 \r\nL 276.060957 86.063182 \r\nL 276.365625 175.633636 \r\nL 276.670293 212.697273 \r\nL 276.974962 213.726818 \r\nL 277.27963 142.688182 \r\nL 277.584298 213.726818 \r\nL 277.888967 212.697273 \r\nL 278.193635 212.697273 \r\nL 278.498303 213.726818 \r\nL 278.802971 212.697273 \r\nL 279.10764 212.697273 \r\nL 279.412308 214.756364 \r\nL 279.716976 213.726818 \r\nL 280.93565 213.726818 \r\nL 281.240318 214.756364 \r\nL 281.544986 212.697273 \r\nL 281.849654 17.083636 \r\nL 282.154323 163.279091 \r\nL 282.458991 109.742727 \r\nL 282.763659 99.447273 \r\nL 283.068328 212.697273 \r\nL 283.372996 213.726818 \r\nL 283.677664 180.781364 \r\nL 283.982333 214.756364 \r\nL 284.287001 212.697273 \r\nL 284.591669 17.083636 \r\nL 284.896338 179.751818 \r\nL 285.201006 212.697273 \r\nL 285.505674 147.835909 \r\nL 285.810342 128.274545 \r\nL 286.115011 212.697273 \r\nL 286.724347 17.083636 \r\nL 287.029016 196.224545 \r\nL 287.333684 148.865455 \r\nL 287.638352 213.726818 \r\nL 287.943021 148.865455 \r\nL 288.247689 214.756364 \r\nL 288.552357 29.438182 \r\nL 288.857025 178.722273 \r\nL 289.161694 212.697273 \r\nL 289.466362 213.726818 \r\nL 290.380367 213.726818 \r\nL 290.685035 176.663182 \r\nL 290.989704 213.726818 \r\nL 291.294372 213.726818 \r\nL 291.59904 168.426818 \r\nL 291.903709 17.083636 \r\nL 292.208377 213.726818 \r\nL 292.513045 68.560909 \r\nL 292.817713 213.726818 \r\nL 293.122382 212.697273 \r\nL 293.42705 175.633636 \r\nL 293.731718 212.697273 \r\nL 294.036387 213.726818 \r\nL 294.341055 152.983636 \r\nL 294.645723 201.372273 \r\nL 294.950392 213.726818 \r\nL 295.25506 212.697273 \r\nL 295.559728 213.726818 \r\nL 295.864396 213.726818 \r\nL 296.169065 167.397273 \r\nL 296.473733 171.515455 \r\nL 296.778401 212.697273 \r\nL 297.08307 145.776818 \r\nL 297.387738 212.697273 \r\nL 297.692406 114.890455 \r\nL 297.997075 213.726818 \r\nL 298.301743 212.697273 \r\nL 298.606411 114.890455 \r\nL 298.91108 212.697273 \r\nL 299.520416 212.697273 \r\nL 299.825084 160.190455 \r\nL 300.129753 213.726818 \r\nL 300.739089 213.726818 \r\nL 301.043758 17.083636 \r\nL 301.348426 213.726818 \r\nL 301.653094 212.697273 \r\nL 301.957763 212.697273 \r\nL 302.262431 138.57 \r\nL 302.567099 214.756364 \r\nL 302.871768 17.083636 \r\nL 303.176436 17.083636 \r\nL 303.481104 212.697273 \r\nL 303.785772 213.726818 \r\nL 304.090441 213.726818 \r\nL 304.395109 214.756364 \r\nL 304.699777 214.756364 \r\nL 305.309114 212.697273 \r\nL 305.613782 127.245 \r\nL 305.918451 213.726818 \r\nL 306.527787 213.726818 \r\nL 306.832455 165.338182 \r\nL 307.137124 213.726818 \r\nL 307.441792 214.756364 \r\nL 307.74646 159.160909 \r\nL 308.051129 213.726818 \r\nL 308.355797 209.608636 \r\nL 308.660465 213.726818 \r\nL 308.965134 213.726818 \r\nL 309.269802 160.190455 \r\nL 309.57447 194.165455 \r\nL 309.879139 214.756364 \r\nL 310.183807 213.726818 \r\nL 310.488475 136.510909 \r\nL 310.793143 212.697273 \r\nL 311.097812 116.949545 \r\nL 311.40248 212.697273 \r\nL 311.707148 213.726818 \r\nL 312.316485 213.726818 \r\nL 312.621153 146.806364 \r\nL 312.925822 17.083636 \r\nL 313.23049 213.726818 \r\nL 314.144495 151.954091 \r\nL 314.449163 214.756364 \r\nL 314.753831 94.299545 \r\nL 315.0585 213.726818 \r\nL 315.363168 137.540455 \r\nL 315.667836 195.195 \r\nL 315.972505 208.579091 \r\nL 316.277173 213.726818 \r\nL 316.581841 17.083636 \r\nL 316.88651 195.195 \r\nL 317.191178 213.726818 \r\nL 317.495846 213.726818 \r\nL 317.800514 159.160909 \r\nL 318.105183 202.401818 \r\nL 318.409851 213.726818 \r\nL 318.714519 139.599545 \r\nL 319.019188 100.476818 \r\nL 319.628524 212.697273 \r\nL 319.933193 162.249545 \r\nL 320.237861 213.726818 \r\nL 321.151866 213.726818 \r\nL 321.456534 17.083636 \r\nL 321.761202 212.697273 \r\nL 322.065871 146.806364 \r\nL 322.370539 214.756364 \r\nL 322.675207 149.895 \r\nL 322.979876 205.490455 \r\nL 323.284544 137.540455 \r\nL 323.893881 192.106364 \r\nL 324.503217 214.756364 \r\nL 324.807885 214.756364 \r\nL 325.112554 165.338182 \r\nL 325.72189 214.756364 \r\nL 326.026559 17.083636 \r\nL 326.331227 213.726818 \r\nL 326.635895 181.810909 \r\nL 326.940564 103.565455 \r\nL 327.245232 211.667727 \r\nL 327.5499 178.722273 \r\nL 327.854568 165.338182 \r\nL 328.159237 212.697273 \r\nL 328.463905 189.017727 \r\nL 329.073242 212.697273 \r\nL 329.682578 212.697273 \r\nL 329.987247 187.988182 \r\nL 330.291915 105.624545 \r\nL 330.596583 157.101818 \r\nL 331.20592 213.726818 \r\nL 331.510588 183.87 \r\nL 331.815256 88.122273 \r\nL 332.119925 212.697273 \r\nL 332.424593 27.379091 \r\nL 332.729261 212.697273 \r\nL 333.03393 98.417727 \r\nL 333.338598 212.697273 \r\nL 333.643266 213.726818 \r\nL 333.947935 143.717727 \r\nL 334.252603 17.083636 \r\nL 334.557271 135.481364 \r\nL 334.861939 195.195 \r\nL 335.166608 129.304091 \r\nL 335.471276 213.726818 \r\nL 335.775944 214.756364 \r\nL 336.080613 214.756364 \r\nL 336.689949 212.697273 \r\nL 336.994618 213.726818 \r\nL 337.299286 64.442727 \r\nL 337.603954 213.726818 \r\nL 337.908623 214.756364 \r\nL 338.213291 212.697273 \r\nL 338.517959 17.083636 \r\nL 338.822627 213.726818 \r\nL 339.127296 74.738182 \r\nL 339.431964 212.697273 \r\nL 339.736632 212.697273 \r\nL 340.041301 191.076818 \r\nL 340.345969 213.726818 \r\nL 340.650637 212.697273 \r\nL 340.955306 212.697273 \r\nL 341.259974 213.726818 \r\nL 341.564642 44.881364 \r\nL 341.869311 212.697273 \r\nL 342.173979 130.333636 \r\nL 342.478647 199.313182 \r\nL 342.783315 187.988182 \r\nL 343.087984 213.726818 \r\nL 343.392652 193.135909 \r\nL 343.69732 186.958636 \r\nL 344.001989 213.726818 \r\nL 344.306657 213.726818 \r\nL 344.611325 182.840455 \r\nL 344.915994 212.697273 \r\nL 345.220662 212.697273 \r\nL 345.52533 213.726818 \r\nL 345.829998 213.726818 \r\nL 346.134667 92.240455 \r\nL 346.439335 212.697273 \r\nL 346.744003 179.751818 \r\nL 347.048672 186.958636 \r\nL 347.35334 214.756364 \r\nL 347.658008 212.697273 \r\nL 348.267345 17.083636 \r\nL 348.572013 68.560909 \r\nL 348.876682 64.442727 \r\nL 349.18135 85.033636 \r\nL 349.790686 214.756364 \r\nL 350.400023 212.697273 \r\nL 350.704691 196.224545 \r\nL 351.00936 212.697273 \r\nL 351.314028 212.697273 \r\nL 351.618696 17.083636 \r\nL 351.923365 214.756364 \r\nL 352.532701 212.697273 \r\nL 352.837369 213.726818 \r\nL 353.446706 213.726818 \r\nL 353.751374 168.426818 \r\nL 354.056043 214.756364 \r\nL 354.360711 212.697273 \r\nL 354.665379 164.308636 \r\nL 354.970048 149.895 \r\nL 355.274716 213.726818 \r\nL 355.579384 212.697273 \r\nL 355.884053 200.342727 \r\nL 356.188721 199.313182 \r\nL 356.493389 212.697273 \r\nL 356.798057 212.697273 \r\nL 357.102726 213.726818 \r\nL 357.407394 212.697273 \r\nL 357.712062 212.697273 \r\nL 358.016731 167.397273 \r\nL 358.321399 212.697273 \r\nL 358.626067 214.756364 \r\nL 358.930736 213.726818 \r\nL 359.235404 17.083636 \r\nL 359.540072 23.260909 \r\nL 359.84474 213.726818 \r\nL 360.149409 169.456364 \r\nL 360.454077 213.726818 \r\nL 360.758745 212.697273 \r\nL 361.063414 17.083636 \r\nL 361.368082 212.697273 \r\nL 361.67275 214.756364 \r\nL 361.977419 214.756364 \r\nL 362.282087 157.101818 \r\nL 362.586755 211.667727 \r\nL 362.891424 214.756364 \r\nL 363.196092 212.697273 \r\nL 363.50076 213.726818 \r\nL 363.805428 105.624545 \r\nL 364.110097 214.756364 \r\nL 364.414765 213.726818 \r\nL 365.024102 213.726818 \r\nL 365.32877 171.515455 \r\nL 365.633438 17.083636 \r\nL 365.938107 157.101818 \r\nL 366.242775 213.726818 \r\nL 366.547443 212.697273 \r\nL 366.547443 212.697273 \r\n\" style=\"fill:none;stroke:#1f77b4;stroke-linecap:square;stroke-width:1.5;\"/>\r\n   </g>\r\n   <g id=\"patch_3\">\r\n    <path d=\"M 46.965625 224.64 \r\nL 46.965625 7.2 \r\n\" style=\"fill:none;stroke:#000000;stroke-linecap:square;stroke-linejoin:miter;stroke-width:0.8;\"/>\r\n   </g>\r\n   <g id=\"patch_4\">\r\n    <path d=\"M 381.765625 224.64 \r\nL 381.765625 7.2 \r\n\" style=\"fill:none;stroke:#000000;stroke-linecap:square;stroke-linejoin:miter;stroke-width:0.8;\"/>\r\n   </g>\r\n   <g id=\"patch_5\">\r\n    <path d=\"M 46.965625 224.64 \r\nL 381.765625 224.64 \r\n\" style=\"fill:none;stroke:#000000;stroke-linecap:square;stroke-linejoin:miter;stroke-width:0.8;\"/>\r\n   </g>\r\n   <g id=\"patch_6\">\r\n    <path d=\"M 46.965625 7.2 \r\nL 381.765625 7.2 \r\n\" style=\"fill:none;stroke:#000000;stroke-linecap:square;stroke-linejoin:miter;stroke-width:0.8;\"/>\r\n   </g>\r\n  </g>\r\n </g>\r\n <defs>\r\n  <clipPath id=\"pabf3db9403\">\r\n   <rect height=\"217.44\" width=\"334.8\" x=\"46.965625\" y=\"7.2\"/>\r\n  </clipPath>\r\n </defs>\r\n</svg>\r\n",
      "image/png": "[encoded data removed]"
     },
     "metadata": {
      "needs_background": "light"
     }
    }
   ],
   "source": [
    "plt.plot(total_rewards)\n",
    "plt.xlabel(\"Iteration\")\n",
    "plt.ylabel(\"Reward\")\n",
    "plt.show()"
   ]
  },
  {
   "source": [
    "## Learner: Hill-Climb/ Gradient Descent\n",
    "Start with a randomly generated weight. Update it after each iteration with randomly generated noise. If updated weight improves reward continue, else keep previous weight for next iteration.\n",
    "Run previous code blocks for initialization."
   ],
   "cell_type": "markdown",
   "metadata": {}
  },
  {
   "cell_type": "code",
   "execution_count": 49,
   "metadata": {},
   "outputs": [
    {
     "output_type": "stream",
     "name": "stdout",
     "text": [
      "Episode: 1 \t Total reward: 33.0\n",
      "Episode: 2 \t Total reward: 49.0\n",
      "Episode: 4 \t Total reward: 54.0\n",
      "Episode: 8 \t Total reward: 59.0\n",
      "Episode: 20 \t Total reward: 44.0\n",
      "Episode: 23 \t Total reward: 77.0\n",
      "Episode: 40 \t Total reward: 27.0\n",
      "Episode: 60 \t Total reward: 45.0\n",
      "Episode: 80 \t Total reward: 29.0\n",
      "Episode: 100 \t Total reward: 32.0\n",
      "Episode: 111 \t Total reward: 81.0\n",
      "Episode: 120 \t Total reward: 28.0\n",
      "Episode: 125 \t Total reward: 89.0\n",
      "Episode: 140 \t Total reward: 47.0\n",
      "Episode: 160 \t Total reward: 38.0\n",
      "Episode: 180 \t Total reward: 38.0\n",
      "Episode: 200 \t Total reward: 30.0\n",
      "Episode: 220 \t Total reward: 48.0\n",
      "Episode: 240 \t Total reward: 29.0\n",
      "Episode: 260 \t Total reward: 39.0\n",
      "Episode: 280 \t Total reward: 43.0\n",
      "Episode: 300 \t Total reward: 27.0\n",
      "Episode: 320 \t Total reward: 50.0\n",
      "Episode: 340 \t Total reward: 30.0\n",
      "Episode: 360 \t Total reward: 37.0\n",
      "Episode: 380 \t Total reward: 33.0\n",
      "Episode: 395 \t Total reward: 109.0\n",
      "Episode: 400 \t Total reward: 39.0\n",
      "Episode: 420 \t Total reward: 46.0\n",
      "Episode: 440 \t Total reward: 45.0\n",
      "Episode: 460 \t Total reward: 37.0\n",
      "Episode: 480 \t Total reward: 27.0\n",
      "Episode: 500 \t Total reward: 45.0\n",
      "Episode: 520 \t Total reward: 44.0\n",
      "Episode: 540 \t Total reward: 48.0\n",
      "Episode: 560 \t Total reward: 32.0\n",
      "Episode: 580 \t Total reward: 50.0\n",
      "Episode: 600 \t Total reward: 36.0\n",
      "Episode: 620 \t Total reward: 35.0\n",
      "Episode: 640 \t Total reward: 34.0\n",
      "Episode: 653 \t Total reward: 126.0\n",
      "Episode: 660 \t Total reward: 42.0\n",
      "Episode: 680 \t Total reward: 41.0\n",
      "Episode: 700 \t Total reward: 44.0\n",
      "Episode: 720 \t Total reward: 29.0\n",
      "Episode: 740 \t Total reward: 36.0\n",
      "Episode: 760 \t Total reward: 28.0\n",
      "Episode: 780 \t Total reward: 44.0\n",
      "Episode: 800 \t Total reward: 38.0\n",
      "Episode: 820 \t Total reward: 44.0\n",
      "Episode: 840 \t Total reward: 37.0\n",
      "Episode: 860 \t Total reward: 33.0\n",
      "Episode: 880 \t Total reward: 27.0\n",
      "Episode: 900 \t Total reward: 36.0\n",
      "Episode: 920 \t Total reward: 36.0\n",
      "Episode: 940 \t Total reward: 32.0\n",
      "Episode: 960 \t Total reward: 31.0\n",
      "Episode: 980 \t Total reward: 44.0\n",
      "Episode: 1000 \t Total reward: 33.0\n"
     ]
    }
   ],
   "source": [
    "num_episodes = 1000\n",
    "best_reward = 0\n",
    "best_weight = torch.rand(num_states, num_actions)              # Change 1\n",
    "total_rewards = []\n",
    "\n",
    "eta = 0.01              # Noise scaling parameter\n",
    "for episode in range(num_episodes):\n",
    "    weight = best_weight + torch.rand(num_states, num_actions) * eta         # Change 2\n",
    "    reward = run_episode(env, weight)\n",
    "    if episode % 20 == 19 or reward > best_reward:\n",
    "        print(f\"Episode: {episode + 1} \\t Total reward: {reward}\")\n",
    "    if reward > best_reward:\n",
    "        best_reward = reward\n",
    "        best_weight = weight\n",
    "    total_rewards.append(reward)\n"
   ]
  },
  {
   "cell_type": "code",
   "execution_count": 50,
   "metadata": {},
   "outputs": [
    {
     "output_type": "stream",
     "name": "stdout",
     "text": [
      "Average reward 1000 iterations: 38.952\n"
     ]
    }
   ],
   "source": [
    "print(f\"Average reward {num_episodes} iterations: {sum(total_rewards) / num_episodes}\")"
   ]
  },
  {
   "source": [
    "Poor performance due to extreme dependence on starting weights. Learning rate has to be made adaptive."
   ],
   "cell_type": "markdown",
   "metadata": {}
  },
  {
   "cell_type": "code",
   "execution_count": 51,
   "metadata": {},
   "outputs": [
    {
     "output_type": "stream",
     "name": "stdout",
     "text": [
      "Episode: 1 \t Total reward: 44.0\n",
      "Episode: 2 \t Total reward: 68.0\n",
      "Episode: 3 \t Total reward: 81.0\n",
      "Episode: 6 \t Total reward: 99.0\n",
      "Episode: 15 \t Total reward: 119.0\n",
      "Episode: 20 \t Total reward: 11.0\n",
      "Episode: 36 \t Total reward: 161.0\n",
      "Episode: 39 \t Total reward: 200.0\n",
      "Episode: 40 \t Total reward: 173.0\n",
      "Episode: 60 \t Total reward: 176.0\n",
      "Episode: 80 \t Total reward: 177.0\n",
      "Episode: 100 \t Total reward: 200.0\n",
      "Episode: 120 \t Total reward: 200.0\n",
      "Episode: 140 \t Total reward: 200.0\n",
      "Episode: 160 \t Total reward: 199.0\n",
      "Episode: 180 \t Total reward: 200.0\n",
      "Episode: 200 \t Total reward: 185.0\n",
      "Episode: 220 \t Total reward: 200.0\n",
      "Episode: 240 \t Total reward: 200.0\n",
      "Episode: 260 \t Total reward: 200.0\n",
      "Episode: 280 \t Total reward: 200.0\n",
      "Episode: 300 \t Total reward: 200.0\n",
      "Episode: 320 \t Total reward: 200.0\n",
      "Episode: 340 \t Total reward: 200.0\n",
      "Episode: 360 \t Total reward: 200.0\n",
      "Episode: 380 \t Total reward: 200.0\n",
      "Episode: 400 \t Total reward: 197.0\n",
      "Episode: 420 \t Total reward: 200.0\n",
      "Episode: 440 \t Total reward: 200.0\n",
      "Episode: 460 \t Total reward: 200.0\n",
      "Episode: 480 \t Total reward: 200.0\n",
      "Episode: 500 \t Total reward: 197.0\n",
      "Episode: 520 \t Total reward: 200.0\n",
      "Episode: 540 \t Total reward: 178.0\n",
      "Episode: 560 \t Total reward: 200.0\n",
      "Episode: 580 \t Total reward: 200.0\n",
      "Episode: 600 \t Total reward: 200.0\n",
      "Episode: 620 \t Total reward: 199.0\n",
      "Episode: 640 \t Total reward: 200.0\n",
      "Episode: 660 \t Total reward: 184.0\n",
      "Episode: 680 \t Total reward: 200.0\n",
      "Episode: 700 \t Total reward: 200.0\n",
      "Episode: 720 \t Total reward: 200.0\n",
      "Episode: 740 \t Total reward: 200.0\n",
      "Episode: 760 \t Total reward: 200.0\n",
      "Episode: 780 \t Total reward: 200.0\n",
      "Episode: 800 \t Total reward: 200.0\n",
      "Episode: 820 \t Total reward: 177.0\n",
      "Episode: 840 \t Total reward: 200.0\n",
      "Episode: 860 \t Total reward: 200.0\n",
      "Episode: 880 \t Total reward: 200.0\n",
      "Episode: 900 \t Total reward: 200.0\n",
      "Episode: 920 \t Total reward: 200.0\n",
      "Episode: 940 \t Total reward: 200.0\n",
      "Episode: 960 \t Total reward: 200.0\n",
      "Episode: 980 \t Total reward: 200.0\n",
      "Episode: 1000 \t Total reward: 200.0\n"
     ]
    }
   ],
   "source": [
    "num_episodes = 1000\n",
    "best_reward = 0\n",
    "best_weight = torch.rand(num_states, num_actions)     \n",
    "total_rewards = []\n",
    "\n",
    "eta = 0.01              # Noise parameter\n",
    "scale = 2              # Noise step parameter\n",
    "for episode in range(num_episodes):\n",
    "    weight = best_weight + torch.rand(num_states, num_actions) * eta         # Change 2\n",
    "    reward = run_episode(env, weight)\n",
    "    if episode % 20 == 19 or reward > best_reward:\n",
    "        print(f\"Episode: {episode + 1} \\t Total reward: {reward}\")\n",
    "    if reward >= best_reward:\n",
    "        best_reward = reward\n",
    "        best_weight = weight\n",
    "        eta = max(eta / scale, 1e-4)\n",
    "    else:\n",
    "        eta = min(eta * scale, scale)\n",
    "    total_rewards.append(reward)\n"
   ]
  },
  {
   "cell_type": "code",
   "execution_count": 52,
   "metadata": {},
   "outputs": [
    {
     "output_type": "stream",
     "name": "stdout",
     "text": [
      "Average reward 1000 iterations: 192.451\n",
      "Average reward, 100 iterations: 198.6\n"
     ]
    }
   ],
   "source": [
    "print(f\"Average reward {num_episodes} iterations: {sum(total_rewards) / num_episodes}\")\n",
    "eval_run(env, best_weight)"
   ]
  },
  {
   "cell_type": "code",
   "execution_count": 53,
   "metadata": {},
   "outputs": [
    {
     "output_type": "display_data",
     "data": {
      "text/plain": "<Figure size 432x288 with 1 Axes>",
      "image/svg+xml": "<?xml version=\"1.0\" encoding=\"utf-8\" standalone=\"no\"?>\r\n<!DOCTYPE svg PUBLIC \"-//W3C//DTD SVG 1.1//EN\"\r\n  \"http://www.w3.org/Graphics/SVG/1.1/DTD/svg11.dtd\">\r\n<svg height=\"262.19625pt\" version=\"1.1\" viewBox=\"0 0 388.965625 262.19625\" width=\"388.965625pt\" xmlns=\"http://www.w3.org/2000/svg\" xmlns:xlink=\"http://www.w3.org/1999/xlink\">\r\n <metadata>\r\n  <rdf:RDF xmlns:cc=\"http://creativecommons.org/ns#\" xmlns:dc=\"http://purl.org/dc/elements/1.1/\" xmlns:rdf=\"http://www.w3.org/1999/02/22-rdf-syntax-ns#\">\r\n   <cc:Work>\r\n    <dc:type rdf:resource=\"http://purl.org/dc/dcmitype/StillImage\"/>\r\n    <dc:date>2021-05-17T01:35:49.548710</dc:date>\r\n    <dc:format>image/svg+xml</dc:format>\r\n    <dc:creator>\r\n     <cc:Agent>\r\n      <dc:title>Matplotlib v3.4.2, https://matplotlib.org/</dc:title>\r\n     </cc:Agent>\r\n    </dc:creator>\r\n   </cc:Work>\r\n  </rdf:RDF>\r\n </metadata>\r\n <defs>\r\n  <style type=\"text/css\">*{stroke-linecap:butt;stroke-linejoin:round;}</style>\r\n </defs>\r\n <g id=\"figure_1\">\r\n  <g id=\"patch_1\">\r\n   <path d=\"M 0 262.19625 \r\nL 388.965625 262.19625 \r\nL 388.965625 0 \r\nL 0 0 \r\nz\r\n\" style=\"fill:none;\"/>\r\n  </g>\r\n  <g id=\"axes_1\">\r\n   <g id=\"patch_2\">\r\n    <path d=\"M 46.965625 224.64 \r\nL 381.765625 224.64 \r\nL 381.765625 7.2 \r\nL 46.965625 7.2 \r\nz\r\n\" style=\"fill:#ffffff;\"/>\r\n   </g>\r\n   <g id=\"matplotlib.axis_1\">\r\n    <g id=\"xtick_1\">\r\n     <g id=\"line2d_1\">\r\n      <defs>\r\n       <path d=\"M 0 0 \r\nL 0 3.5 \r\n\" id=\"m026bfd4875\" style=\"stroke:#000000;stroke-width:0.8;\"/>\r\n      </defs>\r\n      <g>\r\n       <use style=\"stroke:#000000;stroke-width:0.8;\" x=\"62.183807\" xlink:href=\"#m026bfd4875\" y=\"224.64\"/>\r\n      </g>\r\n     </g>\r\n     <g id=\"text_1\">\r\n      <!-- 0 -->\r\n      <g transform=\"translate(59.002557 239.238437)scale(0.1 -0.1)\">\r\n       <defs>\r\n        <path d=\"M 2034 4250 \r\nQ 1547 4250 1301 3770 \r\nQ 1056 3291 1056 2328 \r\nQ 1056 1369 1301 889 \r\nQ 1547 409 2034 409 \r\nQ 2525 409 2770 889 \r\nQ 3016 1369 3016 2328 \r\nQ 3016 3291 2770 3770 \r\nQ 2525 4250 2034 4250 \r\nz\r\nM 2034 4750 \r\nQ 2819 4750 3233 4129 \r\nQ 3647 3509 3647 2328 \r\nQ 3647 1150 3233 529 \r\nQ 2819 -91 2034 -91 \r\nQ 1250 -91 836 529 \r\nQ 422 1150 422 2328 \r\nQ 422 3509 836 4129 \r\nQ 1250 4750 2034 4750 \r\nz\r\n\" id=\"DejaVuSans-30\" transform=\"scale(0.015625)\"/>\r\n       </defs>\r\n       <use xlink:href=\"#DejaVuSans-30\"/>\r\n      </g>\r\n     </g>\r\n    </g>\r\n    <g id=\"xtick_2\">\r\n     <g id=\"line2d_2\">\r\n      <g>\r\n       <use style=\"stroke:#000000;stroke-width:0.8;\" x=\"123.117468\" xlink:href=\"#m026bfd4875\" y=\"224.64\"/>\r\n      </g>\r\n     </g>\r\n     <g id=\"text_2\">\r\n      <!-- 200 -->\r\n      <g transform=\"translate(113.573718 239.238437)scale(0.1 -0.1)\">\r\n       <defs>\r\n        <path d=\"M 1228 531 \r\nL 3431 531 \r\nL 3431 0 \r\nL 469 0 \r\nL 469 531 \r\nQ 828 903 1448 1529 \r\nQ 2069 2156 2228 2338 \r\nQ 2531 2678 2651 2914 \r\nQ 2772 3150 2772 3378 \r\nQ 2772 3750 2511 3984 \r\nQ 2250 4219 1831 4219 \r\nQ 1534 4219 1204 4116 \r\nQ 875 4013 500 3803 \r\nL 500 4441 \r\nQ 881 4594 1212 4672 \r\nQ 1544 4750 1819 4750 \r\nQ 2544 4750 2975 4387 \r\nQ 3406 4025 3406 3419 \r\nQ 3406 3131 3298 2873 \r\nQ 3191 2616 2906 2266 \r\nQ 2828 2175 2409 1742 \r\nQ 1991 1309 1228 531 \r\nz\r\n\" id=\"DejaVuSans-32\" transform=\"scale(0.015625)\"/>\r\n       </defs>\r\n       <use xlink:href=\"#DejaVuSans-32\"/>\r\n       <use x=\"63.623047\" xlink:href=\"#DejaVuSans-30\"/>\r\n       <use x=\"127.246094\" xlink:href=\"#DejaVuSans-30\"/>\r\n      </g>\r\n     </g>\r\n    </g>\r\n    <g id=\"xtick_3\">\r\n     <g id=\"line2d_3\">\r\n      <g>\r\n       <use style=\"stroke:#000000;stroke-width:0.8;\" x=\"184.051129\" xlink:href=\"#m026bfd4875\" y=\"224.64\"/>\r\n      </g>\r\n     </g>\r\n     <g id=\"text_3\">\r\n      <!-- 400 -->\r\n      <g transform=\"translate(174.507379 239.238437)scale(0.1 -0.1)\">\r\n       <defs>\r\n        <path d=\"M 2419 4116 \r\nL 825 1625 \r\nL 2419 1625 \r\nL 2419 4116 \r\nz\r\nM 2253 4666 \r\nL 3047 4666 \r\nL 3047 1625 \r\nL 3713 1625 \r\nL 3713 1100 \r\nL 3047 1100 \r\nL 3047 0 \r\nL 2419 0 \r\nL 2419 1100 \r\nL 313 1100 \r\nL 313 1709 \r\nL 2253 4666 \r\nz\r\n\" id=\"DejaVuSans-34\" transform=\"scale(0.015625)\"/>\r\n       </defs>\r\n       <use xlink:href=\"#DejaVuSans-34\"/>\r\n       <use x=\"63.623047\" xlink:href=\"#DejaVuSans-30\"/>\r\n       <use x=\"127.246094\" xlink:href=\"#DejaVuSans-30\"/>\r\n      </g>\r\n     </g>\r\n    </g>\r\n    <g id=\"xtick_4\">\r\n     <g id=\"line2d_4\">\r\n      <g>\r\n       <use style=\"stroke:#000000;stroke-width:0.8;\" x=\"244.98479\" xlink:href=\"#m026bfd4875\" y=\"224.64\"/>\r\n      </g>\r\n     </g>\r\n     <g id=\"text_4\">\r\n      <!-- 600 -->\r\n      <g transform=\"translate(235.44104 239.238437)scale(0.1 -0.1)\">\r\n       <defs>\r\n        <path d=\"M 2113 2584 \r\nQ 1688 2584 1439 2293 \r\nQ 1191 2003 1191 1497 \r\nQ 1191 994 1439 701 \r\nQ 1688 409 2113 409 \r\nQ 2538 409 2786 701 \r\nQ 3034 994 3034 1497 \r\nQ 3034 2003 2786 2293 \r\nQ 2538 2584 2113 2584 \r\nz\r\nM 3366 4563 \r\nL 3366 3988 \r\nQ 3128 4100 2886 4159 \r\nQ 2644 4219 2406 4219 \r\nQ 1781 4219 1451 3797 \r\nQ 1122 3375 1075 2522 \r\nQ 1259 2794 1537 2939 \r\nQ 1816 3084 2150 3084 \r\nQ 2853 3084 3261 2657 \r\nQ 3669 2231 3669 1497 \r\nQ 3669 778 3244 343 \r\nQ 2819 -91 2113 -91 \r\nQ 1303 -91 875 529 \r\nQ 447 1150 447 2328 \r\nQ 447 3434 972 4092 \r\nQ 1497 4750 2381 4750 \r\nQ 2619 4750 2861 4703 \r\nQ 3103 4656 3366 4563 \r\nz\r\n\" id=\"DejaVuSans-36\" transform=\"scale(0.015625)\"/>\r\n       </defs>\r\n       <use xlink:href=\"#DejaVuSans-36\"/>\r\n       <use x=\"63.623047\" xlink:href=\"#DejaVuSans-30\"/>\r\n       <use x=\"127.246094\" xlink:href=\"#DejaVuSans-30\"/>\r\n      </g>\r\n     </g>\r\n    </g>\r\n    <g id=\"xtick_5\">\r\n     <g id=\"line2d_5\">\r\n      <g>\r\n       <use style=\"stroke:#000000;stroke-width:0.8;\" x=\"305.918451\" xlink:href=\"#m026bfd4875\" y=\"224.64\"/>\r\n      </g>\r\n     </g>\r\n     <g id=\"text_5\">\r\n      <!-- 800 -->\r\n      <g transform=\"translate(296.374701 239.238437)scale(0.1 -0.1)\">\r\n       <defs>\r\n        <path d=\"M 2034 2216 \r\nQ 1584 2216 1326 1975 \r\nQ 1069 1734 1069 1313 \r\nQ 1069 891 1326 650 \r\nQ 1584 409 2034 409 \r\nQ 2484 409 2743 651 \r\nQ 3003 894 3003 1313 \r\nQ 3003 1734 2745 1975 \r\nQ 2488 2216 2034 2216 \r\nz\r\nM 1403 2484 \r\nQ 997 2584 770 2862 \r\nQ 544 3141 544 3541 \r\nQ 544 4100 942 4425 \r\nQ 1341 4750 2034 4750 \r\nQ 2731 4750 3128 4425 \r\nQ 3525 4100 3525 3541 \r\nQ 3525 3141 3298 2862 \r\nQ 3072 2584 2669 2484 \r\nQ 3125 2378 3379 2068 \r\nQ 3634 1759 3634 1313 \r\nQ 3634 634 3220 271 \r\nQ 2806 -91 2034 -91 \r\nQ 1263 -91 848 271 \r\nQ 434 634 434 1313 \r\nQ 434 1759 690 2068 \r\nQ 947 2378 1403 2484 \r\nz\r\nM 1172 3481 \r\nQ 1172 3119 1398 2916 \r\nQ 1625 2713 2034 2713 \r\nQ 2441 2713 2670 2916 \r\nQ 2900 3119 2900 3481 \r\nQ 2900 3844 2670 4047 \r\nQ 2441 4250 2034 4250 \r\nQ 1625 4250 1398 4047 \r\nQ 1172 3844 1172 3481 \r\nz\r\n\" id=\"DejaVuSans-38\" transform=\"scale(0.015625)\"/>\r\n       </defs>\r\n       <use xlink:href=\"#DejaVuSans-38\"/>\r\n       <use x=\"63.623047\" xlink:href=\"#DejaVuSans-30\"/>\r\n       <use x=\"127.246094\" xlink:href=\"#DejaVuSans-30\"/>\r\n      </g>\r\n     </g>\r\n    </g>\r\n    <g id=\"xtick_6\">\r\n     <g id=\"line2d_6\">\r\n      <g>\r\n       <use style=\"stroke:#000000;stroke-width:0.8;\" x=\"366.852111\" xlink:href=\"#m026bfd4875\" y=\"224.64\"/>\r\n      </g>\r\n     </g>\r\n     <g id=\"text_6\">\r\n      <!-- 1000 -->\r\n      <g transform=\"translate(354.127111 239.238437)scale(0.1 -0.1)\">\r\n       <defs>\r\n        <path d=\"M 794 531 \r\nL 1825 531 \r\nL 1825 4091 \r\nL 703 3866 \r\nL 703 4441 \r\nL 1819 4666 \r\nL 2450 4666 \r\nL 2450 531 \r\nL 3481 531 \r\nL 3481 0 \r\nL 794 0 \r\nL 794 531 \r\nz\r\n\" id=\"DejaVuSans-31\" transform=\"scale(0.015625)\"/>\r\n       </defs>\r\n       <use xlink:href=\"#DejaVuSans-31\"/>\r\n       <use x=\"63.623047\" xlink:href=\"#DejaVuSans-30\"/>\r\n       <use x=\"127.246094\" xlink:href=\"#DejaVuSans-30\"/>\r\n       <use x=\"190.869141\" xlink:href=\"#DejaVuSans-30\"/>\r\n      </g>\r\n     </g>\r\n    </g>\r\n    <g id=\"text_7\">\r\n     <!-- Iteration -->\r\n     <g transform=\"translate(193.157031 252.916562)scale(0.1 -0.1)\">\r\n      <defs>\r\n       <path d=\"M 628 4666 \r\nL 1259 4666 \r\nL 1259 0 \r\nL 628 0 \r\nL 628 4666 \r\nz\r\n\" id=\"DejaVuSans-49\" transform=\"scale(0.015625)\"/>\r\n       <path d=\"M 1172 4494 \r\nL 1172 3500 \r\nL 2356 3500 \r\nL 2356 3053 \r\nL 1172 3053 \r\nL 1172 1153 \r\nQ 1172 725 1289 603 \r\nQ 1406 481 1766 481 \r\nL 2356 481 \r\nL 2356 0 \r\nL 1766 0 \r\nQ 1100 0 847 248 \r\nQ 594 497 594 1153 \r\nL 594 3053 \r\nL 172 3053 \r\nL 172 3500 \r\nL 594 3500 \r\nL 594 4494 \r\nL 1172 4494 \r\nz\r\n\" id=\"DejaVuSans-74\" transform=\"scale(0.015625)\"/>\r\n       <path d=\"M 3597 1894 \r\nL 3597 1613 \r\nL 953 1613 \r\nQ 991 1019 1311 708 \r\nQ 1631 397 2203 397 \r\nQ 2534 397 2845 478 \r\nQ 3156 559 3463 722 \r\nL 3463 178 \r\nQ 3153 47 2828 -22 \r\nQ 2503 -91 2169 -91 \r\nQ 1331 -91 842 396 \r\nQ 353 884 353 1716 \r\nQ 353 2575 817 3079 \r\nQ 1281 3584 2069 3584 \r\nQ 2775 3584 3186 3129 \r\nQ 3597 2675 3597 1894 \r\nz\r\nM 3022 2063 \r\nQ 3016 2534 2758 2815 \r\nQ 2500 3097 2075 3097 \r\nQ 1594 3097 1305 2825 \r\nQ 1016 2553 972 2059 \r\nL 3022 2063 \r\nz\r\n\" id=\"DejaVuSans-65\" transform=\"scale(0.015625)\"/>\r\n       <path d=\"M 2631 2963 \r\nQ 2534 3019 2420 3045 \r\nQ 2306 3072 2169 3072 \r\nQ 1681 3072 1420 2755 \r\nQ 1159 2438 1159 1844 \r\nL 1159 0 \r\nL 581 0 \r\nL 581 3500 \r\nL 1159 3500 \r\nL 1159 2956 \r\nQ 1341 3275 1631 3429 \r\nQ 1922 3584 2338 3584 \r\nQ 2397 3584 2469 3576 \r\nQ 2541 3569 2628 3553 \r\nL 2631 2963 \r\nz\r\n\" id=\"DejaVuSans-72\" transform=\"scale(0.015625)\"/>\r\n       <path d=\"M 2194 1759 \r\nQ 1497 1759 1228 1600 \r\nQ 959 1441 959 1056 \r\nQ 959 750 1161 570 \r\nQ 1363 391 1709 391 \r\nQ 2188 391 2477 730 \r\nQ 2766 1069 2766 1631 \r\nL 2766 1759 \r\nL 2194 1759 \r\nz\r\nM 3341 1997 \r\nL 3341 0 \r\nL 2766 0 \r\nL 2766 531 \r\nQ 2569 213 2275 61 \r\nQ 1981 -91 1556 -91 \r\nQ 1019 -91 701 211 \r\nQ 384 513 384 1019 \r\nQ 384 1609 779 1909 \r\nQ 1175 2209 1959 2209 \r\nL 2766 2209 \r\nL 2766 2266 \r\nQ 2766 2663 2505 2880 \r\nQ 2244 3097 1772 3097 \r\nQ 1472 3097 1187 3025 \r\nQ 903 2953 641 2809 \r\nL 641 3341 \r\nQ 956 3463 1253 3523 \r\nQ 1550 3584 1831 3584 \r\nQ 2591 3584 2966 3190 \r\nQ 3341 2797 3341 1997 \r\nz\r\n\" id=\"DejaVuSans-61\" transform=\"scale(0.015625)\"/>\r\n       <path d=\"M 603 3500 \r\nL 1178 3500 \r\nL 1178 0 \r\nL 603 0 \r\nL 603 3500 \r\nz\r\nM 603 4863 \r\nL 1178 4863 \r\nL 1178 4134 \r\nL 603 4134 \r\nL 603 4863 \r\nz\r\n\" id=\"DejaVuSans-69\" transform=\"scale(0.015625)\"/>\r\n       <path d=\"M 1959 3097 \r\nQ 1497 3097 1228 2736 \r\nQ 959 2375 959 1747 \r\nQ 959 1119 1226 758 \r\nQ 1494 397 1959 397 \r\nQ 2419 397 2687 759 \r\nQ 2956 1122 2956 1747 \r\nQ 2956 2369 2687 2733 \r\nQ 2419 3097 1959 3097 \r\nz\r\nM 1959 3584 \r\nQ 2709 3584 3137 3096 \r\nQ 3566 2609 3566 1747 \r\nQ 3566 888 3137 398 \r\nQ 2709 -91 1959 -91 \r\nQ 1206 -91 779 398 \r\nQ 353 888 353 1747 \r\nQ 353 2609 779 3096 \r\nQ 1206 3584 1959 3584 \r\nz\r\n\" id=\"DejaVuSans-6f\" transform=\"scale(0.015625)\"/>\r\n       <path d=\"M 3513 2113 \r\nL 3513 0 \r\nL 2938 0 \r\nL 2938 2094 \r\nQ 2938 2591 2744 2837 \r\nQ 2550 3084 2163 3084 \r\nQ 1697 3084 1428 2787 \r\nQ 1159 2491 1159 1978 \r\nL 1159 0 \r\nL 581 0 \r\nL 581 3500 \r\nL 1159 3500 \r\nL 1159 2956 \r\nQ 1366 3272 1645 3428 \r\nQ 1925 3584 2291 3584 \r\nQ 2894 3584 3203 3211 \r\nQ 3513 2838 3513 2113 \r\nz\r\n\" id=\"DejaVuSans-6e\" transform=\"scale(0.015625)\"/>\r\n      </defs>\r\n      <use xlink:href=\"#DejaVuSans-49\"/>\r\n      <use x=\"29.492188\" xlink:href=\"#DejaVuSans-74\"/>\r\n      <use x=\"68.701172\" xlink:href=\"#DejaVuSans-65\"/>\r\n      <use x=\"130.224609\" xlink:href=\"#DejaVuSans-72\"/>\r\n      <use x=\"171.337891\" xlink:href=\"#DejaVuSans-61\"/>\r\n      <use x=\"232.617188\" xlink:href=\"#DejaVuSans-74\"/>\r\n      <use x=\"271.826172\" xlink:href=\"#DejaVuSans-69\"/>\r\n      <use x=\"299.609375\" xlink:href=\"#DejaVuSans-6f\"/>\r\n      <use x=\"360.791016\" xlink:href=\"#DejaVuSans-6e\"/>\r\n     </g>\r\n    </g>\r\n   </g>\r\n   <g id=\"matplotlib.axis_2\">\r\n    <g id=\"ytick_1\">\r\n     <g id=\"line2d_7\">\r\n      <defs>\r\n       <path d=\"M 0 0 \r\nL -3.5 0 \r\n\" id=\"m679679b10d\" style=\"stroke:#000000;stroke-width:0.8;\"/>\r\n      </defs>\r\n      <g>\r\n       <use style=\"stroke:#000000;stroke-width:0.8;\" x=\"46.965625\" xlink:href=\"#m679679b10d\" y=\"222.992727\"/>\r\n      </g>\r\n     </g>\r\n     <g id=\"text_8\">\r\n      <!-- 0 -->\r\n      <g transform=\"translate(33.603125 226.791946)scale(0.1 -0.1)\">\r\n       <use xlink:href=\"#DejaVuSans-30\"/>\r\n      </g>\r\n     </g>\r\n    </g>\r\n    <g id=\"ytick_2\">\r\n     <g id=\"line2d_8\">\r\n      <g>\r\n       <use style=\"stroke:#000000;stroke-width:0.8;\" x=\"46.965625\" xlink:href=\"#m679679b10d\" y=\"197.254091\"/>\r\n      </g>\r\n     </g>\r\n     <g id=\"text_9\">\r\n      <!-- 25 -->\r\n      <g transform=\"translate(27.240625 201.05331)scale(0.1 -0.1)\">\r\n       <defs>\r\n        <path d=\"M 691 4666 \r\nL 3169 4666 \r\nL 3169 4134 \r\nL 1269 4134 \r\nL 1269 2991 \r\nQ 1406 3038 1543 3061 \r\nQ 1681 3084 1819 3084 \r\nQ 2600 3084 3056 2656 \r\nQ 3513 2228 3513 1497 \r\nQ 3513 744 3044 326 \r\nQ 2575 -91 1722 -91 \r\nQ 1428 -91 1123 -41 \r\nQ 819 9 494 109 \r\nL 494 744 \r\nQ 775 591 1075 516 \r\nQ 1375 441 1709 441 \r\nQ 2250 441 2565 725 \r\nQ 2881 1009 2881 1497 \r\nQ 2881 1984 2565 2268 \r\nQ 2250 2553 1709 2553 \r\nQ 1456 2553 1204 2497 \r\nQ 953 2441 691 2322 \r\nL 691 4666 \r\nz\r\n\" id=\"DejaVuSans-35\" transform=\"scale(0.015625)\"/>\r\n       </defs>\r\n       <use xlink:href=\"#DejaVuSans-32\"/>\r\n       <use x=\"63.623047\" xlink:href=\"#DejaVuSans-35\"/>\r\n      </g>\r\n     </g>\r\n    </g>\r\n    <g id=\"ytick_3\">\r\n     <g id=\"line2d_9\">\r\n      <g>\r\n       <use style=\"stroke:#000000;stroke-width:0.8;\" x=\"46.965625\" xlink:href=\"#m679679b10d\" y=\"171.515455\"/>\r\n      </g>\r\n     </g>\r\n     <g id=\"text_10\">\r\n      <!-- 50 -->\r\n      <g transform=\"translate(27.240625 175.314673)scale(0.1 -0.1)\">\r\n       <use xlink:href=\"#DejaVuSans-35\"/>\r\n       <use x=\"63.623047\" xlink:href=\"#DejaVuSans-30\"/>\r\n      </g>\r\n     </g>\r\n    </g>\r\n    <g id=\"ytick_4\">\r\n     <g id=\"line2d_10\">\r\n      <g>\r\n       <use style=\"stroke:#000000;stroke-width:0.8;\" x=\"46.965625\" xlink:href=\"#m679679b10d\" y=\"145.776818\"/>\r\n      </g>\r\n     </g>\r\n     <g id=\"text_11\">\r\n      <!-- 75 -->\r\n      <g transform=\"translate(27.240625 149.576037)scale(0.1 -0.1)\">\r\n       <defs>\r\n        <path d=\"M 525 4666 \r\nL 3525 4666 \r\nL 3525 4397 \r\nL 1831 0 \r\nL 1172 0 \r\nL 2766 4134 \r\nL 525 4134 \r\nL 525 4666 \r\nz\r\n\" id=\"DejaVuSans-37\" transform=\"scale(0.015625)\"/>\r\n       </defs>\r\n       <use xlink:href=\"#DejaVuSans-37\"/>\r\n       <use x=\"63.623047\" xlink:href=\"#DejaVuSans-35\"/>\r\n      </g>\r\n     </g>\r\n    </g>\r\n    <g id=\"ytick_5\">\r\n     <g id=\"line2d_11\">\r\n      <g>\r\n       <use style=\"stroke:#000000;stroke-width:0.8;\" x=\"46.965625\" xlink:href=\"#m679679b10d\" y=\"120.038182\"/>\r\n      </g>\r\n     </g>\r\n     <g id=\"text_12\">\r\n      <!-- 100 -->\r\n      <g transform=\"translate(20.878125 123.837401)scale(0.1 -0.1)\">\r\n       <use xlink:href=\"#DejaVuSans-31\"/>\r\n       <use x=\"63.623047\" xlink:href=\"#DejaVuSans-30\"/>\r\n       <use x=\"127.246094\" xlink:href=\"#DejaVuSans-30\"/>\r\n      </g>\r\n     </g>\r\n    </g>\r\n    <g id=\"ytick_6\">\r\n     <g id=\"line2d_12\">\r\n      <g>\r\n       <use style=\"stroke:#000000;stroke-width:0.8;\" x=\"46.965625\" xlink:href=\"#m679679b10d\" y=\"94.299545\"/>\r\n      </g>\r\n     </g>\r\n     <g id=\"text_13\">\r\n      <!-- 125 -->\r\n      <g transform=\"translate(20.878125 98.098764)scale(0.1 -0.1)\">\r\n       <use xlink:href=\"#DejaVuSans-31\"/>\r\n       <use x=\"63.623047\" xlink:href=\"#DejaVuSans-32\"/>\r\n       <use x=\"127.246094\" xlink:href=\"#DejaVuSans-35\"/>\r\n      </g>\r\n     </g>\r\n    </g>\r\n    <g id=\"ytick_7\">\r\n     <g id=\"line2d_13\">\r\n      <g>\r\n       <use style=\"stroke:#000000;stroke-width:0.8;\" x=\"46.965625\" xlink:href=\"#m679679b10d\" y=\"68.560909\"/>\r\n      </g>\r\n     </g>\r\n     <g id=\"text_14\">\r\n      <!-- 150 -->\r\n      <g transform=\"translate(20.878125 72.360128)scale(0.1 -0.1)\">\r\n       <use xlink:href=\"#DejaVuSans-31\"/>\r\n       <use x=\"63.623047\" xlink:href=\"#DejaVuSans-35\"/>\r\n       <use x=\"127.246094\" xlink:href=\"#DejaVuSans-30\"/>\r\n      </g>\r\n     </g>\r\n    </g>\r\n    <g id=\"ytick_8\">\r\n     <g id=\"line2d_14\">\r\n      <g>\r\n       <use style=\"stroke:#000000;stroke-width:0.8;\" x=\"46.965625\" xlink:href=\"#m679679b10d\" y=\"42.822273\"/>\r\n      </g>\r\n     </g>\r\n     <g id=\"text_15\">\r\n      <!-- 175 -->\r\n      <g transform=\"translate(20.878125 46.621491)scale(0.1 -0.1)\">\r\n       <use xlink:href=\"#DejaVuSans-31\"/>\r\n       <use x=\"63.623047\" xlink:href=\"#DejaVuSans-37\"/>\r\n       <use x=\"127.246094\" xlink:href=\"#DejaVuSans-35\"/>\r\n      </g>\r\n     </g>\r\n    </g>\r\n    <g id=\"ytick_9\">\r\n     <g id=\"line2d_15\">\r\n      <g>\r\n       <use style=\"stroke:#000000;stroke-width:0.8;\" x=\"46.965625\" xlink:href=\"#m679679b10d\" y=\"17.083636\"/>\r\n      </g>\r\n     </g>\r\n     <g id=\"text_16\">\r\n      <!-- 200 -->\r\n      <g transform=\"translate(20.878125 20.882855)scale(0.1 -0.1)\">\r\n       <use xlink:href=\"#DejaVuSans-32\"/>\r\n       <use x=\"63.623047\" xlink:href=\"#DejaVuSans-30\"/>\r\n       <use x=\"127.246094\" xlink:href=\"#DejaVuSans-30\"/>\r\n      </g>\r\n     </g>\r\n    </g>\r\n    <g id=\"text_17\">\r\n     <!-- Reward -->\r\n     <g transform=\"translate(14.798438 134.541094)rotate(-90)scale(0.1 -0.1)\">\r\n      <defs>\r\n       <path d=\"M 2841 2188 \r\nQ 3044 2119 3236 1894 \r\nQ 3428 1669 3622 1275 \r\nL 4263 0 \r\nL 3584 0 \r\nL 2988 1197 \r\nQ 2756 1666 2539 1819 \r\nQ 2322 1972 1947 1972 \r\nL 1259 1972 \r\nL 1259 0 \r\nL 628 0 \r\nL 628 4666 \r\nL 2053 4666 \r\nQ 2853 4666 3247 4331 \r\nQ 3641 3997 3641 3322 \r\nQ 3641 2881 3436 2590 \r\nQ 3231 2300 2841 2188 \r\nz\r\nM 1259 4147 \r\nL 1259 2491 \r\nL 2053 2491 \r\nQ 2509 2491 2742 2702 \r\nQ 2975 2913 2975 3322 \r\nQ 2975 3731 2742 3939 \r\nQ 2509 4147 2053 4147 \r\nL 1259 4147 \r\nz\r\n\" id=\"DejaVuSans-52\" transform=\"scale(0.015625)\"/>\r\n       <path d=\"M 269 3500 \r\nL 844 3500 \r\nL 1563 769 \r\nL 2278 3500 \r\nL 2956 3500 \r\nL 3675 769 \r\nL 4391 3500 \r\nL 4966 3500 \r\nL 4050 0 \r\nL 3372 0 \r\nL 2619 2869 \r\nL 1863 0 \r\nL 1184 0 \r\nL 269 3500 \r\nz\r\n\" id=\"DejaVuSans-77\" transform=\"scale(0.015625)\"/>\r\n       <path d=\"M 2906 2969 \r\nL 2906 4863 \r\nL 3481 4863 \r\nL 3481 0 \r\nL 2906 0 \r\nL 2906 525 \r\nQ 2725 213 2448 61 \r\nQ 2172 -91 1784 -91 \r\nQ 1150 -91 751 415 \r\nQ 353 922 353 1747 \r\nQ 353 2572 751 3078 \r\nQ 1150 3584 1784 3584 \r\nQ 2172 3584 2448 3432 \r\nQ 2725 3281 2906 2969 \r\nz\r\nM 947 1747 \r\nQ 947 1113 1208 752 \r\nQ 1469 391 1925 391 \r\nQ 2381 391 2643 752 \r\nQ 2906 1113 2906 1747 \r\nQ 2906 2381 2643 2742 \r\nQ 2381 3103 1925 3103 \r\nQ 1469 3103 1208 2742 \r\nQ 947 2381 947 1747 \r\nz\r\n\" id=\"DejaVuSans-64\" transform=\"scale(0.015625)\"/>\r\n      </defs>\r\n      <use xlink:href=\"#DejaVuSans-52\"/>\r\n      <use x=\"64.982422\" xlink:href=\"#DejaVuSans-65\"/>\r\n      <use x=\"126.505859\" xlink:href=\"#DejaVuSans-77\"/>\r\n      <use x=\"208.292969\" xlink:href=\"#DejaVuSans-61\"/>\r\n      <use x=\"269.572266\" xlink:href=\"#DejaVuSans-72\"/>\r\n      <use x=\"308.935547\" xlink:href=\"#DejaVuSans-64\"/>\r\n     </g>\r\n    </g>\r\n   </g>\r\n   <g id=\"line2d_16\">\r\n    <path clip-path=\"url(#pb5d4089969)\" d=\"M 62.183807 177.692727 \r\nL 62.488475 152.983636 \r\nL 62.793143 139.599545 \r\nL 63.097812 164.308636 \r\nL 63.40248 175.633636 \r\nL 63.707148 121.067727 \r\nL 64.011817 168.426818 \r\nL 64.316485 171.515455 \r\nL 64.621153 181.810909 \r\nL 64.925822 133.422273 \r\nL 65.535158 161.22 \r\nL 66.144495 149.895 \r\nL 66.449163 100.476818 \r\nL 66.753831 213.726818 \r\nL 67.0585 145.776818 \r\nL 67.363168 213.726818 \r\nL 67.667836 196.224545 \r\nL 67.972505 211.667727 \r\nL 68.277173 185.929091 \r\nL 68.581841 213.726818 \r\nL 68.88651 136.510909 \r\nL 69.191178 212.697273 \r\nL 69.495846 214.756364 \r\nL 69.800514 193.135909 \r\nL 70.105183 213.726818 \r\nL 70.409851 214.756364 \r\nL 70.714519 152.983636 \r\nL 71.019188 213.726818 \r\nL 71.323856 212.697273 \r\nL 71.628524 213.726818 \r\nL 71.933193 113.860909 \r\nL 72.542529 185.929091 \r\nL 72.847197 57.235909 \r\nL 73.151866 90.181364 \r\nL 73.456534 96.358636 \r\nL 73.761202 17.083636 \r\nL 74.065871 44.881364 \r\nL 74.370539 17.083636 \r\nL 75.589212 17.083636 \r\nL 75.893881 25.32 \r\nL 76.198549 17.083636 \r\nL 79.245232 17.083636 \r\nL 79.5499 28.408636 \r\nL 79.854568 17.083636 \r\nL 80.159237 41.792727 \r\nL 80.463905 17.083636 \r\nL 81.073242 17.083636 \r\nL 81.682578 33.556364 \r\nL 81.987247 17.083636 \r\nL 85.947935 17.083636 \r\nL 86.252603 40.763182 \r\nL 86.557271 17.083636 \r\nL 89.908623 17.083636 \r\nL 90.213291 30.467727 \r\nL 90.517959 17.083636 \r\nL 93.564642 17.083636 \r\nL 93.869311 22.231364 \r\nL 94.173979 17.083636 \r\nL 94.478647 17.083636 \r\nL 94.783315 18.113182 \r\nL 95.087984 17.083636 \r\nL 96.001989 17.083636 \r\nL 96.306657 18.113182 \r\nL 96.611325 17.083636 \r\nL 96.915994 17.083636 \r\nL 97.220662 33.556364 \r\nL 97.52533 17.083636 \r\nL 99.048672 17.083636 \r\nL 99.658008 38.704091 \r\nL 99.962677 28.408636 \r\nL 100.267345 34.585909 \r\nL 100.572013 17.083636 \r\nL 102.095355 17.083636 \r\nL 102.400023 23.260909 \r\nL 102.704691 17.083636 \r\nL 103.00936 32.526818 \r\nL 103.314028 17.083636 \r\nL 104.837369 17.083636 \r\nL 105.142038 40.763182 \r\nL 105.446706 17.083636 \r\nL 108.493389 17.083636 \r\nL 108.798057 31.497273 \r\nL 109.102726 17.083636 \r\nL 110.321399 17.083636 \r\nL 110.626067 18.113182 \r\nL 110.930736 17.083636 \r\nL 113.67275 17.083636 \r\nL 113.977419 21.201818 \r\nL 114.282087 17.083636 \r\nL 115.50076 17.083636 \r\nL 115.805428 41.792727 \r\nL 116.110097 17.083636 \r\nL 117.938107 17.083636 \r\nL 118.242775 23.260909 \r\nL 118.547443 17.083636 \r\nL 122.508131 17.083636 \r\nL 122.812799 32.526818 \r\nL 123.117468 17.083636 \r\nL 124.031473 17.083636 \r\nL 124.336141 38.704091 \r\nL 124.640809 17.083636 \r\nL 124.945478 31.497273 \r\nL 125.250146 17.083636 \r\nL 125.859482 17.083636 \r\nL 126.164151 24.290455 \r\nL 126.468819 17.083636 \r\nL 127.078156 17.083636 \r\nL 127.382824 38.704091 \r\nL 127.687492 17.083636 \r\nL 130.429507 17.083636 \r\nL 130.734175 23.260909 \r\nL 131.038844 17.083636 \r\nL 131.64818 17.083636 \r\nL 131.952849 33.556364 \r\nL 132.257517 17.083636 \r\nL 133.47619 17.083636 \r\nL 133.780858 36.645 \r\nL 134.085527 17.083636 \r\nL 136.827541 17.083636 \r\nL 137.13221 26.349545 \r\nL 137.436878 17.083636 \r\nL 138.046215 17.083636 \r\nL 138.350883 31.497273 \r\nL 138.655551 17.083636 \r\nL 139.569556 17.083636 \r\nL 139.874225 23.260909 \r\nL 140.178893 17.083636 \r\nL 141.092898 17.083636 \r\nL 141.397566 41.792727 \r\nL 141.702234 17.083636 \r\nL 142.616239 17.083636 \r\nL 142.920908 36.645 \r\nL 143.225576 17.083636 \r\nL 143.834912 17.083636 \r\nL 144.139581 38.704091 \r\nL 144.444249 17.083636 \r\nL 145.358254 17.083636 \r\nL 145.662922 25.32 \r\nL 145.967591 17.083636 \r\nL 146.272259 38.704091 \r\nL 146.576927 17.083636 \r\nL 150.232947 17.083636 \r\nL 150.537615 34.585909 \r\nL 150.842283 17.083636 \r\nL 152.670293 17.083636 \r\nL 152.974962 34.585909 \r\nL 153.27963 17.083636 \r\nL 160.896338 17.083636 \r\nL 161.201006 29.438182 \r\nL 161.505674 17.083636 \r\nL 162.115011 17.083636 \r\nL 162.419679 26.349545 \r\nL 162.724347 17.083636 \r\nL 163.029016 40.763182 \r\nL 163.333684 17.083636 \r\nL 163.638352 34.585909 \r\nL 163.943021 17.083636 \r\nL 164.552357 17.083636 \r\nL 164.857025 23.260909 \r\nL 165.161694 17.083636 \r\nL 166.380367 17.083636 \r\nL 166.685035 37.674545 \r\nL 166.989704 40.763182 \r\nL 167.294372 17.083636 \r\nL 167.59904 45.910909 \r\nL 167.903709 17.083636 \r\nL 168.208377 37.674545 \r\nL 168.513045 17.083636 \r\nL 169.731718 17.083636 \r\nL 170.036387 32.526818 \r\nL 170.341055 17.083636 \r\nL 170.645723 17.083636 \r\nL 170.950392 23.260909 \r\nL 171.559728 17.083636 \r\nL 171.864396 22.231364 \r\nL 172.169065 17.083636 \r\nL 174.301743 17.083636 \r\nL 174.606411 22.231364 \r\nL 174.91108 17.083636 \r\nL 176.434421 17.083636 \r\nL 176.739089 20.172273 \r\nL 177.043758 17.083636 \r\nL 179.785772 17.083636 \r\nL 180.090441 27.379091 \r\nL 180.395109 17.083636 \r\nL 183.441792 17.083636 \r\nL 183.74646 20.172273 \r\nL 184.051129 17.083636 \r\nL 184.660465 17.083636 \r\nL 184.965134 26.349545 \r\nL 185.269802 17.083636 \r\nL 187.097812 17.083636 \r\nL 187.40248 36.645 \r\nL 187.707148 19.142727 \r\nL 188.011817 35.615455 \r\nL 188.316485 17.083636 \r\nL 189.23049 17.083636 \r\nL 189.535158 24.290455 \r\nL 189.839826 17.083636 \r\nL 194.714519 17.083636 \r\nL 195.019188 19.142727 \r\nL 195.323856 45.910909 \r\nL 195.628524 22.231364 \r\nL 195.933193 17.083636 \r\nL 198.370539 17.083636 \r\nL 198.675207 29.438182 \r\nL 198.979876 50.029091 \r\nL 199.284544 17.083636 \r\nL 201.417222 17.083636 \r\nL 201.72189 42.822273 \r\nL 202.026559 17.083636 \r\nL 202.635895 17.083636 \r\nL 202.940564 46.940455 \r\nL 203.245232 17.083636 \r\nL 203.5499 18.113182 \r\nL 203.854568 17.083636 \r\nL 204.463905 17.083636 \r\nL 204.768573 45.910909 \r\nL 205.073242 20.172273 \r\nL 205.37791 17.083636 \r\nL 209.03393 17.083636 \r\nL 209.338598 25.32 \r\nL 209.643266 17.083636 \r\nL 210.861939 17.083636 \r\nL 211.166608 38.704091 \r\nL 211.471276 17.083636 \r\nL 212.385281 17.083636 \r\nL 212.689949 18.113182 \r\nL 212.994618 17.083636 \r\nL 213.908623 17.083636 \r\nL 214.213291 20.172273 \r\nL 214.517959 17.083636 \r\nL 216.345969 17.083636 \r\nL 216.650637 30.467727 \r\nL 216.955306 17.083636 \r\nL 217.564642 17.083636 \r\nL 217.869311 46.940455 \r\nL 218.173979 17.083636 \r\nL 221.52533 17.083636 \r\nL 221.829998 27.379091 \r\nL 222.134667 17.083636 \r\nL 222.439335 26.349545 \r\nL 222.744003 17.083636 \r\nL 223.048672 17.083636 \r\nL 223.35334 33.556364 \r\nL 223.658008 17.083636 \r\nL 224.572013 17.083636 \r\nL 224.876682 37.674545 \r\nL 225.18135 17.083636 \r\nL 226.095355 17.083636 \r\nL 226.400023 39.733636 \r\nL 226.704691 17.083636 \r\nL 227.00936 17.083636 \r\nL 227.314028 30.467727 \r\nL 227.618696 17.083636 \r\nL 232.493389 17.083636 \r\nL 232.798057 21.201818 \r\nL 233.102726 17.083636 \r\nL 235.84474 17.083636 \r\nL 236.149409 32.526818 \r\nL 236.454077 30.467727 \r\nL 236.758745 17.083636 \r\nL 239.805428 17.083636 \r\nL 240.110097 29.438182 \r\nL 240.414765 17.083636 \r\nL 241.32877 17.083636 \r\nL 241.633438 33.556364 \r\nL 241.938107 17.083636 \r\nL 246.508131 17.083636 \r\nL 246.812799 35.615455 \r\nL 247.117468 17.083636 \r\nL 247.726804 17.083636 \r\nL 248.031473 25.32 \r\nL 248.336141 17.083636 \r\nL 249.250146 17.083636 \r\nL 249.554814 21.201818 \r\nL 249.859482 17.083636 \r\nL 250.468819 17.083636 \r\nL 250.773487 18.113182 \r\nL 251.078156 17.083636 \r\nL 252.906166 17.083636 \r\nL 253.210834 28.408636 \r\nL 253.515502 17.083636 \r\nL 254.124839 24.290455 \r\nL 254.429507 17.083636 \r\nL 255.64818 17.083636 \r\nL 255.952849 23.260909 \r\nL 256.257517 23.260909 \r\nL 256.562185 18.113182 \r\nL 256.866854 17.083636 \r\nL 257.171522 32.526818 \r\nL 257.47619 21.201818 \r\nL 257.780858 17.083636 \r\nL 258.390195 17.083636 \r\nL 258.694863 19.142727 \r\nL 259.3042 17.083636 \r\nL 259.608868 25.32 \r\nL 259.913537 17.083636 \r\nL 262.655551 17.083636 \r\nL 262.96022 33.556364 \r\nL 263.264888 17.083636 \r\nL 265.092898 17.083636 \r\nL 265.397566 35.615455 \r\nL 265.702234 35.615455 \r\nL 266.006903 17.083636 \r\nL 267.530244 17.083636 \r\nL 267.834912 36.645 \r\nL 268.139581 17.083636 \r\nL 272.100269 17.083636 \r\nL 272.404937 28.408636 \r\nL 272.709605 17.083636 \r\nL 273.014274 17.083636 \r\nL 273.318942 35.615455 \r\nL 273.62361 17.083636 \r\nL 273.928279 23.260909 \r\nL 274.232947 17.083636 \r\nL 279.10764 17.083636 \r\nL 279.412308 18.113182 \r\nL 279.716976 17.083636 \r\nL 280.630981 17.083636 \r\nL 280.93565 21.201818 \r\nL 281.240318 17.083636 \r\nL 282.154323 17.083636 \r\nL 282.458991 20.172273 \r\nL 282.763659 17.083636 \r\nL 283.068328 42.822273 \r\nL 283.372996 17.083636 \r\nL 283.677664 45.910909 \r\nL 283.982333 17.083636 \r\nL 284.287001 17.083636 \r\nL 284.591669 19.142727 \r\nL 284.896338 17.083636 \r\nL 285.505674 17.083636 \r\nL 285.810342 24.290455 \r\nL 286.115011 17.083636 \r\nL 286.419679 21.201818 \r\nL 286.724347 17.083636 \r\nL 287.029016 32.526818 \r\nL 287.333684 17.083636 \r\nL 298.91108 17.083636 \r\nL 299.215748 20.172273 \r\nL 299.520416 17.083636 \r\nL 301.348426 17.083636 \r\nL 301.653094 33.556364 \r\nL 301.957763 17.083636 \r\nL 302.567099 17.083636 \r\nL 302.871768 27.379091 \r\nL 303.176436 17.083636 \r\nL 303.481104 17.083636 \r\nL 303.785772 21.201818 \r\nL 304.090441 17.083636 \r\nL 306.527787 17.083636 \r\nL 306.832455 26.349545 \r\nL 307.137124 17.083636 \r\nL 308.051129 17.083636 \r\nL 308.355797 35.615455 \r\nL 308.660465 17.083636 \r\nL 309.879139 17.083636 \r\nL 310.183807 42.822273 \r\nL 310.488475 17.083636 \r\nL 310.793143 35.615455 \r\nL 311.097812 34.585909 \r\nL 311.40248 17.083636 \r\nL 311.707148 40.763182 \r\nL 312.011817 17.083636 \r\nL 313.23049 17.083636 \r\nL 313.535158 18.113182 \r\nL 313.839826 17.083636 \r\nL 314.144495 17.083636 \r\nL 314.449163 24.290455 \r\nL 314.753831 17.083636 \r\nL 315.0585 17.083636 \r\nL 315.363168 30.467727 \r\nL 315.667836 17.083636 \r\nL 316.581841 17.083636 \r\nL 316.88651 23.260909 \r\nL 317.191178 17.083636 \r\nL 317.495846 18.113182 \r\nL 317.800514 17.083636 \r\nL 318.409851 17.083636 \r\nL 318.714519 39.733636 \r\nL 319.019188 17.083636 \r\nL 322.370539 17.083636 \r\nL 322.675207 23.260909 \r\nL 322.979876 17.083636 \r\nL 323.284544 17.083636 \r\nL 323.589212 39.733636 \r\nL 323.893881 17.083636 \r\nL 324.807885 17.083636 \r\nL 325.112554 50.029091 \r\nL 325.417222 17.083636 \r\nL 325.72189 17.083636 \r\nL 326.026559 21.201818 \r\nL 326.331227 17.083636 \r\nL 331.20592 17.083636 \r\nL 331.510588 25.32 \r\nL 331.815256 25.32 \r\nL 332.119925 38.704091 \r\nL 332.424593 23.260909 \r\nL 332.729261 17.083636 \r\nL 334.252603 17.083636 \r\nL 334.557271 28.408636 \r\nL 334.861939 24.290455 \r\nL 335.166608 17.083636 \r\nL 335.471276 17.083636 \r\nL 335.775944 22.231364 \r\nL 336.080613 17.083636 \r\nL 336.385281 17.083636 \r\nL 336.689949 29.438182 \r\nL 336.994618 17.083636 \r\nL 337.299286 51.058636 \r\nL 337.603954 17.083636 \r\nL 337.908623 17.083636 \r\nL 338.213291 21.201818 \r\nL 338.517959 17.083636 \r\nL 338.822627 17.083636 \r\nL 339.127296 26.349545 \r\nL 339.431964 17.083636 \r\nL 344.915994 17.083636 \r\nL 345.220662 35.615455 \r\nL 345.52533 17.083636 \r\nL 347.35334 17.083636 \r\nL 347.658008 42.822273 \r\nL 347.962677 17.083636 \r\nL 354.970048 17.083636 \r\nL 355.274716 19.142727 \r\nL 355.579384 17.083636 \r\nL 355.884053 21.201818 \r\nL 356.188721 17.083636 \r\nL 357.407394 17.083636 \r\nL 357.712062 33.556364 \r\nL 358.016731 17.083636 \r\nL 361.368082 17.083636 \r\nL 361.67275 36.645 \r\nL 361.977419 17.083636 \r\nL 363.50076 17.083636 \r\nL 363.805428 35.615455 \r\nL 364.110097 17.083636 \r\nL 366.547443 17.083636 \r\nL 366.547443 17.083636 \r\n\" style=\"fill:none;stroke:#1f77b4;stroke-linecap:square;stroke-width:1.5;\"/>\r\n   </g>\r\n   <g id=\"patch_3\">\r\n    <path d=\"M 46.965625 224.64 \r\nL 46.965625 7.2 \r\n\" style=\"fill:none;stroke:#000000;stroke-linecap:square;stroke-linejoin:miter;stroke-width:0.8;\"/>\r\n   </g>\r\n   <g id=\"patch_4\">\r\n    <path d=\"M 381.765625 224.64 \r\nL 381.765625 7.2 \r\n\" style=\"fill:none;stroke:#000000;stroke-linecap:square;stroke-linejoin:miter;stroke-width:0.8;\"/>\r\n   </g>\r\n   <g id=\"patch_5\">\r\n    <path d=\"M 46.965625 224.64 \r\nL 381.765625 224.64 \r\n\" style=\"fill:none;stroke:#000000;stroke-linecap:square;stroke-linejoin:miter;stroke-width:0.8;\"/>\r\n   </g>\r\n   <g id=\"patch_6\">\r\n    <path d=\"M 46.965625 7.2 \r\nL 381.765625 7.2 \r\n\" style=\"fill:none;stroke:#000000;stroke-linecap:square;stroke-linejoin:miter;stroke-width:0.8;\"/>\r\n   </g>\r\n  </g>\r\n </g>\r\n <defs>\r\n  <clipPath id=\"pb5d4089969\">\r\n   <rect height=\"217.44\" width=\"334.8\" x=\"46.965625\" y=\"7.2\"/>\r\n  </clipPath>\r\n </defs>\r\n</svg>\r\n",
      "image/png": "[encoded data removed]"
     },
     "metadata": {
      "needs_background": "light"
     }
    }
   ],
   "source": [
    "plt.plot(total_rewards)\n",
    "plt.xlabel(\"Iteration\")\n",
    "plt.ylabel(\"Reward\")\n",
    "plt.show()"
   ]
  },
  {
   "source": [
    "## Learner: Policy Gradients\n",
    "Model weights move in direction of the gradient (Similar to what happens in neural networks)"
   ],
   "cell_type": "markdown",
   "metadata": {}
  },
  {
   "cell_type": "code",
   "execution_count": 69,
   "metadata": {},
   "outputs": [],
   "source": [
    "import torch.nn as nn\n",
    "\n",
    "def run_episode(env, weight):\n",
    "    state = env.reset()\n",
    "    grads = []\n",
    "    reward = 0\n",
    "    is_done = False\n",
    "    softmax = nn.Softmax(dim=0)\n",
    "    while not is_done:\n",
    "        state = torch.from_numpy(state).float()\n",
    "        z = torch.matmul(state, weight)\n",
    "        proba = softmax(z)\n",
    "        print(z, proba)\n",
    "        # action = \n",
    "        is_done = True"
   ]
  },
  {
   "cell_type": "code",
   "execution_count": 81,
   "metadata": {},
   "outputs": [
    {
     "output_type": "stream",
     "name": "stdout",
     "text": [
      "tensor([-0.0006,  0.0234]) tensor([0.4940, 0.5060])\n"
     ]
    }
   ],
   "source": [
    "run_episode(env, torch.rand(num_states, num_actions))"
   ]
  },
  {
   "cell_type": "code",
   "execution_count": null,
   "metadata": {},
   "outputs": [],
   "source": []
  }
 ]
}